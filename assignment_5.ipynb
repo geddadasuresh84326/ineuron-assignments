{
 "cells": [
  {
   "cell_type": "markdown",
   "id": "b3f6a19a",
   "metadata": {},
   "source": [
    "## 1. What does an empty dictionary's code look like?\n",
    "\n",
    "\n"
   ]
  },
  {
   "cell_type": "code",
   "execution_count": 1,
   "id": "3d42765f",
   "metadata": {},
   "outputs": [
    {
     "data": {
      "text/plain": [
       "dict"
      ]
     },
     "execution_count": 1,
     "metadata": {},
     "output_type": "execute_result"
    }
   ],
   "source": [
    "dict = {}\n",
    "type(dict)"
   ]
  },
  {
   "cell_type": "markdown",
   "id": "1b89fbce",
   "metadata": {},
   "source": [
    "## 2. What is the value of a dictionary value with the key 'foo' and the value 42?\n"
   ]
  },
  {
   "cell_type": "code",
   "execution_count": 4,
   "id": "a9939361",
   "metadata": {},
   "outputs": [
    {
     "name": "stdout",
     "output_type": "stream",
     "text": [
      "{'foo': 42}\n",
      "42\n"
     ]
    }
   ],
   "source": [
    "dict1 = {'foo':42}\n",
    "print(dict1)\n",
    "print(dict1.get('foo'))"
   ]
  },
  {
   "cell_type": "markdown",
   "id": "d7c7afaf",
   "metadata": {},
   "source": [
    "## 3. What is the most significant distinction between a dictionary and a list?\n",
    "#### Ans :- \n",
    "- dictionary can hold key-value pairs\n",
    "- list can only hold values\n"
   ]
  },
  {
   "cell_type": "markdown",
   "id": "8f55d101",
   "metadata": {},
   "source": [
    "## 4. What happens if you try to access spam['foo'] if spam is {'bar': 100}?\n",
    "### Ans :- \n",
    "- It returns KeyError"
   ]
  },
  {
   "cell_type": "code",
   "execution_count": 5,
   "id": "0fd7a9b6",
   "metadata": {},
   "outputs": [
    {
     "ename": "KeyError",
     "evalue": "'foo'",
     "output_type": "error",
     "traceback": [
      "\u001b[1;31m---------------------------------------------------------------------------\u001b[0m",
      "\u001b[1;31mKeyError\u001b[0m                                  Traceback (most recent call last)",
      "Cell \u001b[1;32mIn[5], line 2\u001b[0m\n\u001b[0;32m      1\u001b[0m spam \u001b[38;5;241m=\u001b[39m {\u001b[38;5;124m'\u001b[39m\u001b[38;5;124mbar\u001b[39m\u001b[38;5;124m'\u001b[39m:\u001b[38;5;241m100\u001b[39m}\n\u001b[1;32m----> 2\u001b[0m \u001b[43mspam\u001b[49m\u001b[43m[\u001b[49m\u001b[38;5;124;43m'\u001b[39;49m\u001b[38;5;124;43mfoo\u001b[39;49m\u001b[38;5;124;43m'\u001b[39;49m\u001b[43m]\u001b[49m\n",
      "\u001b[1;31mKeyError\u001b[0m: 'foo'"
     ]
    }
   ],
   "source": [
    "spam = {'bar':100}\n",
    "spam['foo']"
   ]
  },
  {
   "cell_type": "markdown",
   "id": "74ae1758",
   "metadata": {},
   "source": [
    "## 5. If a dictionary is stored in spam, what is the difference between the expressions 'cat' in spam and 'cat' in spam.keys()?\n",
    "### Ans :- \n",
    "- Both are same\n",
    "- 'cat' in spam ,checks if there is any key called 'cat' in the dictionary\n",
    "- 'cat' in spam.keys() ,checks if there is any key called 'cat' in the dictionary"
   ]
  },
  {
   "cell_type": "code",
   "execution_count": 8,
   "id": "8f7b0eaa",
   "metadata": {},
   "outputs": [
    {
     "name": "stdout",
     "output_type": "stream",
     "text": [
      "False\n",
      "False\n"
     ]
    }
   ],
   "source": [
    "spam = {'a':'cat'}\n",
    "print('cat' in spam)\n",
    "print('cat' in spam.keys())\n"
   ]
  },
  {
   "cell_type": "markdown",
   "id": "971f70ed",
   "metadata": {},
   "source": [
    "## 6. If a dictionary is stored in spam, what is the difference between the expressions 'cat' in spam and 'cat' in spam.values()?\n",
    "### Ans :- \n",
    "- 'cat' in spam ,checks if there is any key called 'cat' in the dictionary\n",
    "- 'cat' in spam.values() ,checks if there is any value called 'cat' in the dictionary"
   ]
  },
  {
   "cell_type": "code",
   "execution_count": 9,
   "id": "36fb3922",
   "metadata": {},
   "outputs": [
    {
     "name": "stdout",
     "output_type": "stream",
     "text": [
      "False\n",
      "True\n"
     ]
    }
   ],
   "source": [
    "spam = {'a':'cat'}\n",
    "print('cat' in spam)\n",
    "print('cat' in spam.values())"
   ]
  },
  {
   "cell_type": "markdown",
   "id": "e7a3fc9e",
   "metadata": {},
   "source": [
    "\n",
    "## 7. What is a shortcut for the following code? if 'color' not in spam: spam['color'] = 'black'\n"
   ]
  },
  {
   "cell_type": "code",
   "execution_count": 10,
   "id": "c0a1b9d8",
   "metadata": {},
   "outputs": [
    {
     "name": "stdout",
     "output_type": "stream",
     "text": [
      "{'a': 'cat', 'color': 'black'}\n"
     ]
    }
   ],
   "source": [
    "spam.setdefault('color','black')\n",
    "print(spam)"
   ]
  },
  {
   "cell_type": "markdown",
   "id": "f403c6f6",
   "metadata": {},
   "source": [
    "## 8. How do you \"pretty print\" dictionary values using which module and function?"
   ]
  },
  {
   "cell_type": "code",
   "execution_count": 12,
   "id": "3ec35aa9",
   "metadata": {},
   "outputs": [],
   "source": [
    "pprint.pprint()"
   ]
  }
 ],
 "metadata": {
  "kernelspec": {
   "display_name": "Python 3 (ipykernel)",
   "language": "python",
   "name": "python3"
  },
  "language_info": {
   "codemirror_mode": {
    "name": "ipython",
    "version": 3
   },
   "file_extension": ".py",
   "mimetype": "text/x-python",
   "name": "python",
   "nbconvert_exporter": "python",
   "pygments_lexer": "ipython3",
   "version": "3.10.9"
  }
 },
 "nbformat": 4,
 "nbformat_minor": 5
}
