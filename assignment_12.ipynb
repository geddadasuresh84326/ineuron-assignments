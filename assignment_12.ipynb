{
 "cells": [
  {
   "cell_type": "markdown",
   "id": "1abdf7ca",
   "metadata": {},
   "source": [
    "## 1. In what modes should the PdfFileReader() and PdfFileWriter() File objects will be opened?\n",
    "### Ans :-\n",
    "- Read-binary ('rb') for PdfFileReader() and write-binary ('wb') for PdfFileWriter()"
   ]
  },
  {
   "cell_type": "markdown",
   "id": "27238601",
   "metadata": {},
   "source": [
    "## 2. From a PdfFileReader object, how do you get a Page object for page 5?\n",
    "### Ans :-\n",
    "- Calling getPage(4) will return a Page object for About this Book, since page 0 is the first page."
   ]
  },
  {
   "cell_type": "markdown",
   "id": "fac5f35c",
   "metadata": {},
   "source": [
    "## 3. What PdfFileReader variable stores the number of pages in the PDF document?\n",
    "### Ans :-\n",
    "- The numPages variable stores an integer of the number of pages in the PdfFileReader object."
   ]
  },
  {
   "cell_type": "markdown",
   "id": "104630b9",
   "metadata": {},
   "source": [
    "## 4. If a PdfFileReader object’s PDF is encrypted with the password swordfish, what must you do before you can obtain Page objects from it?\n",
    "### Ans :-\n",
    "- Call decrypt('swordfish')"
   ]
  },
  {
   "cell_type": "markdown",
   "id": "639c5687",
   "metadata": {},
   "source": [
    "## 5. What methods do you use to rotate a page?\n",
    "### Ans :-\n",
    "- A page can be rotated clockwise, by 90 degrees, when displayed or printed. The Page. GetRotation() method returns the Page. Rotate enum specifying the current rotation."
   ]
  },
  {
   "cell_type": "markdown",
   "id": "177ff57e",
   "metadata": {},
   "source": [
    "## 6. What is the difference between a Run object and a Paragraph object?\n",
    "### Ans :-\n",
    "- Paragraph Object : A document contains multiple paragraphs. A paragraph begins on a new line and contains multiple runs. The Document object contains a list of Paragraph objects for the paragraphs in the document. (A new paragraph begins whenever the user presses ENTER or RETURN while typing in a Word document.)\n",
    "- Run Objects : Runs are contiguous groups of characters within a paragraph with the same style"
   ]
  },
  {
   "cell_type": "markdown",
   "id": "3e8243a7",
   "metadata": {},
   "source": [
    "## 7. How do you obtain a list of Paragraph objects for a Document object that’s stored in a variable named doc?\n",
    "### Ans :-\n"
   ]
  },
  {
   "cell_type": "code",
   "execution_count": null,
   "id": "d110e0c0",
   "metadata": {},
   "outputs": [],
   "source": [
    "# pip install python-docx\n",
    "import docx\n",
    "doc = docx.Document('abc.docx')\n",
    "doc.paragraphs\n",
    "#By using doc.paragraphs"
   ]
  },
  {
   "cell_type": "markdown",
   "id": "4d77bdd5",
   "metadata": {},
   "source": [
    "## 8. What type of object has bold, underline, italic, strike, and outline variables?\n",
    "### Ans :-\n",
    "- A Run object has bold, underline,italic,strike and outline variables"
   ]
  },
  {
   "cell_type": "markdown",
   "id": "953cbfb5",
   "metadata": {},
   "source": [
    "## 9. What is the difference between False, True, and None for the bold variable?\n",
    "### Ans :-\n",
    "- Runs can be further styled using text attributes. Each attribute can be set to one of three values:\n",
    "- True (the attribute is always enabled, no matter what other styles are applied to the run),\n",
    "- False (the attribute is always disabled),\n",
    "- None (defaults to whatever the run’s style is set to)\n",
    "\n",
    "- True always makes the Run object bolded and False makes it always not bolded, no matter what the style’s bold setting is. None will make the Run object just use the style’s bold setting"
   ]
  },
  {
   "cell_type": "markdown",
   "id": "bb83b422",
   "metadata": {},
   "source": [
    "## 10. How do you create a Document object for a new Word document?\n",
    "### Ans :-\n",
    "- By Calling the docx.Document() function."
   ]
  },
  {
   "cell_type": "markdown",
   "id": "d59ec53f",
   "metadata": {},
   "source": [
    "## 11. How do you add a paragraph with the text &#39;Hello, there!&#39; to a Document object stored in a variable named doc?\n",
    "### Ans :-\n"
   ]
  },
  {
   "cell_type": "code",
   "execution_count": null,
   "id": "d400bec1",
   "metadata": {},
   "outputs": [],
   "source": [
    "import docx\n",
    "doc = docx.Document()\n",
    "\n",
    "doc.add_paragraph('Hello there!')\n",
    "doc.save('hellothere.docx')\n",
    "     "
   ]
  },
  {
   "cell_type": "markdown",
   "id": "90661001",
   "metadata": {},
   "source": [
    "## 12. What integers represent the levels of headings available in Word documents?\n",
    "### Ans :-\n",
    "- integer from 0 to 4\n",
    "- The arguments to add_heading() are a string of the heading text and an integer from 0 to 4. The integer 0 makes the heading the Title style, which is used for the top of the document. Integers 1 to 4 are for various heading levels, with 1 being the main heading and 4 the lowest subheading"
   ]
  }
 ],
 "metadata": {
  "kernelspec": {
   "display_name": "Python 3 (ipykernel)",
   "language": "python",
   "name": "python3"
  },
  "language_info": {
   "codemirror_mode": {
    "name": "ipython",
    "version": 3
   },
   "file_extension": ".py",
   "mimetype": "text/x-python",
   "name": "python",
   "nbconvert_exporter": "python",
   "pygments_lexer": "ipython3",
   "version": "3.10.9"
  }
 },
 "nbformat": 4,
 "nbformat_minor": 5
}
