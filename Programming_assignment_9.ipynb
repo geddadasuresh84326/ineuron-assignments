{
 "cells": [
  {
   "cell_type": "markdown",
   "id": "de113179",
   "metadata": {},
   "source": [
    "## 1. Write a Python program to check if the given number is a Disarium Number?\n"
   ]
  },
  {
   "cell_type": "code",
   "execution_count": 5,
   "id": "ed47d764",
   "metadata": {},
   "outputs": [
    {
     "name": "stdout",
     "output_type": "stream",
     "text": [
      "disarium\n"
     ]
    }
   ],
   "source": [
    "def calculateLength(n):    \n",
    "    length = 0  \n",
    "    while(n != 0):    \n",
    "        length = length + 1 \n",
    "        n = n//10    \n",
    "    return length\n",
    "\n",
    "def disarium(n):\n",
    "    temp = n\n",
    "    sum = 0\n",
    "    length = calculateLength(temp)\n",
    "    while(temp > 0):\n",
    "        \n",
    "        rem = temp % 10\n",
    "        sum += rem ** length\n",
    "        temp //= 10\n",
    "        length -=1\n",
    "    if(n == sum):\n",
    "        return \"disarium\"\n",
    "    else:\n",
    "        return \"not disarium\"\n",
    "print(disarium(175))"
   ]
  },
  {
   "cell_type": "markdown",
   "id": "48bcee47",
   "metadata": {},
   "source": [
    "## 2. Write a Python program to print all disarium numbers between 1 to 100?\n"
   ]
  },
  {
   "cell_type": "code",
   "execution_count": 11,
   "id": "bcb2a808",
   "metadata": {},
   "outputs": [
    {
     "name": "stdout",
     "output_type": "stream",
     "text": [
      "[1, 2, 3, 4, 5, 6, 7, 8, 9, 89]\n"
     ]
    }
   ],
   "source": [
    "def calculateLength(n):    \n",
    "    length = 0  \n",
    "    while(n != 0):    \n",
    "        length = length + 1 \n",
    "        n = n//10    \n",
    "    return length\n",
    "\n",
    "def disarium(n):\n",
    "    temp = n\n",
    "    sum = 0\n",
    "    length = calculateLength(temp)\n",
    "    while(temp > 0):\n",
    "        \n",
    "        rem = temp % 10\n",
    "        sum += rem ** length\n",
    "        temp //= 10\n",
    "        length -=1\n",
    "    if(n == sum):\n",
    "        return True\n",
    "    else:\n",
    "        return False\n",
    "disariums = []\n",
    "for i in range(1,100):\n",
    "    if(disarium(i)):\n",
    "        disariums.append(i)\n",
    "print(disariums)"
   ]
  },
  {
   "cell_type": "markdown",
   "id": "8cb3c18c",
   "metadata": {},
   "source": [
    "## 3. Write a Python program to check if the given number is Happy Number?\n"
   ]
  },
  {
   "cell_type": "code",
   "execution_count": 1,
   "id": "27ed7c99",
   "metadata": {},
   "outputs": [
    {
     "name": "stdout",
     "output_type": "stream",
     "text": [
      "82 is a happy number\n"
     ]
    }
   ],
   "source": [
    "def isHappyNumber(num):    \n",
    "    rem = sum = 0    \n",
    "        \n",
    "    while(num > 0):    \n",
    "        rem = num%10    \n",
    "        sum = sum + (rem*rem)    \n",
    "        num = num//10    \n",
    "    return sum    \n",
    "        \n",
    "num = 82    \n",
    "result = num    \n",
    "     \n",
    "while(result != 1 and result != 4):    \n",
    "    result = isHappyNumber(result)    \n",
    "     \n",
    "if(result == 1):    \n",
    "    print(str(num) + \" is a happy number\")    \n",
    "elif(result == 4):    \n",
    "    print(str(num) + \" is not a happy number\")"
   ]
  },
  {
   "cell_type": "markdown",
   "id": "377186b7",
   "metadata": {},
   "source": [
    "## 4. Write a Python program to print all happy numbers between 1 and 100?\n"
   ]
  },
  {
   "cell_type": "code",
   "execution_count": 3,
   "id": "865e977c",
   "metadata": {},
   "outputs": [
    {
     "name": "stdout",
     "output_type": "stream",
     "text": [
      "[1, 7, 10, 13, 19, 23, 28, 31, 32, 44, 49, 68, 70, 79, 82, 86, 91, 94, 97]\n"
     ]
    }
   ],
   "source": [
    "def isHappyNumber(num):    \n",
    "    rem = sum = 0    \n",
    "        \n",
    "    while(num > 0):    \n",
    "        rem = num%10    \n",
    "        sum = sum + (rem*rem)    \n",
    "        num = num//10   \n",
    "    return sum  \n",
    "lst = []\n",
    "for i in range(1,100):\n",
    "    result = i;   \n",
    "     \n",
    "    while(result != 1 and result != 4):    \n",
    "        result = isHappyNumber(result)    \n",
    "    if(result == 1):\n",
    "        lst.append(i)\n",
    "print(lst)\n",
    "    "
   ]
  },
  {
   "cell_type": "markdown",
   "id": "fb5757d0",
   "metadata": {},
   "source": [
    "## 5. Write a Python program to determine whether the given number is a Harshad Number?\n"
   ]
  },
  {
   "cell_type": "code",
   "execution_count": 4,
   "id": "d7618b4e",
   "metadata": {},
   "outputs": [
    {
     "name": "stdout",
     "output_type": "stream",
     "text": [
      "156 is a harshad number\n"
     ]
    }
   ],
   "source": [
    "num = 156;    \n",
    "rem = sum = 0;    \n",
    "     \n",
    "n = num;    \n",
    "     \n",
    "while(num > 0):    \n",
    "    rem = num%10;    \n",
    "    sum = sum + rem;    \n",
    "    num = num//10;    \n",
    "     \n",
    "if(n%sum == 0):    \n",
    "    print(str(n) + \" is a harshad number\");    \n",
    "else:    \n",
    "    print(str(n) + \" is not a harshad number\");    "
   ]
  },
  {
   "cell_type": "markdown",
   "id": "caddd51e",
   "metadata": {},
   "source": [
    "## 6. Write a Python program to print all pronic numbers between 1 and 100?"
   ]
  },
  {
   "cell_type": "code",
   "execution_count": 6,
   "id": "7f8477da",
   "metadata": {},
   "outputs": [
    {
     "name": "stdout",
     "output_type": "stream",
     "text": [
      "Pronic numbers between 1 and 100: \n",
      "[2, 6, 12, 20, 30, 42, 56, 72, 90]\n"
     ]
    }
   ],
   "source": [
    "def isPronicNumber(num):    \n",
    "    flag = False;    \n",
    "        \n",
    "    for j in range(1, num+1):    \n",
    "        if((j*(j+1)) == num):    \n",
    "            flag = True;    \n",
    "            break;    \n",
    "    return flag;    \n",
    "     \n",
    "print(\"Pronic numbers between 1 and 100: \"); \n",
    "lst = []\n",
    "for i in range(1, 101):    \n",
    "    if(isPronicNumber(i)):    \n",
    "        lst.append(i)\n",
    "print(lst)"
   ]
  }
 ],
 "metadata": {
  "kernelspec": {
   "display_name": "Python 3 (ipykernel)",
   "language": "python",
   "name": "python3"
  },
  "language_info": {
   "codemirror_mode": {
    "name": "ipython",
    "version": 3
   },
   "file_extension": ".py",
   "mimetype": "text/x-python",
   "name": "python",
   "nbconvert_exporter": "python",
   "pygments_lexer": "ipython3",
   "version": "3.10.9"
  }
 },
 "nbformat": 4,
 "nbformat_minor": 5
}
