{
 "cells": [
  {
   "cell_type": "markdown",
   "id": "40dacf0d",
   "metadata": {},
   "source": [
    "## 1. Write a Python Program to find sum of array?\n"
   ]
  },
  {
   "cell_type": "code",
   "execution_count": 3,
   "id": "8fd12bfa",
   "metadata": {},
   "outputs": [
    {
     "name": "stdout",
     "output_type": "stream",
     "text": [
      "93\n"
     ]
    }
   ],
   "source": [
    "def sum_of_array(arr):\n",
    "    sum = 0\n",
    "    for i in arr:\n",
    "        sum +=i\n",
    "    return sum\n",
    "print(sum_of_array([1,2,3,10,24,53]))"
   ]
  },
  {
   "cell_type": "markdown",
   "id": "14278f14",
   "metadata": {},
   "source": [
    "## 2. Write a Python Program to find largest element in an array?\n"
   ]
  },
  {
   "cell_type": "code",
   "execution_count": 6,
   "id": "d3bc48bc",
   "metadata": {},
   "outputs": [
    {
     "name": "stdout",
     "output_type": "stream",
     "text": [
      "25\n"
     ]
    }
   ],
   "source": [
    "def largest_in_arr(arr):\n",
    "    arr.sort()\n",
    "    return arr[-1]\n",
    "\n",
    "print(largest_in_arr([12,9,-34,25,-54,0]))"
   ]
  },
  {
   "cell_type": "markdown",
   "id": "410774e2",
   "metadata": {},
   "source": [
    "## 3. Write a Python Program for array rotation?\n"
   ]
  },
  {
   "cell_type": "code",
   "execution_count": 8,
   "id": "18031c20",
   "metadata": {},
   "outputs": [
    {
     "name": "stdout",
     "output_type": "stream",
     "text": [
      "Array after left rotation is:  [3, 4, 5, 6, 7, 1, 2]\n"
     ]
    }
   ],
   "source": [
    "def rotateArray(arr,d):\n",
    "    temp_arr = []\n",
    "    n=len(arr)\n",
    "    for i in range(d,n):\n",
    "        temp_arr.append(arr[i])\n",
    "    i = 0\n",
    "    for i in range (0,d):\n",
    "        temp_arr.append(arr[i])\n",
    "    arr=temp_arr.copy()\n",
    "    return arr\n",
    " \n",
    "arr = [1, 2, 3, 4, 5, 6, 7]\n",
    "print(\"Array after left rotation is: \", end=' ')\n",
    "print(rotateArray(arr, 2))"
   ]
  },
  {
   "cell_type": "markdown",
   "id": "722deaae",
   "metadata": {},
   "source": [
    "## 4. Write a Python Program to Split the array and add the first part to the end?"
   ]
  },
  {
   "cell_type": "code",
   "execution_count": 1,
   "id": "71cc56cf",
   "metadata": {},
   "outputs": [
    {
     "name": "stdout",
     "output_type": "stream",
     "text": [
      "5 6 52 36 12 10 "
     ]
    }
   ],
   "source": [
    "def splitArr(arr, n, k):\n",
    "    for i in range(0, k):\n",
    "        x = arr[0]\n",
    "        for j in range(0, n-1):\n",
    "            arr[j] = arr[j + 1]\n",
    " \n",
    "        arr[n-1] = x\n",
    " \n",
    " \n",
    "# main\n",
    "arr = [12, 10, 5, 6, 52, 36]\n",
    "n = len(arr)\n",
    "position = 2\n",
    " \n",
    "splitArr(arr, n, position)\n",
    " \n",
    "for i in range(0, n):\n",
    "    print(arr[i], end=' ')"
   ]
  },
  {
   "cell_type": "markdown",
   "id": "6236638f",
   "metadata": {},
   "source": [
    "## 5. Write a Python Program to check if given array is Monotonic?"
   ]
  },
  {
   "cell_type": "code",
   "execution_count": 5,
   "id": "1e3f44b5",
   "metadata": {},
   "outputs": [
    {
     "name": "stdout",
     "output_type": "stream",
     "text": [
      "True\n"
     ]
    }
   ],
   "source": [
    "def isMonotonic(A):\n",
    "    x, y = [], []\n",
    "    x.extend(A)\n",
    "    y.extend(A)\n",
    "    x.sort()\n",
    "    y.sort(reverse=True)\n",
    "    if(x == A or y == A):\n",
    "        return True\n",
    "    return False\n",
    "\n",
    "A = [19,15,12,-1]\n",
    "\n",
    "print(isMonotonic(A))"
   ]
  }
 ],
 "metadata": {
  "kernelspec": {
   "display_name": "Python 3 (ipykernel)",
   "language": "python",
   "name": "python3"
  },
  "language_info": {
   "codemirror_mode": {
    "name": "ipython",
    "version": 3
   },
   "file_extension": ".py",
   "mimetype": "text/x-python",
   "name": "python",
   "nbconvert_exporter": "python",
   "pygments_lexer": "ipython3",
   "version": "3.10.9"
  }
 },
 "nbformat": 4,
 "nbformat_minor": 5
}
