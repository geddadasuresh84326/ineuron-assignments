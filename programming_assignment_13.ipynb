{
 "cells": [
  {
   "cell_type": "markdown",
   "id": "a27fbb90",
   "metadata": {},
   "source": [
    "## Question 1:\n",
    "- Write a program that calculates and prints the value according to the given formula:\n",
    "- Q = Square root of [(2 * C * D)/H]\n",
    "- Following are the fixed values of C and H:\n",
    "- C is 50. H is 30.\n",
    "- D is the variable whose values should be input to your program in a comma-separated sequence.\n",
    "- Example\n",
    "- Let us assume the following comma separated input sequence is given to the program:\n",
    "- 100,150,180\n",
    "- The output of the program should be:\n",
    "- 18,22,24\n"
   ]
  },
  {
   "cell_type": "code",
   "execution_count": 6,
   "id": "3db6cae2",
   "metadata": {},
   "outputs": [
    {
     "name": "stdout",
     "output_type": "stream",
     "text": [
      "Enter values : \n",
      "100,150,180\n",
      "18,22,24,"
     ]
    }
   ],
   "source": [
    "import math \n",
    "\n",
    "C = 50 \n",
    "H = 30\n",
    "lst = [int(i) for i in input(\"Enter values : \\n\").split(\",\")]\n",
    "for i in lst:\n",
    "    res = math.floor(math.sqrt((2*C*i)/H))\n",
    "    print(res,end=\",\")"
   ]
  },
  {
   "cell_type": "markdown",
   "id": "5875805b",
   "metadata": {},
   "source": [
    "## Question 2:\n",
    "- Write a program which takes 2 digits, X,Y as input and generates a 2-dimensional array. The element value in the i-th row and j-th column of the array should be i*j.\n",
    "- Note: i=0,1.., X-1; j=0,1,¡Y-1.\n",
    "- Example\n",
    "- Suppose the following inputs are given to the program:\n",
    "- 3,5\n",
    "- Then, the output of the program should be:\n",
    "[[0, 0, 0, 0, 0], [0, 1, 2, 3, 4], [0, 2, 4, 6, 8]]"
   ]
  },
  {
   "cell_type": "code",
   "execution_count": 9,
   "id": "084ab0d0",
   "metadata": {},
   "outputs": [
    {
     "name": "stdout",
     "output_type": "stream",
     "text": [
      "Enter values for row and column number: 3,5\n",
      "[0, 0, 0, 0, 0]\n",
      "[0, 1, 2, 3, 4]\n",
      "[0, 2, 4, 6, 8]\n",
      "\n",
      "[[0, 0, 0, 0, 0], [0, 1, 2, 3, 4], [0, 2, 4, 6, 8]]\n"
     ]
    }
   ],
   "source": [
    "\n",
    "dimensionOfArray = input(\"Enter values for row and column number: \")\n",
    "rows, cols = dimensionOfArray.split(\",\")\n",
    "rows = int(rows)\n",
    "cols = int(cols)\n",
    "\n",
    "grid = []\n",
    "for x in range(rows):\n",
    "    row = []\n",
    "    for y in range(cols):\n",
    "        row.append(x * y)\n",
    "    grid.append(row)\n",
    "    print(row)\n",
    "\n",
    "print()\n",
    "print(grid)"
   ]
  },
  {
   "cell_type": "markdown",
   "id": "e7b25506",
   "metadata": {},
   "source": [
    "## Question 3:\n",
    "- Write a program that accepts a comma separated sequence of words as input and prints the words in a comma-separated sequence after sorting them alphabetically.\n",
    "- Suppose the following input is supplied to the program:\n",
    "- without,hello,bag,world\n",
    "- Then, the output should be:\n",
    "- bag,hello,without,world"
   ]
  },
  {
   "cell_type": "code",
   "execution_count": 13,
   "id": "bd3809da",
   "metadata": {},
   "outputs": [
    {
     "name": "stdout",
     "output_type": "stream",
     "text": [
      "Enter your input : zaheer hasaranga roy\n",
      "['hasaranga', 'roy', 'zaheer']\n"
     ]
    }
   ],
   "source": [
    "str = input(\"Enter your input : \")\n",
    "wordsList = str.split(\" \")\n",
    "wordsList.sort()\n",
    "print(wordsList)"
   ]
  },
  {
   "cell_type": "markdown",
   "id": "919171e6",
   "metadata": {},
   "source": [
    "## Question 4:\n",
    "- Write a program that accepts a sequence of whitespace separated words as input and prints the words after removing all duplicate words and sorting them alphanumerically.\n",
    "- Suppose the following input is supplied to the program:\n",
    "- hello world and practice makes perfect and hello world again\n",
    "- Then, the output should be:\n",
    "- again and hello makes perfect practice world\n"
   ]
  },
  {
   "cell_type": "code",
   "execution_count": 20,
   "id": "ec94f937",
   "metadata": {},
   "outputs": [
    {
     "name": "stdout",
     "output_type": "stream",
     "text": [
      "Enter your input : hello world and practice makes perfect and hello world again\n",
      "again and hello makes perfect practice world\n"
     ]
    }
   ],
   "source": [
    "str = input(\"Enter your input : \")\n",
    "wordsList = str.split(\" \")\n",
    "wordsUncommon = list(set(wordsList))\n",
    "wordsUncommon.sort()\n",
    "print((\" \").join(wordsUncommon))"
   ]
  },
  {
   "cell_type": "markdown",
   "id": "e8c61954",
   "metadata": {},
   "source": [
    "## Question 5:\n",
    "- Write a program that accepts a sentence and calculate the number of letters and digits.\n",
    "- Suppose the following input is supplied to the program:\n",
    "- hello world! 123\n",
    "- Then, the output should be:\n",
    "- LETTERS 10\n",
    "\n",
    "- DIGITS 3"
   ]
  },
  {
   "cell_type": "code",
   "execution_count": 24,
   "id": "22739f49",
   "metadata": {},
   "outputs": [
    {
     "name": "stdout",
     "output_type": "stream",
     "text": [
      "Enter sentence : hello 123\n",
      "LETTERS  5\n",
      "DIGITS  3\n"
     ]
    }
   ],
   "source": [
    "sentence = input(\"Enter sentence : \")\n",
    "letters = 0\n",
    "digits = 0\n",
    "for i in sentence:\n",
    "    if(i.isalpha()):\n",
    "        letters +=1\n",
    "    if(i.isnumeric()):\n",
    "        digits +=1\n",
    "print(\"LETTERS \",letters)\n",
    "print(\"DIGITS \",digits)"
   ]
  },
  {
   "cell_type": "markdown",
   "id": "7fa81a6b",
   "metadata": {},
   "source": [
    "## Question 6:\n",
    "- A website requires the users to input username and password to register. Write a program to check the validity of password input by users.\n",
    "- Following are the criteria for checking the password:\n",
    "- 1. At least 1 letter between [a-z]\n",
    "- 2. At least 1 number between [0-9]\n",
    "- 1. At least 1 letter between [A-Z]\n",
    "- 3. At least 1 character from [$#@]\n",
    "- 4. Minimum length of transaction password: 6\n",
    "- 5. Maximum length of transaction password: 12\n",
    "- Your program should accept a sequence of comma separated passwords and will check them according to the above criteria. Passwords that match the criteria are to be printed, each separated by a comma.\n",
    "- Example\n",
    "- If the following passwords are given as input to the program:\n",
    "- ABd1234@1,a F1#,2w3E*,2We3345\n",
    "- Then, the output of the program should be:\n",
    "- ABd1234@1"
   ]
  },
  {
   "cell_type": "code",
   "execution_count": 27,
   "id": "d897b80a",
   "metadata": {},
   "outputs": [
    {
     "name": "stdout",
     "output_type": "stream",
     "text": [
      "Enter passwords : \n",
      "ABd1234@1,a F1#,2w3E*,2We3345\n",
      "ABd1234@1\n"
     ]
    }
   ],
   "source": [
    "import re\n",
    "\n",
    "passwords = [i for i in input(\"Enter passwords : \\n\").split(\",\")]\n",
    "\n",
    "accepted_pass = []\n",
    "for i in passwords:\n",
    "    \n",
    "    if len(i) < 6 or len(i) > 12:\n",
    "        continue\n",
    "\n",
    "    elif not re.search(\"([a-z])+\", i):\n",
    "        continue\n",
    "\n",
    "    elif not re.search(\"([A-Z])+\", i):\n",
    "        continue\n",
    "\n",
    "    elif not re.search(\"([0-9])+\", i):\n",
    "        continue\n",
    "\n",
    "    elif not re.search(\"([$#@])+\", i):\n",
    "        continue\n",
    "\n",
    "    else:\n",
    "        accepted_pass.append(i)\n",
    "\n",
    "print((\" \").join(accepted_pass))"
   ]
  }
 ],
 "metadata": {
  "kernelspec": {
   "display_name": "Python 3 (ipykernel)",
   "language": "python",
   "name": "python3"
  },
  "language_info": {
   "codemirror_mode": {
    "name": "ipython",
    "version": 3
   },
   "file_extension": ".py",
   "mimetype": "text/x-python",
   "name": "python",
   "nbconvert_exporter": "python",
   "pygments_lexer": "ipython3",
   "version": "3.10.9"
  }
 },
 "nbformat": 4,
 "nbformat_minor": 5
}
