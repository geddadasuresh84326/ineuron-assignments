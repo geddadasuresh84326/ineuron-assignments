{
 "cells": [
  {
   "cell_type": "markdown",
   "id": "b21b159d",
   "metadata": {},
   "source": [
    "## 1. Write a Python Program to Add Two Matrices?"
   ]
  },
  {
   "cell_type": "code",
   "execution_count": 5,
   "id": "cf9b300c",
   "metadata": {},
   "outputs": [
    {
     "name": "stdout",
     "output_type": "stream",
     "text": [
      "[[18, 8, 8], [11, 14, 20], [13, 13, 11]]\n"
     ]
    }
   ],
   "source": [
    "def add_matrices():\n",
    "    X = [[9,5,1],\n",
    "        [6 ,3,12],\n",
    "        [1 ,8,9]]\n",
    "\n",
    "    Y = [[9,3,7],\n",
    "        [5,11,8],\n",
    "        [12,5,2]]\n",
    "\n",
    "    res = [[0,0,0],\n",
    "             [0,0,0],\n",
    "             [0,0,0]]\n",
    "\n",
    "# iterate through rows\n",
    "    for i in range(len(X)):\n",
    "       # iterate through columns\n",
    "       for j in range(len(X[0])):\n",
    "            res[i][j] = X[i][j] + Y[i][j]\n",
    "\n",
    "    return res\n",
    "print(add_matrices())"
   ]
  },
  {
   "cell_type": "markdown",
   "id": "c2cf2dcf",
   "metadata": {},
   "source": [
    "## 2. Write a Python Program to Multiply Two Matrices?\n"
   ]
  },
  {
   "cell_type": "code",
   "execution_count": 8,
   "id": "00703590",
   "metadata": {},
   "outputs": [
    {
     "name": "stdout",
     "output_type": "stream",
     "text": [
      "[118, 87, 105]\n",
      "[213, 111, 90]\n",
      "[157, 136, 89]\n"
     ]
    }
   ],
   "source": [
    "def multiply():\n",
    "    \n",
    "    X = [[9,5,1],\n",
    "        [6 ,3,12],\n",
    "        [1 ,8,9]]\n",
    "\n",
    "    Y = [[9,3,7],\n",
    "        [5,11,8],\n",
    "        [12,5,2]]\n",
    "    result = [[0,0,0],\n",
    "             [0,0,0],\n",
    "             [0,0,0]]\n",
    "\n",
    "    # iterate through rows of X\n",
    "    for i in range(len(X)):\n",
    "       # iterate through columns of Y\n",
    "       for j in range(len(Y[0])):\n",
    "           # iterate through rows of Y\n",
    "           for k in range(len(Y)):\n",
    "                result[i][j] += X[i][k] * Y[k][j]\n",
    "\n",
    "    for r in result:\n",
    "        print(r)\n",
    "multiply()"
   ]
  },
  {
   "cell_type": "markdown",
   "id": "4571973b",
   "metadata": {},
   "source": [
    "## 3. Write a Python Program to Transpose a Matrix?\n"
   ]
  },
  {
   "cell_type": "code",
   "execution_count": 11,
   "id": "e72950d3",
   "metadata": {},
   "outputs": [
    {
     "name": "stdout",
     "output_type": "stream",
     "text": [
      "[8, -3, 18]\n",
      "[2, 14, 5]\n"
     ]
    }
   ],
   "source": [
    "def transpose():\n",
    "    X = [[8,2],\n",
    "        [-3 ,14],\n",
    "        [18 ,5]]\n",
    "\n",
    "    result = [[0,0,0],\n",
    "         [0,0,0]]\n",
    "\n",
    "    # iterate through rows\n",
    "    for i in range(len(X)):\n",
    "       # iterate through columns\n",
    "       for j in range(len(X[0])):\n",
    "            result[j][i] = X[i][j]\n",
    "\n",
    "    for r in result:\n",
    "        print(r)\n",
    "        \n",
    "transpose()"
   ]
  },
  {
   "cell_type": "markdown",
   "id": "e6124afe",
   "metadata": {},
   "source": [
    "## 4. Write a Python Program to Sort Words in Alphabetic Order?\n"
   ]
  },
  {
   "cell_type": "code",
   "execution_count": 15,
   "id": "f3a0b25d",
   "metadata": {},
   "outputs": [
    {
     "name": "stdout",
     "output_type": "stream",
     "text": [
      "['AMAZING', 'CLIMAX', 'TWIST', 'WAS']\n"
     ]
    }
   ],
   "source": [
    "def sort_words_in_a_string(str):\n",
    "    str_lst = [word.upper() for word in str.split(\" \")]\n",
    "    str_lst.sort()\n",
    "    return str_lst\n",
    "print(sort_words_in_a_string(\"climax twist was amazing\"))"
   ]
  },
  {
   "cell_type": "markdown",
   "id": "85555fbb",
   "metadata": {},
   "source": [
    "## 5. Write a Python Program to Remove Punctuation From a String?"
   ]
  },
  {
   "cell_type": "code",
   "execution_count": 20,
   "id": "c7216740",
   "metadata": {},
   "outputs": [
    {
     "name": "stdout",
     "output_type": "stream",
     "text": [
      "Hai guys how are you\n"
     ]
    }
   ],
   "source": [
    "def remove_punctuations():\n",
    "    punctuations = '''!()-[]{};:'\"\\,<>./?@#$%^&*_~'''\n",
    "\n",
    "    my_str = \"Hai!!!, guys how are you?..\"\n",
    "\n",
    "    no_punct = \"\"\n",
    "    for char in my_str:\n",
    "        if char not in punctuations:\n",
    "            no_punct = no_punct + char\n",
    "\n",
    "    return no_punct\n",
    "print(remove_punctuations())"
   ]
  }
 ],
 "metadata": {
  "kernelspec": {
   "display_name": "Python 3 (ipykernel)",
   "language": "python",
   "name": "python3"
  },
  "language_info": {
   "codemirror_mode": {
    "name": "ipython",
    "version": 3
   },
   "file_extension": ".py",
   "mimetype": "text/x-python",
   "name": "python",
   "nbconvert_exporter": "python",
   "pygments_lexer": "ipython3",
   "version": "3.10.9"
  }
 },
 "nbformat": 4,
 "nbformat_minor": 5
}
