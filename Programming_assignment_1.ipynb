{
 "cells": [
  {
   "cell_type": "markdown",
   "id": "6705bb66",
   "metadata": {},
   "source": [
    "## 1. Write a Python program to print &quot;Hello Python&quot;?"
   ]
  },
  {
   "cell_type": "code",
   "execution_count": 2,
   "id": "9518445b",
   "metadata": {},
   "outputs": [
    {
     "name": "stdout",
     "output_type": "stream",
     "text": [
      "Hello Python\n"
     ]
    }
   ],
   "source": [
    "def hello():\n",
    "    return \"Hello Python\"\n",
    "print(hello())"
   ]
  },
  {
   "cell_type": "markdown",
   "id": "cbf3b8b9",
   "metadata": {},
   "source": [
    "## 2. Write a Python program to do arithmetical operations addition and division.?\n"
   ]
  },
  {
   "cell_type": "code",
   "execution_count": 6,
   "id": "2cc750bc",
   "metadata": {},
   "outputs": [
    {
     "name": "stdout",
     "output_type": "stream",
     "text": [
      "addition :  6\n",
      "division :  2.0\n",
      "multiplication :  0\n",
      "subtraction :  8\n"
     ]
    }
   ],
   "source": [
    "def add(a,b):\n",
    "    return a+b\n",
    "def div(a,b):\n",
    "    return a/b\n",
    "def mul(a,b):\n",
    "    return a*b\n",
    "def sub(a,b):\n",
    "    return a-b\n",
    "\n",
    "print(\"addition : \",add(2,4))\n",
    "print(\"division : \",div(10,5))\n",
    "print(\"multiplication : \",mul(0,1))\n",
    "print(\"subtraction : \",sub(10,2))"
   ]
  },
  {
   "cell_type": "markdown",
   "id": "985add17",
   "metadata": {},
   "source": [
    "## 3. Write a Python program to find the area of a triangle?\n"
   ]
  },
  {
   "cell_type": "code",
   "execution_count": 8,
   "id": "7a983883",
   "metadata": {},
   "outputs": [
    {
     "name": "stdout",
     "output_type": "stream",
     "text": [
      "Area of the triangle :  2.0\n"
     ]
    }
   ],
   "source": [
    "def areaOfTriangle(b,h):\n",
    "    return 1/2*(b*h)\n",
    "\n",
    "print(\"Area of the triangle : \",areaOfTriangle(2,2))"
   ]
  },
  {
   "cell_type": "markdown",
   "id": "b349b7e2",
   "metadata": {},
   "source": [
    "## 4. Write a Python program to swap two variables?\n"
   ]
  },
  {
   "cell_type": "code",
   "execution_count": 14,
   "id": "7a771376",
   "metadata": {},
   "outputs": [
    {
     "name": "stdout",
     "output_type": "stream",
     "text": [
      "Before swapping a =  10  b =  20\n",
      "After swapping a =  20  b =  10\n"
     ]
    }
   ],
   "source": [
    "a = 10\n",
    "b = 20\n",
    "\n",
    "print(\"Before swapping a = \",a,\" b = \",b)\n",
    "\n",
    "a,b = b,a\n",
    "\n",
    "print(\"After swapping a = \",a,\" b = \",b)\n"
   ]
  },
  {
   "cell_type": "markdown",
   "id": "0dd13c62",
   "metadata": {},
   "source": [
    "## 5. Write a Python program to generate a random number?"
   ]
  },
  {
   "cell_type": "code",
   "execution_count": 18,
   "id": "b9908f46",
   "metadata": {},
   "outputs": [
    {
     "name": "stdout",
     "output_type": "stream",
     "text": [
      "8\n"
     ]
    }
   ],
   "source": [
    "import random\n",
    "\n",
    "def generateRandomNumber():\n",
    "    return random.randint(0,9)\n",
    "print(generateRandomNumber())"
   ]
  }
 ],
 "metadata": {
  "kernelspec": {
   "display_name": "Python 3 (ipykernel)",
   "language": "python",
   "name": "python3"
  },
  "language_info": {
   "codemirror_mode": {
    "name": "ipython",
    "version": 3
   },
   "file_extension": ".py",
   "mimetype": "text/x-python",
   "name": "python",
   "nbconvert_exporter": "python",
   "pygments_lexer": "ipython3",
   "version": "3.10.9"
  }
 },
 "nbformat": 4,
 "nbformat_minor": 5
}
