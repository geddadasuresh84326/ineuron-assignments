{
 "cells": [
  {
   "cell_type": "markdown",
   "id": "15903ad3",
   "metadata": {},
   "source": [
    "## 1. What is the result of the code, and explain?\n",
    "\n",
    "- X = &#39;iNeuron&#39;\n",
    "- def func():\n",
    "- print(X)\n",
    "\n",
    "- func()\n",
    "### Ans :-\n",
    "- It func() function prints value of X"
   ]
  },
  {
   "cell_type": "code",
   "execution_count": 2,
   "id": "cc10e381",
   "metadata": {},
   "outputs": [
    {
     "name": "stdout",
     "output_type": "stream",
     "text": [
      "iNeuron\n"
     ]
    }
   ],
   "source": [
    "X = 'iNeuron'\n",
    "def func():\n",
    "    print(X)\n",
    "\n",
    "func()"
   ]
  },
  {
   "cell_type": "markdown",
   "id": "bc303fa3",
   "metadata": {},
   "source": [
    "## 2. What is the result of the code, and explain?\n",
    "\n",
    "- X = &#39;iNeuron&#39;\n",
    "- def func():\n",
    "- X = &#39;NI!&#39;\n",
    "\n",
    "- func()\n",
    "- print(X)\n",
    "### Ans :-\n",
    "- func() is not returning any value and not printing any value \n",
    "- print() statement printing X value"
   ]
  },
  {
   "cell_type": "code",
   "execution_count": 3,
   "id": "14e10338",
   "metadata": {},
   "outputs": [
    {
     "name": "stdout",
     "output_type": "stream",
     "text": [
      "iNeuron\n"
     ]
    }
   ],
   "source": [
    "X = 'iNeuron'\n",
    "\n",
    "def func():\n",
    "    X = 'NI!'\n",
    "\n",
    "func()\n",
    "print(X)"
   ]
  },
  {
   "cell_type": "markdown",
   "id": "eabbe9a1",
   "metadata": {},
   "source": [
    "## 3. What does this code print, and why?\n",
    "\n",
    "- X = &#39;iNeuron&#39;\n",
    "- def func():\n",
    "- X = &#39;NI&#39;\n",
    "- print(X)\n",
    "\n",
    "- func()\n",
    "- print(X)\n",
    "### Ans :- \n",
    "- Here func() function printing X value\n",
    "- And print() function also printing X value"
   ]
  },
  {
   "cell_type": "code",
   "execution_count": 4,
   "id": "3960ce5c",
   "metadata": {},
   "outputs": [
    {
     "name": "stdout",
     "output_type": "stream",
     "text": [
      "NI\n",
      "iNeuron\n"
     ]
    }
   ],
   "source": [
    "X = 'iNeuron'\n",
    "\n",
    "def func():\n",
    "    X = 'NI'\n",
    "    print(X)\n",
    "\n",
    "func()\n",
    "print(X)"
   ]
  },
  {
   "cell_type": "markdown",
   "id": "10e56de7",
   "metadata": {},
   "source": [
    "## 4. What output does this code produce? Why?\n",
    "\n",
    "- X = &#39;iNeuron&#39;\n",
    "- def func():\n",
    "- global X\n",
    "- X = &#39;NI&#39;\n",
    "\n",
    "- func()\n",
    "- print(X)\n",
    "\n",
    "### Ans :- \n",
    "- inside func() function we are making X as global so print() function is printing updated value of X"
   ]
  },
  {
   "cell_type": "code",
   "execution_count": 5,
   "id": "e5ec7818",
   "metadata": {},
   "outputs": [
    {
     "name": "stdout",
     "output_type": "stream",
     "text": [
      "NI\n"
     ]
    }
   ],
   "source": [
    "X = 'iNeuron'\n",
    "\n",
    "def func():\n",
    "    global X\n",
    "    X = 'NI'\n",
    "\n",
    "func()\n",
    "print(X)"
   ]
  },
  {
   "cell_type": "markdown",
   "id": "804114f1",
   "metadata": {},
   "source": [
    "## 5. What about this code—what’s the output, and why?\n",
    "\n",
    "- X = &#39;iNeuron&#39;\n",
    "- def func():\n",
    "- X = &#39;NI&#39;\n",
    "- def nested():\n",
    "- print(X)\n",
    "- nested()\n",
    "\n",
    "- func()\n",
    "- X\n",
    "### Ans :- \n",
    "- Here nested() function is printing X value\n",
    "- func() is not printing anything\n",
    "- looking at X value"
   ]
  },
  {
   "cell_type": "code",
   "execution_count": 6,
   "id": "808930a6",
   "metadata": {},
   "outputs": [
    {
     "name": "stdout",
     "output_type": "stream",
     "text": [
      "iNeuron\n"
     ]
    },
    {
     "data": {
      "text/plain": [
       "'iNeuron'"
      ]
     },
     "execution_count": 6,
     "metadata": {},
     "output_type": "execute_result"
    }
   ],
   "source": [
    "X = 'iNeuron'\n",
    "def func():\n",
    "    X = 'NI'\n",
    "def nested():\n",
    "    print(X)\n",
    "nested()\n",
    "func()\n",
    "X"
   ]
  },
  {
   "cell_type": "markdown",
   "id": "8650c160",
   "metadata": {},
   "source": [
    "## 6. How about this code: what is its output in Python 3, and explain?\n",
    "\n",
    "- def func():\n",
    "- X = &#39;NI&#39;\n",
    "- def nested():\n",
    "- nonlocal X\n",
    "- X = &#39;Spam&#39;\n",
    "- nested()\n",
    "- print(X)\n",
    "\n",
    "- func()\n",
    "### Ans :- \n",
    "- A variable if we want to access outside the block as well as within the block should be declared as global."
   ]
  },
  {
   "cell_type": "code",
   "execution_count": 7,
   "id": "8f2dfe5f",
   "metadata": {},
   "outputs": [
    {
     "ename": "SyntaxError",
     "evalue": "no binding for nonlocal 'X' found (3308435665.py, line 4)",
     "output_type": "error",
     "traceback": [
      "\u001b[1;36m  Cell \u001b[1;32mIn[7], line 4\u001b[1;36m\u001b[0m\n\u001b[1;33m    nonlocal X\u001b[0m\n\u001b[1;37m    ^\u001b[0m\n\u001b[1;31mSyntaxError\u001b[0m\u001b[1;31m:\u001b[0m no binding for nonlocal 'X' found\n"
     ]
    }
   ],
   "source": [
    "def func():\n",
    "    X = 'NI'\n",
    "def nested():\n",
    "    nonlocal X\n",
    "    X = 'Spam'\n",
    "nested()\n",
    "print(X)"
   ]
  },
  {
   "cell_type": "code",
   "execution_count": 8,
   "id": "8579751b",
   "metadata": {},
   "outputs": [],
   "source": [
    "func()"
   ]
  }
 ],
 "metadata": {
  "kernelspec": {
   "display_name": "Python 3 (ipykernel)",
   "language": "python",
   "name": "python3"
  },
  "language_info": {
   "codemirror_mode": {
    "name": "ipython",
    "version": 3
   },
   "file_extension": ".py",
   "mimetype": "text/x-python",
   "name": "python",
   "nbconvert_exporter": "python",
   "pygments_lexer": "ipython3",
   "version": "3.10.9"
  }
 },
 "nbformat": 4,
 "nbformat_minor": 5
}
