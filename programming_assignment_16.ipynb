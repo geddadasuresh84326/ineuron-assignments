{
 "cells": [
  {
   "cell_type": "markdown",
   "id": "c53e966e",
   "metadata": {},
   "source": [
    "## Question1. \n",
    "- Write a function that stutters a word as if someone is struggling to read it. The first two letters are repeated twice with an ellipsis ... and space after each, and then the word is pronounced with a question mark ?.\n",
    "- Examples\n",
    "- stutter(&quot;incredible&quot;) ➞ &quot;in... in... incredible?&quot;\n",
    "- stutter(&quot;enthusiastic&quot;) ➞ &quot;en... en... enthusiastic?&quot;\n",
    "- stutter(&quot;outstanding&quot;) ➞ &quot;ou... ou... outstanding?&quot;\n",
    "\n",
    "- Hint :- Assume all input is in lower case and at least two characters long"
   ]
  },
  {
   "cell_type": "code",
   "execution_count": 2,
   "id": "471a57d0",
   "metadata": {},
   "outputs": [
    {
     "name": "stdout",
     "output_type": "stream",
     "text": [
      "in... in... incredible?\n",
      "en... en... enthusiastic?\n",
      "ou... ou... outstanding?\n"
     ]
    }
   ],
   "source": [
    "def stutter(str):\n",
    "    str_new = str[:2]+\"... \"+str[:2]+\"... \"+str+\"?\"\n",
    "    return str_new\n",
    "print(stutter(\"incredible\"))\n",
    "print(stutter(\"enthusiastic\"))\n",
    "print(stutter(\"outstanding\"))"
   ]
  },
  {
   "cell_type": "markdown",
   "id": "70809b88",
   "metadata": {},
   "source": [
    "## Question 2\n",
    "- Create a function that takes an angle in radians and returns the corresponding angle in degrees rounded to one decimal place.\n",
    "- Examples\n",
    "- radians_to_degrees(1) ➞ 57.3\n",
    "- radians_to_degrees(20) ➞ 1145.9\n",
    "- radians_to_degrees(50) ➞ 2864.8"
   ]
  },
  {
   "cell_type": "code",
   "execution_count": 5,
   "id": "d4c125e8",
   "metadata": {},
   "outputs": [
    {
     "name": "stdout",
     "output_type": "stream",
     "text": [
      "57.3\n",
      "1145.9\n",
      "2864.8\n"
     ]
    }
   ],
   "source": [
    "def radians_to_degrees(n):\n",
    "    return round(n*57.2958,1)\n",
    "print(radians_to_degrees(1))\n",
    "print(radians_to_degrees(20))\n",
    "print(radians_to_degrees(50))"
   ]
  },
  {
   "cell_type": "markdown",
   "id": "c64388b1",
   "metadata": {},
   "source": [
    "## Question 3. \n",
    "- In this challenge, establish if a given integer num is a Curzon number. If 1 plus 2 elevated to num is exactly divisible by 1 plus 2 multiplied by num, then num is a Curzon number. Given a non-negative integer num, implement a function that returns True if num is a Curzon number, or False otherwise.\n",
    "- Examples\n",
    "- is_curzon(5) ➞ True\n",
    "- 2 ** 5 + 1 = 33\n",
    "- 2 * 5 + 1 = 11\n",
    "- 33 is a multiple of 11\n",
    "- is_curzon(10) ➞ False\n",
    "- 2 ** 10 + 1 = 1025\n",
    "- 2 * 10 + 1 = 21\n",
    "- 1025 is not a multiple of 21\n",
    "- is_curzon(14) ➞ True\n",
    "- 2 ** 14 + 1 = 16385\n",
    "- 2 * 14 + 1 = 29\n",
    "- 16385 is a multiple of 29"
   ]
  },
  {
   "cell_type": "code",
   "execution_count": 7,
   "id": "03c455cd",
   "metadata": {},
   "outputs": [
    {
     "name": "stdout",
     "output_type": "stream",
     "text": [
      "True\n",
      "False\n",
      "True\n"
     ]
    }
   ],
   "source": [
    "def curzon(n):\n",
    "    r1 = 1+(2**n)\n",
    "    r2 = 1+(2*n)\n",
    "    result = r1 % r2\n",
    "    if(result == 0):\n",
    "        return True\n",
    "    else:\n",
    "        return False\n",
    "print(curzon(5))\n",
    "print(curzon(10))\n",
    "print(curzon(21))"
   ]
  },
  {
   "cell_type": "markdown",
   "id": "9148855a",
   "metadata": {},
   "source": [
    "## Question 4.Given the side length x find the area of a hexagon.\n",
    "\n",
    "- Examples\n",
    "- area_of_hexagon(1) ➞ 2.6\n",
    "- area_of_hexagon(2) ➞ 10.4\n",
    "- area_of_hexagon(3) ➞ 23.4"
   ]
  },
  {
   "cell_type": "code",
   "execution_count": 9,
   "id": "fdf2d1e6",
   "metadata": {},
   "outputs": [
    {
     "name": "stdout",
     "output_type": "stream",
     "text": [
      "2.6\n",
      "10.4\n",
      "23.4\n"
     ]
    }
   ],
   "source": [
    "import math\n",
    "def area_of_hexagon(n):\n",
    "    return round((3*math.sqrt(3)*(n*n))/2,1)\n",
    "print(area_of_hexagon(1))\n",
    "print(area_of_hexagon(2))\n",
    "print(area_of_hexagon(3))"
   ]
  },
  {
   "cell_type": "markdown",
   "id": "85e8da50",
   "metadata": {},
   "source": [
    "## Question 5.\n",
    "- Create a function that returns a base-2 (binary) representation of a base-10(decimal) string number. To convert is simple: ((2) means base-2 and (10) means base-10) 010101001(2) = 1 + 8 + 32 + 128. Going from right to left, the value of the most right bit is 1, now from that every bit to the left will be x2 the value, value of an 8 bit binary numbers are (256, 128, 64, 32, 16, 8, 4, 2, 1).\n",
    "- Examples\n",
    "- binary(1) ➞ &quot;1&quot;\n",
    "- 1*1 = 1\n",
    "- binary(5) ➞ &quot;101&quot;\n",
    "- 1*1 + 1*4 = 5\n",
    "- binary(10) ➞ &quot;1010&quot;\n",
    "- 1*2 + 1*8 = 10"
   ]
  },
  {
   "cell_type": "code",
   "execution_count": 10,
   "id": "ce35e1b4",
   "metadata": {},
   "outputs": [
    {
     "name": "stdout",
     "output_type": "stream",
     "text": [
      "0\n",
      "1\n",
      "10\n",
      "11\n",
      "100\n",
      "101\n",
      "110\n",
      "111\n",
      "1000\n",
      "1001\n",
      "1010\n",
      "1011\n",
      "1100\n",
      "1101\n",
      "1110\n",
      "1111\n",
      "10000\n",
      "10001\n",
      "10010\n",
      "10011\n",
      "10100\n",
      "10101\n",
      "10110\n",
      "10111\n",
      "11000\n",
      "11001\n",
      "11010\n",
      "11011\n",
      "11100\n",
      "11101\n",
      "11110\n",
      "11111\n",
      "100000\n",
      "100001\n",
      "100010\n",
      "100011\n",
      "100100\n",
      "100101\n",
      "100110\n",
      "100111\n",
      "101000\n",
      "101001\n",
      "101010\n",
      "101011\n",
      "101100\n",
      "101101\n",
      "101110\n",
      "101111\n",
      "110000\n",
      "110001\n"
     ]
    }
   ],
   "source": [
    "def decimalToBinary(n):\n",
    "    return bin(n).replace(\"0b\", \"\")\n",
    "   \n",
    "for i in range(0,50):\n",
    "    print(decimalToBinary(i))"
   ]
  },
  {
   "cell_type": "code",
   "execution_count": null,
   "id": "30965d17",
   "metadata": {},
   "outputs": [],
   "source": [
    "function binary(decimal) {\n",
    "  let result = \"\";\n",
    "  if (decimal == 0) {\n",
    "    result = \"0\";\n",
    "  }\n",
    "  while (decimal > 0) {\n",
    "      result += decimal % 2;\n",
    "      decimal = Math.floor(decimal/2);\n",
    "    };\n",
    "  return result.split(\"\").reverse().join(\"\");\n",
    "}"
   ]
  }
 ],
 "metadata": {
  "kernelspec": {
   "display_name": "Python 3 (ipykernel)",
   "language": "python",
   "name": "python3"
  },
  "language_info": {
   "codemirror_mode": {
    "name": "ipython",
    "version": 3
   },
   "file_extension": ".py",
   "mimetype": "text/x-python",
   "name": "python",
   "nbconvert_exporter": "python",
   "pygments_lexer": "ipython3",
   "version": "3.10.9"
  }
 },
 "nbformat": 4,
 "nbformat_minor": 5
}
