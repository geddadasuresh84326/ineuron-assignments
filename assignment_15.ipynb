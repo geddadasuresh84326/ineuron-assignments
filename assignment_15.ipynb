{
 "cells": [
  {
   "cell_type": "markdown",
   "id": "4dde146a",
   "metadata": {},
   "source": [
    "## 1.How many seconds are in an hour? Use the interactive interpreter as a calculator and multiply the number of seconds in a minute (60) by the number of minutes in an hour (also 60). sol. 60\n",
    "### Ans :-"
   ]
  },
  {
   "cell_type": "code",
   "execution_count": 2,
   "id": "4ebd53b5",
   "metadata": {},
   "outputs": [
    {
     "name": "stdout",
     "output_type": "stream",
     "text": [
      "3600\n"
     ]
    }
   ],
   "source": [
    "seconds_in_a_min = 60\n",
    "minutes_in_an_hour = 60\n",
    "seconds_in_an_hour = seconds_in_a_min * minutes_in_an_hour\n",
    "print(seconds_in_an_hour)"
   ]
  },
  {
   "cell_type": "markdown",
   "id": "7fa98d80",
   "metadata": {},
   "source": [
    "## 2. Assign the result from the previous task (seconds in an hour) to a variable called seconds_per_hour.\n",
    "### Ans :-"
   ]
  },
  {
   "cell_type": "code",
   "execution_count": 3,
   "id": "5c7fa09f",
   "metadata": {},
   "outputs": [
    {
     "name": "stdout",
     "output_type": "stream",
     "text": [
      "3600\n"
     ]
    }
   ],
   "source": [
    "seconds_per_hour = seconds_in_an_hour\n",
    "print(seconds_per_hour)"
   ]
  },
  {
   "cell_type": "markdown",
   "id": "c6378748",
   "metadata": {},
   "source": [
    "## 3. How many seconds do you think there are in a day? Make use of the variables seconds per hour and minutes per hour.\n",
    "### Ans :-"
   ]
  },
  {
   "cell_type": "code",
   "execution_count": 4,
   "id": "f428452b",
   "metadata": {},
   "outputs": [
    {
     "name": "stdout",
     "output_type": "stream",
     "text": [
      "86400\n"
     ]
    }
   ],
   "source": [
    "hours_in_a_day = 24\n",
    "seconds_in_a_day = hours_in_a_day * minutes_in_an_hour * seconds_in_a_min\n",
    "print(seconds_in_a_day)"
   ]
  },
  {
   "cell_type": "markdown",
   "id": "70b7dbe1",
   "metadata": {},
   "source": [
    "## 4. Calculate seconds per day again, but this time save the result in a variable called seconds_per_day\n",
    "### Ans :-"
   ]
  },
  {
   "cell_type": "code",
   "execution_count": 5,
   "id": "8278632c",
   "metadata": {},
   "outputs": [
    {
     "name": "stdout",
     "output_type": "stream",
     "text": [
      "86400\n"
     ]
    }
   ],
   "source": [
    "seconds_per_day = hours_in_a_day * minutes_in_an_hour * seconds_in_a_min\n",
    "print(seconds_per_day)"
   ]
  },
  {
   "cell_type": "markdown",
   "id": "9fbbd19c",
   "metadata": {},
   "source": [
    "## 5. Divide seconds_per_day by seconds_per_hour. Use floating-point (/) division.\n",
    "### Ans :-"
   ]
  },
  {
   "cell_type": "code",
   "execution_count": 6,
   "id": "d43f3f11",
   "metadata": {},
   "outputs": [
    {
     "name": "stdout",
     "output_type": "stream",
     "text": [
      "24.0\n"
     ]
    }
   ],
   "source": [
    "print(seconds_in_a_day/seconds_per_hour)"
   ]
  },
  {
   "cell_type": "markdown",
   "id": "6bb2eb8d",
   "metadata": {},
   "source": [
    "## 6. Divide seconds_per_day by seconds_per_hour, using integer (//) division. Did this number agree with the floating-point value from the previous question, aside from the final .0?\n",
    "### Ans :-\n",
    "- Yes"
   ]
  },
  {
   "cell_type": "code",
   "execution_count": 8,
   "id": "ae48f833",
   "metadata": {},
   "outputs": [
    {
     "name": "stdout",
     "output_type": "stream",
     "text": [
      "24\n"
     ]
    }
   ],
   "source": [
    "print(seconds_in_a_day//seconds_per_hour)"
   ]
  },
  {
   "cell_type": "markdown",
   "id": "424ca1d6",
   "metadata": {},
   "source": [
    "## 7. Write a generator, genPrimes, that returns the sequence of prime numbers on successive calls to its next() method: 2, 3, 5, 7, 11, ...\n",
    "### Ans :-"
   ]
  },
  {
   "cell_type": "code",
   "execution_count": 12,
   "id": "d50cbfe1",
   "metadata": {},
   "outputs": [],
   "source": [
    "def genPrimes():\n",
    "    primes = [2]\n",
    "    yield primes[0]\n",
    "    guess = 3\n",
    "    while True:\n",
    "        if all(guess%x != 0 for x in primes):\n",
    "            primes.append(guess)        \n",
    "        if guess == primes[-1]:\n",
    "            yield primes[-1]\n",
    "        guess += 2"
   ]
  }
 ],
 "metadata": {
  "kernelspec": {
   "display_name": "Python 3 (ipykernel)",
   "language": "python",
   "name": "python3"
  },
  "language_info": {
   "codemirror_mode": {
    "name": "ipython",
    "version": 3
   },
   "file_extension": ".py",
   "mimetype": "text/x-python",
   "name": "python",
   "nbconvert_exporter": "python",
   "pygments_lexer": "ipython3",
   "version": "3.10.9"
  }
 },
 "nbformat": 4,
 "nbformat_minor": 5
}
