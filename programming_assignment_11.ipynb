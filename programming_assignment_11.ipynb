{
 "cells": [
  {
   "cell_type": "markdown",
   "id": "225b82e3",
   "metadata": {},
   "source": [
    "## 1. Write a Python program to find words which are greater than given length k?\n"
   ]
  },
  {
   "cell_type": "code",
   "execution_count": 2,
   "id": "c23ae164",
   "metadata": {},
   "outputs": [
    {
     "name": "stdout",
     "output_type": "stream",
     "text": [
      "['vasantha', 'charlie']\n"
     ]
    }
   ],
   "source": [
    "lst = [\"arvind\",\"vasantha\",\"charlie\",\"vikram\"]\n",
    "lst_new = [i for i in lst if(len(i)>6)]\n",
    "print(lst_new)"
   ]
  },
  {
   "cell_type": "markdown",
   "id": "6c8e6e20",
   "metadata": {},
   "source": [
    "## 2. Write a Python program for removing i-th character from a string?\n"
   ]
  },
  {
   "cell_type": "code",
   "execution_count": 7,
   "id": "662c2301",
   "metadata": {},
   "outputs": [
    {
     "name": "stdout",
     "output_type": "stream",
     "text": [
      "Harka\n"
     ]
    }
   ],
   "source": [
    "def removeChar(string, i):\n",
    "    a = string[: i]\n",
    "    b = string[i + 1:]\n",
    "    \n",
    "    return a + b\n",
    "print(removeChar(\"Harika\",3))"
   ]
  },
  {
   "cell_type": "markdown",
   "id": "f04218c6",
   "metadata": {},
   "source": [
    "## 3. Write a Python program to split and join a string?\n"
   ]
  },
  {
   "cell_type": "code",
   "execution_count": 5,
   "id": "a8294a22",
   "metadata": {},
   "outputs": [
    {
     "name": "stdout",
     "output_type": "stream",
     "text": [
      "David - Warner\n"
     ]
    }
   ],
   "source": [
    "str = \"David Warner\"\n",
    "print(\" - \".join(str.split()))\n"
   ]
  },
  {
   "cell_type": "markdown",
   "id": "bb9f3929",
   "metadata": {},
   "source": [
    "## 4. Write a Python to check if a given string is binary string or not?\n"
   ]
  },
  {
   "cell_type": "code",
   "execution_count": 6,
   "id": "f5e3d729",
   "metadata": {},
   "outputs": [
    {
     "name": "stdout",
     "output_type": "stream",
     "text": [
      "binary\n"
     ]
    }
   ],
   "source": [
    "def binary_string(str):\n",
    "    for i in str:\n",
    "        if(i == \"0\" or i == \"1\"):\n",
    "            return \"binary\"\n",
    "        else:\n",
    "            return \"not binary\"\n",
    "print(binary_string(\"0101001010\"))"
   ]
  },
  {
   "cell_type": "markdown",
   "id": "de0a5606",
   "metadata": {},
   "source": [
    "## 5. Write a Python program to find uncommon words from two Strings?\n"
   ]
  },
  {
   "cell_type": "code",
   "execution_count": 8,
   "id": "678a1d8f",
   "metadata": {},
   "outputs": [
    {
     "name": "stdout",
     "output_type": "stream",
     "text": [
      "['intelligent', 'poor']\n"
     ]
    }
   ],
   "source": [
    "def UncommonWords(A, B):\n",
    "    count = {}\n",
    "    for word in A.split():\n",
    "        count[word] = count.get(word, 0) + 1\n",
    " \n",
    "    for word in B.split():\n",
    "        count[word] = count.get(word, 0) + 1\n",
    " \n",
    "    return [word for word in count if count[word] == 1]\n",
    " \n",
    "A = \"He is intelligent\"\n",
    "B = \"He is poor\"\n",
    " \n",
    "# Print required answer\n",
    "print(UncommonWords(A, B))"
   ]
  },
  {
   "cell_type": "markdown",
   "id": "e0fdb123",
   "metadata": {},
   "source": [
    "## 6. Write a Python to find all duplicate characters in string?\n"
   ]
  },
  {
   "cell_type": "code",
   "execution_count": 9,
   "id": "af51ee29",
   "metadata": {},
   "outputs": [
    {
     "name": "stdout",
     "output_type": "stream",
     "text": [
      "['a', 'r']\n"
     ]
    }
   ],
   "source": [
    "def duplicate_characters(string):\n",
    "    chars = {}\n",
    " \n",
    "    for char in string:\n",
    "        if char not in chars:\n",
    "            chars[char] = 1\n",
    "        else:\n",
    "            chars[char] += 1\n",
    " \n",
    "    duplicates = []\n",
    " \n",
    "    for char, count in chars.items():\n",
    "        if count > 1:\n",
    "            duplicates.append(char)\n",
    " \n",
    "    return duplicates\n",
    " \n",
    "print(duplicate_characters(\"parakrama\"))"
   ]
  },
  {
   "cell_type": "markdown",
   "id": "6abbe847",
   "metadata": {},
   "source": [
    "## 7. Write a Python Program to check if a string contains any special character?"
   ]
  },
  {
   "cell_type": "code",
   "execution_count": 17,
   "id": "59b997f8",
   "metadata": {},
   "outputs": [
    {
     "name": "stdout",
     "output_type": "stream",
     "text": [
      "The string contains special characters.\n"
     ]
    }
   ],
   "source": [
    "import re\n",
    "\n",
    " \n",
    "special_char = re.compile('[@_!#$%^&*()<>?/\\|}{~:]')\n",
    "\n",
    "str = \"Hello!\"\n",
    "if(special_char.search(str) == None):\n",
    "    print('String does not contain any special characters.')\n",
    "else:\n",
    "    print('The string contains special characters.')"
   ]
  }
 ],
 "metadata": {
  "kernelspec": {
   "display_name": "Python 3 (ipykernel)",
   "language": "python",
   "name": "python3"
  },
  "language_info": {
   "codemirror_mode": {
    "name": "ipython",
    "version": 3
   },
   "file_extension": ".py",
   "mimetype": "text/x-python",
   "name": "python",
   "nbconvert_exporter": "python",
   "pygments_lexer": "ipython3",
   "version": "3.10.9"
  }
 },
 "nbformat": 4,
 "nbformat_minor": 5
}
