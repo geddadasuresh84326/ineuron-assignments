{
 "cells": [
  {
   "cell_type": "markdown",
   "id": "4c5253d7",
   "metadata": {},
   "source": [
    "## Question 1:\n",
    "- Please write a program using generator to print the numbers which can be divisible by 5 and 7 between 0 and n in comma separated form while n is input by console.\n",
    "- Example:\n",
    "- If the following n is given as input to the program:\n",
    "- 100\n",
    "- Then, the output of the program should be:\n",
    "- 0,35,70"
   ]
  },
  {
   "cell_type": "code",
   "execution_count": 2,
   "id": "5947df95",
   "metadata": {},
   "outputs": [
    {
     "name": "stdout",
     "output_type": "stream",
     "text": [
      "Enter a number : 100\n",
      "0,35,70,"
     ]
    }
   ],
   "source": [
    "def func():\n",
    "    n = int(input(\"Enter a number : \"))\n",
    "    for i in range(n):\n",
    "        if(i % 5 == 0 and i % 7 == 0):\n",
    "            print(i,end=\",\")\n",
    "func()"
   ]
  },
  {
   "cell_type": "markdown",
   "id": "b3faf078",
   "metadata": {},
   "source": [
    "## Question 2:\n",
    "- Please write a program using generator to print the even numbers between 0 and n in comma separated form while n is input by console.\n",
    "- Example:\n",
    "- If the following n is given as input to the program:\n",
    "- 10\n",
    "- Then, the output of the program should be:\n",
    "- 0,2,4,6,8,10"
   ]
  },
  {
   "cell_type": "code",
   "execution_count": 4,
   "id": "b06de040",
   "metadata": {},
   "outputs": [
    {
     "name": "stdout",
     "output_type": "stream",
     "text": [
      "Enter a number : 10\n",
      "[0, 2, 4, 6, 8, 10]\n"
     ]
    }
   ],
   "source": [
    "def even_numbers():\n",
    "    n = int(input(\"Enter a number : \"))\n",
    "    lst = [i for i in range(0,n+1) if i % 2 == 0]\n",
    "    yield lst\n",
    "for i in even_numbers():\n",
    "    print(i)"
   ]
  },
  {
   "cell_type": "markdown",
   "id": "dccda926",
   "metadata": {},
   "source": [
    "## Question 3:\n",
    "- The Fibonacci Sequence is computed based on the following formula:\n",
    "- f(n)=0 if n=0\n",
    "- f(n)=1 if n=1\n",
    "- f(n)=f(n-1)+f(n-2) if n&gt;1\n",
    "- Please write a program using list comprehension to print the Fibonacci Sequence in comma\n",
    "- separated form with a given n input by console.\n",
    "- Example:\n",
    "- If the following n is given as input to the program:\n",
    "- 7\n",
    "\n",
    "- Then, the output of the program should be:\n",
    "- 0,1,1,2,3,5,8,13\n"
   ]
  },
  {
   "cell_type": "code",
   "execution_count": 8,
   "id": "b0efd79f",
   "metadata": {},
   "outputs": [
    {
     "name": "stdout",
     "output_type": "stream",
     "text": [
      "Fibonacci sequence:\n",
      "0,1,1,2,3,5,8,"
     ]
    }
   ],
   "source": [
    "def recur_fibo(n):\n",
    "    if n <= 1:\n",
    "        return n\n",
    "    else:\n",
    "        return(recur_fibo(n-1) + recur_fibo(n-2))\n",
    "\n",
    "nterms = 7\n",
    "\n",
    "if nterms <= 0:\n",
    "    print(\"Plese enter a positive integer\")\n",
    "else:\n",
    "    print(\"Fibonacci sequence:\")\n",
    "    for i in range(nterms):\n",
    "        print(recur_fibo(i),end = \",\")"
   ]
  },
  {
   "cell_type": "markdown",
   "id": "11ade9df",
   "metadata": {},
   "source": [
    "## Question 4:\n",
    "- Assuming that we have some email addresses in the &quot;username@companyname.com&quot; format, please write program to print the user name of a given email address. Both user names and company names are composed of letters only.\n",
    "- Example:\n",
    "- If the following email address is given as input to the program:\n",
    "- john@google.com\n",
    "- Then, the output of the program should be:\n",
    "- john"
   ]
  },
  {
   "cell_type": "code",
   "execution_count": 10,
   "id": "4495d564",
   "metadata": {},
   "outputs": [
    {
     "name": "stdout",
     "output_type": "stream",
     "text": [
      "Enter email : john@google.com\n",
      "john\n"
     ]
    }
   ],
   "source": [
    "def exctract_username():\n",
    "    str = input(\"Enter email : \")\n",
    "    str_list = str.split(\"@\")\n",
    "    print(str_list[0])\n",
    "exctract_username()"
   ]
  },
  {
   "cell_type": "markdown",
   "id": "8f76e480",
   "metadata": {},
   "source": [
    "## Question 5:\n",
    "- Define a class named Shape and its subclass Square. The Square class has an init function which takes a length as argument. Both classes have a area function which can print the area of the shape where Shape&#39;s area is 0 by default."
   ]
  },
  {
   "cell_type": "code",
   "execution_count": 14,
   "id": "33279fe8",
   "metadata": {},
   "outputs": [
    {
     "name": "stdout",
     "output_type": "stream",
     "text": [
      "0\n",
      "144\n"
     ]
    }
   ],
   "source": [
    "class Shape:\n",
    "    def area(self):\n",
    "        return 0\n",
    "\n",
    "class Square(Shape):\n",
    "    def __init__(self,length):\n",
    "        self.length = length\n",
    "    \n",
    "    def area(self):\n",
    "        return self.length*self.length\n",
    "s = Shape()\n",
    "print(s.area())\n",
    "\n",
    "square = Square(12)\n",
    "print(square.area())"
   ]
  }
 ],
 "metadata": {
  "kernelspec": {
   "display_name": "Python 3 (ipykernel)",
   "language": "python",
   "name": "python3"
  },
  "language_info": {
   "codemirror_mode": {
    "name": "ipython",
    "version": 3
   },
   "file_extension": ".py",
   "mimetype": "text/x-python",
   "name": "python",
   "nbconvert_exporter": "python",
   "pygments_lexer": "ipython3",
   "version": "3.10.9"
  }
 },
 "nbformat": 4,
 "nbformat_minor": 5
}
