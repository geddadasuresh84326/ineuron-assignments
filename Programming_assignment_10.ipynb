{
 "cells": [
  {
   "cell_type": "markdown",
   "id": "f3786546",
   "metadata": {},
   "source": [
    "## 1. Write a Python program to find sum of elements in list?\n"
   ]
  },
  {
   "cell_type": "code",
   "execution_count": 3,
   "id": "33351fb9",
   "metadata": {},
   "outputs": [
    {
     "name": "stdout",
     "output_type": "stream",
     "text": [
      "118\n"
     ]
    }
   ],
   "source": [
    "lst = [12,14,18,17,34,23]\n",
    "sum = 0\n",
    "for i in lst:\n",
    "    sum += i\n",
    "print(sum)"
   ]
  },
  {
   "cell_type": "markdown",
   "id": "e958f923",
   "metadata": {},
   "source": [
    "## 2. Write a Python program to Multiply all numbers in the list?\n"
   ]
  },
  {
   "cell_type": "code",
   "execution_count": 4,
   "id": "e1ff1ab1",
   "metadata": {},
   "outputs": [
    {
     "name": "stdout",
     "output_type": "stream",
     "text": [
      "105\n"
     ]
    }
   ],
   "source": [
    "lst = [1,5,7,3]\n",
    "product = 1\n",
    "for i in lst:\n",
    "    product *= i\n",
    "print(product)"
   ]
  },
  {
   "cell_type": "markdown",
   "id": "faf8cd5d",
   "metadata": {},
   "source": [
    "## 3. Write a Python program to find smallest number in a list?\n"
   ]
  },
  {
   "cell_type": "code",
   "execution_count": 6,
   "id": "4ddfee03",
   "metadata": {
    "scrolled": true
   },
   "outputs": [
    {
     "name": "stdout",
     "output_type": "stream",
     "text": [
      "13\n"
     ]
    }
   ],
   "source": [
    "lst = [121,13,538,245,903,54]\n",
    "lst.sort()\n",
    "print(lst[0])"
   ]
  },
  {
   "cell_type": "markdown",
   "id": "fc059f74",
   "metadata": {},
   "source": [
    "## 4. Write a Python program to find largest number in a list?\n"
   ]
  },
  {
   "cell_type": "code",
   "execution_count": 7,
   "id": "d4c55335",
   "metadata": {},
   "outputs": [
    {
     "name": "stdout",
     "output_type": "stream",
     "text": [
      "903\n"
     ]
    }
   ],
   "source": [
    "lst = [121,13,538,245,903,54]\n",
    "lst.sort()\n",
    "print(lst[-1])"
   ]
  },
  {
   "cell_type": "markdown",
   "id": "34c9c38e",
   "metadata": {},
   "source": [
    "## 5. Write a Python program to find second largest number in a list?\n"
   ]
  },
  {
   "cell_type": "code",
   "execution_count": 11,
   "id": "248e6d2e",
   "metadata": {},
   "outputs": [
    {
     "name": "stdout",
     "output_type": "stream",
     "text": [
      "538\n"
     ]
    }
   ],
   "source": [
    "lst = [903,121,13,538,245,903,54]\n",
    "lst.sort(reverse = True)\n",
    "j = 0\n",
    "second = 0\n",
    "while(True):\n",
    "    if(lst[j] != lst[j+1]):\n",
    "        second = lst[j+1]\n",
    "        break\n",
    "    else:\n",
    "        j +=1\n",
    "print(second)"
   ]
  },
  {
   "cell_type": "markdown",
   "id": "e49be68b",
   "metadata": {},
   "source": [
    "## 6. Write a Python program to find N largest elements from a list?\n"
   ]
  },
  {
   "cell_type": "code",
   "execution_count": 14,
   "id": "0546afbd",
   "metadata": {},
   "outputs": [
    {
     "name": "stdout",
     "output_type": "stream",
     "text": [
      "[90, 76, 43, 32]\n"
     ]
    }
   ],
   "source": [
    "def nLargestElements(lst,n):\n",
    "    lst.sort(reverse = True)\n",
    "    nElements = lst[0:n]\n",
    "    return nElements\n",
    "print(nLargestElements([12,15,32,90,76,43],4))"
   ]
  },
  {
   "cell_type": "markdown",
   "id": "2c94bb77",
   "metadata": {},
   "source": [
    "## 7. Write a Python program to print even numbers in a list?\n"
   ]
  },
  {
   "cell_type": "code",
   "execution_count": 16,
   "id": "e0b7950b",
   "metadata": {},
   "outputs": [
    {
     "name": "stdout",
     "output_type": "stream",
     "text": [
      "[16]\n"
     ]
    }
   ],
   "source": [
    "def EvenNumbers(lst):\n",
    "    result = []\n",
    "    for i in lst:\n",
    "        if(i % 2 == 0):\n",
    "            result.append(i)\n",
    "    return result\n",
    "print(EvenNumbers([13,15,17,16]))"
   ]
  },
  {
   "cell_type": "markdown",
   "id": "67f934e0",
   "metadata": {},
   "source": [
    "## 8. Write a Python program to print odd numbers in a List?\n"
   ]
  },
  {
   "cell_type": "code",
   "execution_count": 17,
   "id": "973cf61e",
   "metadata": {},
   "outputs": [
    {
     "name": "stdout",
     "output_type": "stream",
     "text": [
      "[13, 15, 17]\n"
     ]
    }
   ],
   "source": [
    "def OddNumbers(lst):\n",
    "    result = []\n",
    "    for i in lst:\n",
    "        if(i % 2 != 0):\n",
    "            result.append(i)\n",
    "    return result\n",
    "print(OddNumbers([13,15,17,16]))"
   ]
  },
  {
   "cell_type": "markdown",
   "id": "cf744628",
   "metadata": {},
   "source": [
    "## 9. Write a Python program to Remove empty List from List?\n"
   ]
  },
  {
   "cell_type": "code",
   "execution_count": 19,
   "id": "df547c73",
   "metadata": {},
   "outputs": [
    {
     "name": "stdout",
     "output_type": "stream",
     "text": [
      "[12, {12, 54, 23}, [1, 2, 3], {}]\n"
     ]
    }
   ],
   "source": [
    "def removingEmptyList(lst):\n",
    "    result = []\n",
    "    for i in lst:\n",
    "        if(i != []):\n",
    "            result.append(i)\n",
    "    return result\n",
    "print(removingEmptyList([12,{23,54,12},[1,2,3],[],{}]))"
   ]
  },
  {
   "cell_type": "markdown",
   "id": "7bf5d062",
   "metadata": {},
   "source": [
    "## 10. Write a Python program to Cloning or Copying a list?\n"
   ]
  },
  {
   "cell_type": "code",
   "execution_count": 28,
   "id": "ff3555f2",
   "metadata": {},
   "outputs": [
    {
     "name": "stdout",
     "output_type": "stream",
     "text": [
      "Using = operator :  [12, 13, 14, 15]\n",
      "copy() method :  [12, 13, 14, 15]\n",
      "using slice method :  [12, 13, 14, 15]\n",
      "using list() method :  [12, 13, 14, 15]\n"
     ]
    }
   ],
   "source": [
    "# 1.Copy list using = operator\n",
    "lst = [12,13,14,15]\n",
    "\n",
    "copy_lst = lst\n",
    "print(\"Using = operator : \",lst)\n",
    "\n",
    "# 2.Copy list using copy() method\n",
    "copy_lst_2 = lst.copy()\n",
    "print(\"copy() method : \",copy_lst_2)\n",
    "\n",
    "# 3.Copy list using the List slice method\n",
    "copy_lst_3 = lst[::]\n",
    "print(\"using slice method : \",copy_lst_3)\n",
    "\n",
    "# 4.Copy list using list() method\n",
    "copy_lst_4 = list(lst)\n",
    "print(\"using list() method : \",copy_lst_4)\n"
   ]
  },
  {
   "cell_type": "markdown",
   "id": "da0f0e52",
   "metadata": {},
   "source": [
    "## 11. Write a Python program to Count occurrences of an element in a list?"
   ]
  },
  {
   "cell_type": "code",
   "execution_count": 20,
   "id": "7db7f898",
   "metadata": {},
   "outputs": [
    {
     "name": "stdout",
     "output_type": "stream",
     "text": [
      "3\n"
     ]
    }
   ],
   "source": [
    "def occurrences(lst,n):\n",
    "    count = 0\n",
    "    for i in lst:\n",
    "        if(i == n):\n",
    "            count +=1\n",
    "    return count\n",
    "print(occurrences([12,12,13,14,16,18,23,54,12],12))"
   ]
  },
  {
   "cell_type": "code",
   "execution_count": null,
   "id": "3e656f95",
   "metadata": {},
   "outputs": [],
   "source": []
  }
 ],
 "metadata": {
  "kernelspec": {
   "display_name": "Python 3 (ipykernel)",
   "language": "python",
   "name": "python3"
  },
  "language_info": {
   "codemirror_mode": {
    "name": "ipython",
    "version": 3
   },
   "file_extension": ".py",
   "mimetype": "text/x-python",
   "name": "python",
   "nbconvert_exporter": "python",
   "pygments_lexer": "ipython3",
   "version": "3.10.9"
  }
 },
 "nbformat": 4,
 "nbformat_minor": 5
}
