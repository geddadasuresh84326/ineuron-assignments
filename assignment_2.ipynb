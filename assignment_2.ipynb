{
 "cells": [
  {
   "cell_type": "markdown",
   "id": "10ef60c9",
   "metadata": {},
   "source": [
    "## 1.What are the two values of the Boolean data type? How do you write them?\n",
    "#### - there are two Boolean value type 1.True 2.False\n",
    "ex:- \n",
    "-    isValid = True\n",
    "-    flag = False"
   ]
  },
  {
   "cell_type": "markdown",
   "id": "ce264a6d",
   "metadata": {},
   "source": [
    "## 2. What are the three different types of Boolean operators?\n",
    "\n",
    "#### There are three Boolean operators\n",
    "-   1.and\n",
    "-   2.or\n",
    "-   3.not\n",
    "### ex:- "
   ]
  },
  {
   "cell_type": "code",
   "execution_count": 1,
   "id": "21bdaeeb",
   "metadata": {},
   "outputs": [
    {
     "data": {
      "text/plain": [
       "False"
      ]
     },
     "execution_count": 1,
     "metadata": {},
     "output_type": "execute_result"
    }
   ],
   "source": [
    "True and False"
   ]
  },
  {
   "cell_type": "code",
   "execution_count": 2,
   "id": "76aaaae3",
   "metadata": {},
   "outputs": [
    {
     "data": {
      "text/plain": [
       "True"
      ]
     },
     "execution_count": 2,
     "metadata": {},
     "output_type": "execute_result"
    }
   ],
   "source": [
    "True or False"
   ]
  },
  {
   "cell_type": "code",
   "execution_count": 3,
   "id": "01cad3ac",
   "metadata": {},
   "outputs": [
    {
     "data": {
      "text/plain": [
       "True"
      ]
     },
     "execution_count": 3,
     "metadata": {},
     "output_type": "execute_result"
    }
   ],
   "source": [
    "not False"
   ]
  },
  {
   "cell_type": "markdown",
   "id": "c6b52e40",
   "metadata": {},
   "source": [
    "## 3. Make a list of each Boolean operator&#39;s truth tables (i.e. every possible combination of Boolean values for the operator and what it evaluate ).\n",
    "\n",
    "#### and :- \n",
    "-  True and True   --> True\n",
    "-  True and False  --> False\n",
    "-  False and True  --> False\n",
    "-  False and False --> False\n",
    "\n",
    "#### or :- \n",
    "-  True or True   --> True\n",
    "-  True or False  --> True\n",
    "-  False or True  --> True\n",
    "-  False or False --> False\n",
    "\n",
    "#### not :-\n",
    "- not True --> False\n",
    "- not False --> True"
   ]
  },
  {
   "cell_type": "markdown",
   "id": "5f03d248",
   "metadata": {},
   "source": [
    "## 4. What are the values of the following expressions?\n",
    "\n",
    "-  (5 > 4) and (3 == 5) --> False\n",
    "-  not (5 > 4)          --> False\n",
    "-  (5 > 4) or (3 == 5)--> True\n",
    "-  not ((5 > 4) or (3 == 5)) --> False\n",
    "-  (True and True) and (True == False) -->False\n",
    "-  (not False) or (not True) -->True"
   ]
  },
  {
   "cell_type": "markdown",
   "id": "75c80b99",
   "metadata": {},
   "source": [
    "## 5. What are the six comparison operators?\n",
    "\n",
    "1. Greaterthan( > )\n",
    "2. Greaterthan or equal to ( >= )\n",
    "3. Lessthan( < )\n",
    "4. Lessthan or equal to ( <= )\n",
    "5. equal to ( == )\n",
    "6. not equal to ( != )"
   ]
  },
  {
   "cell_type": "markdown",
   "id": "068886c7",
   "metadata": {},
   "source": [
    "## 6. How do you tell the difference between the equal to and assignment operators?Describe a condition and when you would use one.\n",
    "\n",
    "#### ans :- \n",
    "-  equal to operator is used to check whether two values are equal or not , and its operator is ( == )\n",
    "- assignment operator is used to assign a value to a variable and operator is ( = )\n"
   ]
  },
  {
   "cell_type": "markdown",
   "id": "9c88fa42",
   "metadata": {},
   "source": [
    "## 7. Identify the three blocks in this code:\n"
   ]
  },
  {
   "cell_type": "code",
   "execution_count": 12,
   "id": "1c442cd4",
   "metadata": {},
   "outputs": [
    {
     "name": "stdout",
     "output_type": "stream",
     "text": [
      "ham\n",
      "spam\n",
      "spam\n"
     ]
    }
   ],
   "source": [
    "spam = 0\n",
    "if spam == 10:\n",
    " print('eggs')\n",
    "if spam >5:\n",
    " print('bacon')\n",
    "else:\n",
    " print(\"ham\")\n",
    " print('spam')\n",
    " print('spam')"
   ]
  },
  {
   "cell_type": "markdown",
   "id": "e381fb6c",
   "metadata": {},
   "source": [
    "## 8. Write code that prints Hello if 1 is stored in spam, prints Howdy if 2 is stored in spam, and prints Greetings! if anything else is stored in spam."
   ]
  },
  {
   "cell_type": "code",
   "execution_count": 18,
   "id": "48a9a247",
   "metadata": {},
   "outputs": [
    {
     "name": "stdout",
     "output_type": "stream",
     "text": [
      "Hello\n"
     ]
    }
   ],
   "source": [
    "spam = 1\n",
    "if spam == 1:\n",
    "    print(\"Hello\")\n",
    "elif spam == 2:\n",
    "    print(\"Howdy\")\n",
    "else:\n",
    "    print(\"Greetings\")"
   ]
  },
  {
   "cell_type": "markdown",
   "id": "39420ea7",
   "metadata": {},
   "source": [
    "## 9.If your programme is stuck in an endless loop, what keys you’ll press?\n",
    "\n",
    "-  we can stop endless loop with CTRL + C "
   ]
  },
  {
   "cell_type": "markdown",
   "id": "316b37bf",
   "metadata": {},
   "source": [
    "## 10. How can you tell the difference between break and continue?\n",
    "#### break :- \n",
    "- whenever this statement encounters in a loop, it will terminate the loop \n",
    "#### continue :- \n",
    "- whenever this statement encounters in a loop, it will stop the present iteration and execute the next iteration,the lines of code below continue statement will not be executed "
   ]
  },
  {
   "cell_type": "markdown",
   "id": "6bd4bbe6",
   "metadata": {},
   "source": [
    "## 11. In a for loop, what is the difference between range(10), range(0, 10), and range(0, 10, 1)?\n",
    "\n",
    "#### range(10) :- it returns a range of values from 0 to 9 \n",
    "#### range(0,10) :- it returns a range of values from 0 to 9 \n",
    "#### range(0,10,1) :- it returns a range of values from 0 to 9 \n",
    "\n",
    "- There is no difference between these three range functions by default starting value is 0,end-value is 9 and step size is 1"
   ]
  },
  {
   "cell_type": "markdown",
   "id": "3a652837",
   "metadata": {},
   "source": [
    "## 12. Write a short program that prints the numbers 1 to 10 using a for loop. Then write an equivalent program that prints the numbers 1 to 10 using a while loop."
   ]
  },
  {
   "cell_type": "code",
   "execution_count": 19,
   "id": "80ccb441",
   "metadata": {},
   "outputs": [
    {
     "name": "stdout",
     "output_type": "stream",
     "text": [
      "1 2 3 4 5 6 7 8 9 10 "
     ]
    }
   ],
   "source": [
    "# for loop \n",
    "for i in range(1,11):\n",
    "    print(i,end=\" \")"
   ]
  },
  {
   "cell_type": "code",
   "execution_count": 21,
   "id": "c45fd861",
   "metadata": {},
   "outputs": [
    {
     "name": "stdout",
     "output_type": "stream",
     "text": [
      "1 2 3 4 5 6 7 8 9 10 "
     ]
    }
   ],
   "source": [
    "# while loop\n",
    "i=1\n",
    "while(i<11):\n",
    "    print(i,end=\" \")\n",
    "    i+=1;"
   ]
  },
  {
   "cell_type": "markdown",
   "id": "c6420ddd",
   "metadata": {},
   "source": [
    "## 13. If you had a function named bacon() inside a module named spam, how would you call it after importing spam?"
   ]
  },
  {
   "cell_type": "code",
   "execution_count": null,
   "id": "7753043b",
   "metadata": {},
   "outputs": [],
   "source": [
    "import spam as sp\n",
    "\n",
    "sp.bacon()"
   ]
  },
  {
   "cell_type": "code",
   "execution_count": null,
   "id": "51563c48",
   "metadata": {},
   "outputs": [],
   "source": []
  }
 ],
 "metadata": {
  "kernelspec": {
   "display_name": "Python 3 (ipykernel)",
   "language": "python",
   "name": "python3"
  },
  "language_info": {
   "codemirror_mode": {
    "name": "ipython",
    "version": 3
   },
   "file_extension": ".py",
   "mimetype": "text/x-python",
   "name": "python",
   "nbconvert_exporter": "python",
   "pygments_lexer": "ipython3",
   "version": "3.10.9"
  }
 },
 "nbformat": 4,
 "nbformat_minor": 5
}
