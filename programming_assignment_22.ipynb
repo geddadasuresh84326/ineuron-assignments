{
 "cells": [
  {
   "cell_type": "markdown",
   "id": "86b702dd",
   "metadata": {},
   "source": [
    "## Question1\n",
    "- Create a function that takes three parameters where:\n",
    "-  x is the start of the range (inclusive).\n",
    "-  y is the end of the range (inclusive).\n",
    "-  n is the divisor to be checked against.\n",
    "- Return an ordered list with numbers in the range that are divisible by the third parameter n.\n",
    "- Return an empty list if there are no numbers that are divisible by n.\n",
    "- Examples\n",
    "- list_operation(1, 10, 3) ➞ [3, 6, 9]\n",
    "- list_operation(7, 9, 2) ➞ [8]\n",
    "- list_operation(15, 20, 7) ➞ []"
   ]
  },
  {
   "cell_type": "code",
   "execution_count": 1,
   "id": "67457429",
   "metadata": {},
   "outputs": [
    {
     "name": "stdout",
     "output_type": "stream",
     "text": [
      "[3, 6, 9]\n",
      "[8]\n",
      "[]\n"
     ]
    }
   ],
   "source": [
    "def list_operation(x,y,n):\n",
    "    \n",
    "    divisor = []\n",
    "    nonDiv = []\n",
    "    for i in range(x,y+1):\n",
    "        if i % n == 0:\n",
    "            divisor.append(i)\n",
    "    return divisor        \n",
    "print(list_operation(1, 10, 3))\n",
    "print(list_operation(7,9,2))\n",
    "print(list_operation(15,20,7))"
   ]
  },
  {
   "cell_type": "markdown",
   "id": "0e437367",
   "metadata": {},
   "source": [
    "## Question2\n",
    "- Create a function that takes in two lists and returns True if the second list follows the first list by one element, and False otherwise. In other words, determine if the second list is the first list shifted to the right by 1.\n",
    "- Examples\n",
    "- simon_says([1, 2], [5, 1]) ➞ True\n",
    "- simon_says([1, 2], [5, 5]) ➞ False\n",
    "- simon_says([1, 2, 3, 4, 5], [0, 1, 2, 3, 4]) ➞ True\n",
    "- simon_says([1, 2, 3, 4, 5], [5, 5, 1, 2, 3]) ➞ False\n",
    "- Notes\n",
    "-  Both input lists will be of the same length, and will have a minimum length of 2.\n",
    "-  The values of the 0-indexed element in the second list and the n-1th indexed element in the first list do not matter."
   ]
  },
  {
   "cell_type": "code",
   "execution_count": 2,
   "id": "ad6a2eff",
   "metadata": {},
   "outputs": [
    {
     "name": "stdout",
     "output_type": "stream",
     "text": [
      "True\n",
      "False\n",
      "True\n",
      "False\n"
     ]
    }
   ],
   "source": [
    "def simon_says(ls,ls2):\n",
    "    if ls[0:len(ls)-1] == ls2[1:len(ls2)]:\n",
    "        return True\n",
    "    return False\n",
    "print(simon_says([1, 2], [5, 1]))\n",
    "print(simon_says([1, 2], [5, 5]))\n",
    "print(simon_says([1, 2, 3, 4, 5], [0, 1, 2, 3, 4]))\n",
    "print(simon_says([1, 2, 3, 4, 5], [5, 5, 1, 2, 3]))"
   ]
  },
  {
   "cell_type": "markdown",
   "id": "6499faea",
   "metadata": {},
   "source": [
    "## Question3\n",
    "- A group of friends have decided to start a secret society. The name will be the first letter of each of their names, sorted in alphabetical order. Create a function that takes in a list of names and returns the name of the secret society.\n",
    "\n",
    "- Examples\n",
    "- society_name([&quot;Adam&quot;, &quot;Sarah&quot;, &quot;Malcolm&quot;]) ➞ &quot;AMS&quot;\n",
    "- society_name([&quot;Harry&quot;, &quot;Newt&quot;, &quot;Luna&quot;, &quot;Cho&quot;]) ➞ &quot;CHLN&quot;\n",
    "- society_name([&quot;Phoebe&quot;, &quot;Chandler&quot;, &quot;Rachel&quot;, &quot;Ross&quot;, &quot;Monica&quot;, &quot;Joey&quot;])\n"
   ]
  },
  {
   "cell_type": "code",
   "execution_count": 3,
   "id": "467edae2",
   "metadata": {},
   "outputs": [
    {
     "name": "stdout",
     "output_type": "stream",
     "text": [
      "AMS\n",
      "CHLN\n",
      "CJMPRR\n"
     ]
    }
   ],
   "source": [
    "def society_name(lst):\n",
    "    return ''.join([i[0] for i in sorted(lst)])\n",
    "\n",
    "print(society_name(['Adam', 'Sarah', 'Malcolm']))\n",
    "print(society_name(['Harry', 'Newt', 'Luna', 'Cho']))\n",
    "print(society_name(['Phoebe', 'Chandler', 'Rachel', 'Ross', 'Monica', 'Joey']))"
   ]
  },
  {
   "cell_type": "markdown",
   "id": "a0555f15",
   "metadata": {},
   "source": [
    "## Question4\n",
    "- An isogram is a word that has no duplicate letters. Create a function that takes a string and returns either True or False depending on whether or not it&#39;s an &quot;isogram&quot;.\n",
    "- Examples\n",
    "- is_isogram(&quot;Algorism&quot;) ➞ True\n",
    "- is_isogram(&quot;PasSword&quot;) ➞ False\n",
    "- Not case sensitive.\n",
    "- is_isogram(&quot;Consecutive&quot;) ➞ False\n",
    "- Notes\n",
    "-  Ignore letter case (should not be case sensitive).\n",
    "-  All test cases contain valid one word strings."
   ]
  },
  {
   "cell_type": "code",
   "execution_count": 4,
   "id": "3f947cd9",
   "metadata": {},
   "outputs": [
    {
     "name": "stdout",
     "output_type": "stream",
     "text": [
      "True\n",
      "False\n",
      "False\n"
     ]
    }
   ],
   "source": [
    "def is_isogram(s):\n",
    "    for i in range(len(s)):\n",
    "        if s.lower().count(s[i]) > 1:\n",
    "            return False\n",
    "    else:\n",
    "        return True\n",
    "print(is_isogram('Algorism'))\n",
    "\n",
    "print(is_isogram('PasSword'))\n",
    "\n",
    "print(is_isogram('Consecutive'))"
   ]
  },
  {
   "cell_type": "markdown",
   "id": "4e450c6e",
   "metadata": {},
   "source": [
    "## Question5\n",
    "- Create a function that takes a string and returns True or False, depending on whether the characters are in order or not.\n",
    "- Examples\n",
    "- is_in_order(&quot;abc&quot;) ➞ True\n",
    "- is_in_order(&quot;edabit&quot;) ➞ False\n",
    "- is_in_order(&quot;123&quot;) ➞ True\n",
    "- is_in_order(&quot;xyzz&quot;) ➞ True\n",
    "- Notes\n",
    "- You don&#39;t have to handle empty strings."
   ]
  },
  {
   "cell_type": "code",
   "execution_count": 5,
   "id": "eb18935b",
   "metadata": {},
   "outputs": [
    {
     "name": "stdout",
     "output_type": "stream",
     "text": [
      "True\n",
      "False\n",
      "True\n",
      "True\n"
     ]
    }
   ],
   "source": [
    "def is_in_order(s):\n",
    "    n = len(s)\n",
    "    c = [s[i] for i in range(len(s))]\n",
    "    c.sort()\n",
    "    for i in range(n):\n",
    "        if c[i] != s[i]:\n",
    "            return False\n",
    "    return True\n",
    "\n",
    "\n",
    "print(is_in_order('abc'))\n",
    "\n",
    "print(is_in_order('edabit'))\n",
    "\n",
    "print(is_in_order('123'))\n",
    "\n",
    "print(is_in_order('xyzz'))\n"
   ]
  }
 ],
 "metadata": {
  "kernelspec": {
   "display_name": "Python 3 (ipykernel)",
   "language": "python",
   "name": "python3"
  },
  "language_info": {
   "codemirror_mode": {
    "name": "ipython",
    "version": 3
   },
   "file_extension": ".py",
   "mimetype": "text/x-python",
   "name": "python",
   "nbconvert_exporter": "python",
   "pygments_lexer": "ipython3",
   "version": "3.10.9"
  }
 },
 "nbformat": 4,
 "nbformat_minor": 5
}
