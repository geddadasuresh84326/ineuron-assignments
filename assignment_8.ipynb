{
 "cells": [
  {
   "cell_type": "markdown",
   "id": "07fb59bd",
   "metadata": {},
   "source": [
    "## 1. Is the Python Standard Library included with PyInputPlus?\n",
    "### Ans :- \n",
    "- PyInputPlus is not a part of Python Standard Library \n",
    "- We must install it using pip "
   ]
  },
  {
   "cell_type": "markdown",
   "id": "069d56e6",
   "metadata": {},
   "source": [
    "## 2. Why is PyInputPlus commonly imported with import pyinputplus as pypi?\n",
    "### Ans :-\n",
    "- Usually we give a shortname to the module that we imported. By using that name we can call functions inside that module"
   ]
  },
  {
   "cell_type": "markdown",
   "id": "0256e5aa",
   "metadata": {},
   "source": [
    "## 3. How do you distinguish between inputInt() and inputFloat()?\n",
    "### Ans :- \n",
    "- The difference is in the data-type\n",
    "- when you use inputInt()  the program expects an integer value as input but in inputFloat() it expects a float value"
   ]
  },
  {
   "cell_type": "markdown",
   "id": "42d47a84",
   "metadata": {},
   "source": [
    "## 4. Using PyInputPlus, how do you ensure that the user enters a whole number between 0 and 99?\n",
    "### Ans :- \n",
    "- By using pyip.inputint(min=0, max=99)\n"
   ]
  },
  {
   "cell_type": "markdown",
   "id": "83049caa",
   "metadata": {},
   "source": [
    "## 5. What is transferred to the keyword arguments allowRegexes and blockRegexes?\n",
    "### Ans :- \n",
    "- A list of regex strings that are either explicitly allowed or denied"
   ]
  },
  {
   "cell_type": "markdown",
   "id": "5c9a1bba",
   "metadata": {},
   "source": [
    "## 6. If a blank input is entered three times, what does inputStr(limit=3) do?\n",
    "### Ans :- \n",
    "- The function will raise RetryLimitException."
   ]
  },
  {
   "cell_type": "markdown",
   "id": "f494e6f9",
   "metadata": {},
   "source": [
    "## 7. If blank input is entered three times, what does inputStr(limit=3, default=&#39;hello&#39;) do?\n",
    "### Ans :- \n",
    "- The function returns the value 'hello'"
   ]
  }
 ],
 "metadata": {
  "kernelspec": {
   "display_name": "Python 3 (ipykernel)",
   "language": "python",
   "name": "python3"
  },
  "language_info": {
   "codemirror_mode": {
    "name": "ipython",
    "version": 3
   },
   "file_extension": ".py",
   "mimetype": "text/x-python",
   "name": "python",
   "nbconvert_exporter": "python",
   "pygments_lexer": "ipython3",
   "version": "3.10.9"
  }
 },
 "nbformat": 4,
 "nbformat_minor": 5
}
