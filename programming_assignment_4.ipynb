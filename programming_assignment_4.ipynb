{
 "cells": [
  {
   "cell_type": "markdown",
   "id": "62d1e64f",
   "metadata": {},
   "source": [
    "## 1. Write a Python Program to Find the Factorial of a Number?\n"
   ]
  },
  {
   "cell_type": "code",
   "execution_count": 9,
   "id": "a722ada0",
   "metadata": {},
   "outputs": [
    {
     "name": "stdout",
     "output_type": "stream",
     "text": [
      "3628800\n"
     ]
    }
   ],
   "source": [
    "def fact(n):\n",
    "    if(n < 0):\n",
    "        return \"For negative numbers there is no factorial\"\n",
    "    if(n == 1 or n == 0):\n",
    "        return 1\n",
    "    else:\n",
    "        return n*fact(n-1)\n",
    "print(fact(10))"
   ]
  },
  {
   "cell_type": "markdown",
   "id": "1cc78cf0",
   "metadata": {},
   "source": [
    "## 2. Write a Python Program to Display the multiplication Table?"
   ]
  },
  {
   "cell_type": "code",
   "execution_count": 10,
   "id": "3e3e9d26",
   "metadata": {},
   "outputs": [
    {
     "name": "stdout",
     "output_type": "stream",
     "text": [
      "10  *  1  =  10\n",
      "10  *  2  =  20\n",
      "10  *  3  =  30\n",
      "10  *  4  =  40\n",
      "10  *  5  =  50\n",
      "10  *  6  =  60\n",
      "10  *  7  =  70\n",
      "10  *  8  =  80\n",
      "10  *  9  =  90\n",
      "10  *  10  =  100\n"
     ]
    }
   ],
   "source": [
    "def mulTable(num):\n",
    "    for i in range(1,11):\n",
    "        print(num,\" * \",i,\" = \",num*i)\n",
    "mulTable(10)"
   ]
  },
  {
   "cell_type": "markdown",
   "id": "8fad297a",
   "metadata": {},
   "source": [
    "## 3. Write a Python Program to Print the Fibonacci sequence?\n"
   ]
  },
  {
   "cell_type": "code",
   "execution_count": 11,
   "id": "f711c405",
   "metadata": {},
   "outputs": [
    {
     "name": "stdout",
     "output_type": "stream",
     "text": [
      "No.of terms :  4\n",
      "Fibonacci sequence:\n",
      "0\n",
      "1\n",
      "1\n",
      "2\n"
     ]
    }
   ],
   "source": [
    "def fibonacci():\n",
    "    nterms = int(input(\"No.of terms :  \"))\n",
    "    n1, n2 = 0, 1\n",
    "    count = 0\n",
    "\n",
    "    if nterms <= 0:\n",
    "        print(\"Please enter a positive integer\")\n",
    "    elif nterms == 1:\n",
    "        print(\"Fibonacci sequence upto\",nterms,\":\")\n",
    "        print(n1)\n",
    "    else:\n",
    "        print(\"Fibonacci sequence:\")\n",
    "        while count < nterms:\n",
    "            print(n1)\n",
    "            nth = n1 + n2\n",
    "            n1 = n2\n",
    "            n2 = nth\n",
    "            count+=1\n",
    "fibonacci()"
   ]
  },
  {
   "cell_type": "markdown",
   "id": "6101904a",
   "metadata": {},
   "source": [
    "## 4. Write a Python Program to Check Armstrong Number?\n"
   ]
  },
  {
   "cell_type": "code",
   "execution_count": 13,
   "id": "a73801c1",
   "metadata": {},
   "outputs": [
    {
     "name": "stdout",
     "output_type": "stream",
     "text": [
      "Enter a number : 407\n",
      "Armstrong number\n"
     ]
    }
   ],
   "source": [
    "def armstrong():\n",
    "    num = int(input(\"Enter a number : \"))\n",
    "    temp = num\n",
    "    sum = 0\n",
    "    while temp > 0:\n",
    "        rem = temp % 10\n",
    "        sum += rem**3\n",
    "        temp //= 10\n",
    "    if(num == sum):\n",
    "        return \"Armstrong number\"\n",
    "    else:\n",
    "        return \"Not Armstrong number\"\n",
    "print(armstrong())"
   ]
  },
  {
   "cell_type": "markdown",
   "id": "70fe2898",
   "metadata": {},
   "source": [
    "## 5. Write a Python Program to Find Armstrong Number in an Interval?"
   ]
  },
  {
   "cell_type": "code",
   "execution_count": 17,
   "id": "3c7a1aa8",
   "metadata": {},
   "outputs": [
    {
     "name": "stdout",
     "output_type": "stream",
     "text": [
      "find Armstrong numbers upto : 2000\n",
      "[1, 153, 370, 371, 407]\n"
     ]
    }
   ],
   "source": [
    "def armstrong():\n",
    "    num = int(input(\"find Armstrong numbers upto : \"))\n",
    "    armstrongNumbers = []\n",
    "    for i in range(1,num+1):\n",
    "        temp = i\n",
    "        sum = 0\n",
    "        while temp > 0:\n",
    "            rem = temp % 10\n",
    "            sum += rem**3\n",
    "            temp //= 10\n",
    "        if(i == sum):\n",
    "            armstrongNumbers.append(i)\n",
    "    return armstrongNumbers\n",
    "print(armstrong())"
   ]
  },
  {
   "cell_type": "markdown",
   "id": "7814f843",
   "metadata": {},
   "source": [
    "## 6. Write a Python Program to Find the Sum of Natural Numbers?"
   ]
  },
  {
   "cell_type": "code",
   "execution_count": 19,
   "id": "ed695bf9",
   "metadata": {},
   "outputs": [
    {
     "name": "stdout",
     "output_type": "stream",
     "text": [
      "Enter a range : 10\n",
      "55\n"
     ]
    }
   ],
   "source": [
    "def sumOfNaturalNumbers():\n",
    "    num = int(input(\"Enter a range : \"))\n",
    "    sum = 0\n",
    "    for i in range(1,num+1):\n",
    "        sum += i\n",
    "    return sum\n",
    "print(sumOfNaturalNumbers())"
   ]
  }
 ],
 "metadata": {
  "kernelspec": {
   "display_name": "Python 3 (ipykernel)",
   "language": "python",
   "name": "python3"
  },
  "language_info": {
   "codemirror_mode": {
    "name": "ipython",
    "version": 3
   },
   "file_extension": ".py",
   "mimetype": "text/x-python",
   "name": "python",
   "nbconvert_exporter": "python",
   "pygments_lexer": "ipython3",
   "version": "3.10.9"
  }
 },
 "nbformat": 4,
 "nbformat_minor": 5
}
