{
 "cells": [
  {
   "cell_type": "markdown",
   "id": "5bc5371a",
   "metadata": {},
   "source": [
    "## 1. Write a Python Program to Find LCM?"
   ]
  },
  {
   "cell_type": "code",
   "execution_count": 6,
   "id": "73cfd5f8",
   "metadata": {},
   "outputs": [
    {
     "name": "stdout",
     "output_type": "stream",
     "text": [
      "4\n"
     ]
    }
   ],
   "source": [
    "def lcm(a,b):\n",
    "    if(a>b):\n",
    "        max = a\n",
    "    else:\n",
    "        max = b\n",
    "    while(True):\n",
    "        if(max % a ==0 and max % b ==0):\n",
    "            lcm = max\n",
    "            break\n",
    "        max += 1\n",
    "    return lcm\n",
    "print(lcm(2,4))"
   ]
  },
  {
   "cell_type": "markdown",
   "id": "118c6ffa",
   "metadata": {},
   "source": [
    "## 2. Write a Python Program to Find HCF?\n"
   ]
  },
  {
   "cell_type": "code",
   "execution_count": 7,
   "id": "809dc99a",
   "metadata": {},
   "outputs": [
    {
     "name": "stdout",
     "output_type": "stream",
     "text": [
      "4\n"
     ]
    }
   ],
   "source": [
    "def hcf(a,b):\n",
    "    if(a<b):\n",
    "        min = a\n",
    "    else:\n",
    "        min = b\n",
    "    for i in range(1,min+1):\n",
    "        if(a % i == 0 and b % i == 0):\n",
    "            hcf = i\n",
    "    return hcf\n",
    "print(hcf(4,8))"
   ]
  },
  {
   "cell_type": "markdown",
   "id": "98678d4c",
   "metadata": {},
   "source": [
    "## 3. Write a Python Program to Convert Decimal to Binary, Octal and Hexadecimal?\n"
   ]
  },
  {
   "cell_type": "code",
   "execution_count": 3,
   "id": "9d69ae33",
   "metadata": {},
   "outputs": [
    {
     "name": "stdout",
     "output_type": "stream",
     "text": [
      "1010\n"
     ]
    }
   ],
   "source": [
    "# Decimal to Binary conversion\n",
    "def decimal_to_binary(n):\n",
    "    binary = 0 \n",
    "    ctr = 0\n",
    "    temp = n\n",
    "    while(temp > 0):\n",
    "        binary = ((temp%2)*(10**ctr)) + binary\n",
    "        temp //=2\n",
    "        ctr +=1\n",
    "    return binary\n",
    "print(decimal_to_binary(10))"
   ]
  },
  {
   "cell_type": "code",
   "execution_count": 6,
   "id": "967796f9",
   "metadata": {},
   "outputs": [
    {
     "name": "stdout",
     "output_type": "stream",
     "text": [
      "17\n"
     ]
    }
   ],
   "source": [
    "# Decimal to Octal\n",
    "def decimal_to_octal(n):\n",
    "    octal = 0 \n",
    "    ctr = 0\n",
    "    temp = n\n",
    "    while(temp > 0):\n",
    "        octal += ((temp%8)*(10**ctr))\n",
    "        temp //=8\n",
    "        ctr +=1\n",
    "    return octal\n",
    "print(decimal_to_octal(15))"
   ]
  },
  {
   "cell_type": "code",
   "execution_count": 7,
   "id": "c61f41d2",
   "metadata": {},
   "outputs": [
    {
     "name": "stdout",
     "output_type": "stream",
     "text": [
      "2C\n"
     ]
    }
   ],
   "source": [
    "# Decimal to Hexadecimal\n",
    "\n",
    "def decimal_to_hexadecimal(decimal):\n",
    "    hexas = ['0', '1', '2', '3', '4', '5', '6', '7', '8', '9', 'A' , 'B', 'C', 'D', 'E', 'F']\n",
    "\n",
    "    hexadecimal = ''\n",
    "\n",
    "    while(decimal>0):\n",
    "        remainder = decimal%16\n",
    "        hexadecimal = hexas[remainder]+ hexadecimal\n",
    "        decimal = decimal//16\n",
    "    \n",
    "    return hexadecimal\n",
    "print(decimal_to_hexadecimal(44))"
   ]
  },
  {
   "cell_type": "markdown",
   "id": "db4c57ba",
   "metadata": {},
   "source": [
    "## 4. Write a Python Program To Find ASCII value of a character?\n"
   ]
  },
  {
   "cell_type": "code",
   "execution_count": 1,
   "id": "d0531719",
   "metadata": {},
   "outputs": [
    {
     "name": "stdout",
     "output_type": "stream",
     "text": [
      "97\n"
     ]
    }
   ],
   "source": [
    "def ascii(ch):\n",
    "    return ord(ch)\n",
    "print(ascii('a'))"
   ]
  },
  {
   "cell_type": "markdown",
   "id": "660f3498",
   "metadata": {},
   "source": [
    "## 5. Write a Python Program to Make a Simple Calculator with 4 basic mathematical operations?"
   ]
  },
  {
   "cell_type": "code",
   "execution_count": 8,
   "id": "4bab9a3f",
   "metadata": {},
   "outputs": [
    {
     "name": "stdout",
     "output_type": "stream",
     "text": [
      "addition :  6\n",
      "division :  2.0\n",
      "multiplication :  0\n",
      "subtraction :  8\n"
     ]
    }
   ],
   "source": [
    "def add(a,b):\n",
    "    return a+b\n",
    "def div(a,b):\n",
    "    return a/b\n",
    "def mul(a,b):\n",
    "    return a*b\n",
    "def sub(a,b):\n",
    "    return a-b\n",
    "\n",
    "print(\"addition : \",add(2,4))\n",
    "print(\"division : \",div(10,5))\n",
    "print(\"multiplication : \",mul(0,1))\n",
    "print(\"subtraction : \",sub(10,2))"
   ]
  }
 ],
 "metadata": {
  "kernelspec": {
   "display_name": "Python 3 (ipykernel)",
   "language": "python",
   "name": "python3"
  },
  "language_info": {
   "codemirror_mode": {
    "name": "ipython",
    "version": 3
   },
   "file_extension": ".py",
   "mimetype": "text/x-python",
   "name": "python",
   "nbconvert_exporter": "python",
   "pygments_lexer": "ipython3",
   "version": "3.10.9"
  }
 },
 "nbformat": 4,
 "nbformat_minor": 5
}
