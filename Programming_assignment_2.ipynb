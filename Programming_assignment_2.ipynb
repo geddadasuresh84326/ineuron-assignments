{
 "cells": [
  {
   "cell_type": "markdown",
   "id": "faabd682",
   "metadata": {},
   "source": [
    "## 1. Write a Python program to convert kilometers to miles?\n"
   ]
  },
  {
   "cell_type": "code",
   "execution_count": 1,
   "id": "458dce03",
   "metadata": {},
   "outputs": [
    {
     "name": "stdout",
     "output_type": "stream",
     "text": [
      "0.621371192237334\n"
     ]
    }
   ],
   "source": [
    "def kmToMiles(kms):\n",
    "    return kms/1.609344\n",
    "print(kmToMiles(1))"
   ]
  },
  {
   "cell_type": "markdown",
   "id": "c9e7b7de",
   "metadata": {},
   "source": [
    "## 2. Write a Python program to convert Celsius to Fahrenheit?\n"
   ]
  },
  {
   "cell_type": "code",
   "execution_count": 4,
   "id": "fe3855d3",
   "metadata": {},
   "outputs": [
    {
     "name": "stdout",
     "output_type": "stream",
     "text": [
      "35.6\n"
     ]
    }
   ],
   "source": [
    "def celsiusToFahrenheit(c):\n",
    "    return (c*(9/5))+32\n",
    "\n",
    "print(celsiusToFahrenheit(2))"
   ]
  },
  {
   "cell_type": "markdown",
   "id": "8f026903",
   "metadata": {},
   "source": [
    "## 3. Write a Python program to display calendar?\n"
   ]
  },
  {
   "cell_type": "code",
   "execution_count": 5,
   "id": "9e095508",
   "metadata": {},
   "outputs": [
    {
     "name": "stdout",
     "output_type": "stream",
     "text": [
      "Enter year : 2023\n",
      "Enter month : 5\n",
      "      May 2023\n",
      "Mo Tu We Th Fr Sa Su\n",
      " 1  2  3  4  5  6  7\n",
      " 8  9 10 11 12 13 14\n",
      "15 16 17 18 19 20 21\n",
      "22 23 24 25 26 27 28\n",
      "29 30 31\n",
      "\n"
     ]
    }
   ],
   "source": [
    "import calendar\n",
    "\n",
    "year = int(input(\"Enter year : \"))\n",
    "month = int(input(\"Enter month : \"))\n",
    "\n",
    "print(calendar.month(year,month))"
   ]
  },
  {
   "cell_type": "markdown",
   "id": "47e2ac8d",
   "metadata": {},
   "source": [
    "## 4. Write a Python program to solve quadratic equation?\n"
   ]
  },
  {
   "cell_type": "code",
   "execution_count": 7,
   "id": "8ecd061a",
   "metadata": {},
   "outputs": [
    {
     "name": "stdout",
     "output_type": "stream",
     "text": [
      "solution of quadratic equation : (-3+0j) and (-2+0j) \n"
     ]
    }
   ],
   "source": [
    "import cmath\n",
    "\n",
    "def quadraticEquation(a,b,c):\n",
    "    d = (b**2)-(4*a*c)\n",
    "    sol1 = (-b-cmath.sqrt(d))/(2*a)\n",
    "    sol2 = (-b+cmath.sqrt(d))/(2*a)\n",
    "    print(\"solution of quadratic equation : {} and {} \".format(sol1,sol2))\n",
    "quadraticEquation(1,5,6)"
   ]
  },
  {
   "cell_type": "markdown",
   "id": "891237a1",
   "metadata": {},
   "source": [
    "## 5. Write a Python program to swap two variables without temp variable?"
   ]
  },
  {
   "cell_type": "code",
   "execution_count": 8,
   "id": "4b95d01a",
   "metadata": {},
   "outputs": [
    {
     "name": "stdout",
     "output_type": "stream",
     "text": [
      "Before swapping a =  10  b =  20\n",
      "After swapping a =  20  b =  10\n"
     ]
    }
   ],
   "source": [
    "a = 10\n",
    "b = 20\n",
    "\n",
    "print(\"Before swapping a = \",a,\" b = \",b)\n",
    "\n",
    "a,b = b,a\n",
    "\n",
    "print(\"After swapping a = \",a,\" b = \",b)\n"
   ]
  },
  {
   "cell_type": "code",
   "execution_count": null,
   "id": "1e66161b",
   "metadata": {},
   "outputs": [],
   "source": []
  }
 ],
 "metadata": {
  "kernelspec": {
   "display_name": "Python 3 (ipykernel)",
   "language": "python",
   "name": "python3"
  },
  "language_info": {
   "codemirror_mode": {
    "name": "ipython",
    "version": 3
   },
   "file_extension": ".py",
   "mimetype": "text/x-python",
   "name": "python",
   "nbconvert_exporter": "python",
   "pygments_lexer": "ipython3",
   "version": "3.10.9"
  }
 },
 "nbformat": 4,
 "nbformat_minor": 5
}
