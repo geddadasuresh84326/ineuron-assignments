{
 "cells": [
  {
   "cell_type": "markdown",
   "id": "2f068cf7",
   "metadata": {},
   "source": [
    "## 1. Why are functions advantageous to have in your programs? \n",
    "- functions have a set of lines of code,we can call this function as many times as we want inside our program\n",
    "- functions improves code reusability\n",
    "- functions reduce the lines of code\n",
    "- functions improves readability of the code"
   ]
  },
  {
   "cell_type": "markdown",
   "id": "877b20f7",
   "metadata": {},
   "source": [
    "## 2. When does the code in a function run: when it's specified or when it's called?\n",
    "- At the time of function calling only the code inside a function runs"
   ]
  },
  {
   "cell_type": "markdown",
   "id": "fc5977e7",
   "metadata": {},
   "source": [
    "## 3. What statement creates a function?\n",
    "- we create a function using \"def\" keyword "
   ]
  },
  {
   "cell_type": "markdown",
   "id": "24afa5ca",
   "metadata": {},
   "source": [
    "## 4. What is the difference between a function and a function call?\n",
    "- A function means ,it is having a set of lines of code which we often use \n",
    "- At the time of defining a function it won't do anything\n",
    "- At the time of function call only the code inside a function will be executed"
   ]
  },
  {
   "cell_type": "markdown",
   "id": "30231f32",
   "metadata": {},
   "source": [
    "## 5. How many global scopes are there in a Python program? How many local scopes?\n",
    "- there is only one global scope in python \n",
    "- the variables which are defined inside main body of a python program are called global variables and their scope is global,means those variables are available throughout the program\n",
    "\n",
    "\n",
    "- the variables which are defined inside function are called local variables and their scope is local to a function,means those variables are accessible inside that function only"
   ]
  },
  {
   "cell_type": "markdown",
   "id": "68e7584d",
   "metadata": {},
   "source": [
    "## 6. What happens to variables in a local scope when the function call returns?\n",
    "\n",
    "- Those variables are no longer available once a function call returns, means we cannot access them\n",
    "- For every function call new instances of local variables will be created"
   ]
  },
  {
   "cell_type": "markdown",
   "id": "ec1c542a",
   "metadata": {},
   "source": [
    "## 7. What is the concept of a return value? Is it possible to have a return value in an expression?\n",
    "- YES ,we can have a return value in an expression \n",
    "- and these expressions are evaluated and then the result is returned from the function\n"
   ]
  },
  {
   "cell_type": "markdown",
   "id": "3f28aa35",
   "metadata": {},
   "source": [
    "## 8. If a function does not have a return statement, what is the return value of a call to that function?\n",
    "- It returns None \n"
   ]
  },
  {
   "cell_type": "markdown",
   "id": "48d6a8fc",
   "metadata": {},
   "source": [
    "## 9. How do you make a function variable refer to the global variable?\n",
    "\n",
    "- Using global keyword ,\n",
    "- normally function variables are local ,to make them available globally we use \"global\" keyword"
   ]
  },
  {
   "cell_type": "markdown",
   "id": "bb1ed919",
   "metadata": {},
   "source": [
    "## 10. What is the data type of None?\n",
    "\n",
    "- None is used to represent no value or null , it's type is Nonetype\n"
   ]
  },
  {
   "cell_type": "markdown",
   "id": "25cead29",
   "metadata": {},
   "source": [
    "## 11. What does the sentence import areallyourpetsnamederic do?\n",
    "- It will import that module inside our program,so we can utilise the functions inside it"
   ]
  },
  {
   "cell_type": "markdown",
   "id": "90f4742d",
   "metadata": {},
   "source": [
    "## 12. If you had a bacon() feature in a spam module, what would you call it after importing spam?\n",
    "- import spam as sp\n",
    "- sp.bacon()"
   ]
  },
  {
   "cell_type": "markdown",
   "id": "819e2e3f",
   "metadata": {},
   "source": [
    "## 13. What can you do to save a programme from crashing if it encounters an error?\n",
    "- By handling that error using Exception Handling"
   ]
  },
  {
   "cell_type": "markdown",
   "id": "d73aba05",
   "metadata": {},
   "source": [
    "## 14. What is the purpose of the try clause? What is the purpose of the except clause?\n",
    "#### try :- \n",
    "- we normally place code which may leads to Exception inside try block\n",
    "- except block is used to handle Exceptions which are occured inside try block"
   ]
  },
  {
   "cell_type": "code",
   "execution_count": null,
   "id": "c2eb92fb",
   "metadata": {},
   "outputs": [],
   "source": []
  },
  {
   "cell_type": "code",
   "execution_count": null,
   "id": "526da92f",
   "metadata": {},
   "outputs": [],
   "source": []
  }
 ],
 "metadata": {
  "kernelspec": {
   "display_name": "Python 3 (ipykernel)",
   "language": "python",
   "name": "python3"
  },
  "language_info": {
   "codemirror_mode": {
    "name": "ipython",
    "version": 3
   },
   "file_extension": ".py",
   "mimetype": "text/x-python",
   "name": "python",
   "nbconvert_exporter": "python",
   "pygments_lexer": "ipython3",
   "version": "3.10.9"
  }
 },
 "nbformat": 4,
 "nbformat_minor": 5
}
