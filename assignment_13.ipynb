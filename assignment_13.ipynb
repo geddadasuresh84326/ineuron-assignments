{
 "cells": [
  {
   "cell_type": "markdown",
   "id": "a6f658f6",
   "metadata": {},
   "source": [
    "## 1. What advantages do Excel spreadsheets have over CSV spreadsheets?\n",
    "### Ans :-\n",
    "- Reading large data set is much easier for the end-user to read, comprehend and understand when compared to CSV.\n",
    "- Excel can be opened with Microsoft office only and does not support any other platform when compared to CSV.\n",
    "- Excel also provides the user option for external linking of data from other sources, and also, the user can do custom add-ins.\n",
    "- CSV does not manipulate data and stores it as-is. Excel also allows the user the add-in feature."
   ]
  },
  {
   "cell_type": "markdown",
   "id": "4b84d073",
   "metadata": {},
   "source": [
    "## 2.What do you pass to csv.reader() and csv.writer() to create reader and writer objects?\n",
    "### Ans :-\n",
    "### csv.reader() :-\n",
    "- CSV file in READ mode. The file object is named as csvfile. The file object is converted to csv.reader object. We save the csv.reader object as csvreader.\n",
    "- csvreader is an iterable object. Hence, .next() method returns the current row and advances the iterator to the next row. Since the first row of our csv file contains the headers (or field names), we save them in a list called fields. for row in csvreader:\n",
    "### csv.writer() :-\n",
    "- Here, we first open the CSV file in WRITE mode. The file object is named as csvfile. The file object is converted to csv.writer object. We save the csv.writer object as csvwriter.\n",
    "- Now we use writerow method to write the first row which is nothing but the field names"
   ]
  },
  {
   "cell_type": "markdown",
   "id": "a6a6fd67",
   "metadata": {},
   "source": [
    "## 3. What modes do File objects for reader and writer objects need to be opened in?\n",
    "### Ans :-\n",
    "- ‘r’\tOpen a file for reading. (default)\n",
    "- ‘w’\tOpen a file for writing. Creates a new file if it does not exist or truncates the file if it exists.\n",
    "- ‘x’\tOpen a file for exclusive creation. If the file already exists, the operation fails.\n",
    "- ‘a’\tOpen for appending at the end of the file without truncating it. Creates a new file if it does not exist.\n",
    "- ‘t’\tOpen in text mode. (default)\n",
    "- ‘b’\tOpen in binary mode.\n",
    "- ‘+’\tOpen a file for updating (reading and writing)"
   ]
  },
  {
   "cell_type": "markdown",
   "id": "108c6332",
   "metadata": {},
   "source": [
    "## 4. What method takes a list argument and writes it to a CSV file?\n",
    "### Ans :-\n",
    "- the first we import the CSV module in our python program file, and then only we can use its csv.writer() method.\n",
    "\n",
    "- After importing the CSV module we create two lists:\n",
    "\n",
    "- fields(column)\n",
    "- rows\n",
    "- The fields list is used to define the columns of the CSV file, and the rows variable in the code is a list of lists that will create rows of the CSV file. Then we make use of the with statement to open EmployeeData.csv, and if no such file exists in the present directory then this command will create an EmployeeData.csv file.\n",
    "\n",
    "- After this, we write our list data(both columns/fields and rows) into the CSV file by passing the file into the writer object constructor."
   ]
  },
  {
   "cell_type": "code",
   "execution_count": 1,
   "id": "f9f5a4d0",
   "metadata": {},
   "outputs": [],
   "source": [
    "import csv\n",
    "\n",
    "fields = ['Employee', 'ID', 'Salary']\n",
    "\n",
    "rows = [\n",
    "    ['XYZ', '011', '2000'],\n",
    "    ['ABC', '012', '8000'],\n",
    "    ['PQR', '351', '5000'],\n",
    "    ['EFG', '146', '10000']\n",
    "]\n",
    "\n",
    "\n",
    "with open('EmployeeData.csv', 'w') as f:\n",
    "    \n",
    "    csv_writer = csv.writer(f)\n",
    "    \n",
    "    csv_writer.writerow(fields)\n",
    "    \n",
    "    csv_writer.writerows(rows)\n",
    "\n"
   ]
  },
  {
   "cell_type": "markdown",
   "id": "f0b15326",
   "metadata": {},
   "source": [
    "## 5. What do the keyword arguments delimiter and line terminator do?\n",
    "### Ans :-\n",
    "- The delimiter is the character that appears between cells on a row. By default, the delimiter for a CSV file is a comma. \n",
    "- The line terminator is the character that comes at the end of a row."
   ]
  },
  {
   "cell_type": "markdown",
   "id": "c34d2f32",
   "metadata": {},
   "source": [
    "## 6. What function takes a string of JSON data and returns a Python data structure?\n",
    "### Ans :-\n",
    "- loads() We use the json. loads() method to parse a JSON string and return a Python object such as a dictionary."
   ]
  },
  {
   "cell_type": "markdown",
   "id": "03fa7ac9",
   "metadata": {},
   "source": [
    "## 7. What function takes a Python data structure and returns a string of JSON data?\n",
    "### Ans :-\n",
    "- If you have a Python object, you can convert it into a JSON string by using the json.dumps() method."
   ]
  }
 ],
 "metadata": {
  "kernelspec": {
   "display_name": "Python 3 (ipykernel)",
   "language": "python",
   "name": "python3"
  },
  "language_info": {
   "codemirror_mode": {
    "name": "ipython",
    "version": 3
   },
   "file_extension": ".py",
   "mimetype": "text/x-python",
   "name": "python",
   "nbconvert_exporter": "python",
   "pygments_lexer": "ipython3",
   "version": "3.10.9"
  }
 },
 "nbformat": 4,
 "nbformat_minor": 5
}
