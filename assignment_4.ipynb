{
 "cells": [
  {
   "cell_type": "markdown",
   "id": "23b09c53",
   "metadata": {},
   "source": [
    "## 1. What exactly is [ ]?\n",
    "- It is a list type data structure\n",
    "- It is used to store group of items\n",
    "- It can hold homogeneous data types\n",
    "- It is mutable ,means we can perform insert,delete,update operations on this data structure\n"
   ]
  },
  {
   "cell_type": "markdown",
   "id": "ae0844eb",
   "metadata": {},
   "source": [
    "## 2. In a list of values stored in a variable called spam, how would you assign the value 'hello' as the third value? (Assume [2, 4, 6, 8, 10] are in spam.)\n",
    "\n",
    "#### Ans :- By using insert function"
   ]
  },
  {
   "cell_type": "code",
   "execution_count": 6,
   "id": "8c52a6c5",
   "metadata": {},
   "outputs": [],
   "source": [
    "spam = [2,4,6,8,10]"
   ]
  },
  {
   "cell_type": "code",
   "execution_count": 7,
   "id": "cd121361",
   "metadata": {},
   "outputs": [],
   "source": [
    "spam.insert(2,\"hello\")"
   ]
  },
  {
   "cell_type": "code",
   "execution_count": 8,
   "id": "8d3eb5f1",
   "metadata": {},
   "outputs": [
    {
     "data": {
      "text/plain": [
       "[2, 4, 'hello', 6, 8, 10]"
      ]
     },
     "execution_count": 8,
     "metadata": {},
     "output_type": "execute_result"
    }
   ],
   "source": [
    "spam"
   ]
  },
  {
   "cell_type": "markdown",
   "id": "abc65533",
   "metadata": {},
   "source": [
    "## Let's pretend the spam includes the list ['a', 'b', 'c', 'd'] for the next three queries.\n",
    "## 3. What is the value of spam[int(int('3' * 2) / 11)]?\n"
   ]
  },
  {
   "cell_type": "code",
   "execution_count": 9,
   "id": "1f12c6da",
   "metadata": {},
   "outputs": [],
   "source": [
    "spam = ['a','b','c','d']"
   ]
  },
  {
   "cell_type": "code",
   "execution_count": 13,
   "id": "ffe6846b",
   "metadata": {},
   "outputs": [
    {
     "data": {
      "text/plain": [
       "'d'"
      ]
     },
     "execution_count": 13,
     "metadata": {},
     "output_type": "execute_result"
    }
   ],
   "source": [
    "spam[int(int('3'*2)/11)]"
   ]
  },
  {
   "cell_type": "markdown",
   "id": "384be406",
   "metadata": {},
   "source": [
    "## 4. What is the value of spam[-1]?\n",
    "#### Ans :- It returns last value 'd'"
   ]
  },
  {
   "cell_type": "markdown",
   "id": "c1625420",
   "metadata": {},
   "source": [
    "## 5. What is the value of spam[:2]?\n",
    "#### Ans :-\n",
    "#### It returns a list from index no.0 to index no.1\n",
    "#### ['a','b']"
   ]
  },
  {
   "cell_type": "code",
   "execution_count": 14,
   "id": "41e74525",
   "metadata": {},
   "outputs": [
    {
     "data": {
      "text/plain": [
       "['a', 'b']"
      ]
     },
     "execution_count": 14,
     "metadata": {},
     "output_type": "execute_result"
    }
   ],
   "source": [
    "spam[:2]"
   ]
  },
  {
   "cell_type": "markdown",
   "id": "70355049",
   "metadata": {},
   "source": [
    "## Let's pretend bacon has the list [3.14, 'cat', 11, 'cat', True] for the next three questions.\n",
    "## 6. What is the value of bacon.index('cat')?\n",
    "#### Ans :-  1\n"
   ]
  },
  {
   "cell_type": "code",
   "execution_count": 15,
   "id": "71394874",
   "metadata": {},
   "outputs": [],
   "source": [
    "bacon = [3.14, 'cat', 11, 'cat', True]"
   ]
  },
  {
   "cell_type": "code",
   "execution_count": 16,
   "id": "3554276d",
   "metadata": {},
   "outputs": [
    {
     "data": {
      "text/plain": [
       "1"
      ]
     },
     "execution_count": 16,
     "metadata": {},
     "output_type": "execute_result"
    }
   ],
   "source": [
    "bacon.index('cat')"
   ]
  },
  {
   "cell_type": "markdown",
   "id": "36f865a2",
   "metadata": {},
   "source": [
    "## 7. How does bacon.append(99) change the look of the list value in bacon?"
   ]
  },
  {
   "cell_type": "code",
   "execution_count": 17,
   "id": "397dc8a4",
   "metadata": {},
   "outputs": [],
   "source": [
    "bacon.append(99)"
   ]
  },
  {
   "cell_type": "code",
   "execution_count": 18,
   "id": "1060b3f4",
   "metadata": {},
   "outputs": [
    {
     "data": {
      "text/plain": [
       "[3.14, 'cat', 11, 'cat', True, 99]"
      ]
     },
     "execution_count": 18,
     "metadata": {},
     "output_type": "execute_result"
    }
   ],
   "source": [
    "bacon"
   ]
  },
  {
   "cell_type": "markdown",
   "id": "1da3e03c",
   "metadata": {},
   "source": [
    "## 8. How does bacon.remove('cat') change the look of the list in bacon?\n",
    "#### Ans :- It removes first occurance of the specified value"
   ]
  },
  {
   "cell_type": "code",
   "execution_count": 19,
   "id": "b3e59f6e",
   "metadata": {},
   "outputs": [],
   "source": [
    "bacon.remove('cat')"
   ]
  },
  {
   "cell_type": "code",
   "execution_count": 20,
   "id": "ff2ecca7",
   "metadata": {},
   "outputs": [
    {
     "data": {
      "text/plain": [
       "[3.14, 11, 'cat', True, 99]"
      ]
     },
     "execution_count": 20,
     "metadata": {},
     "output_type": "execute_result"
    }
   ],
   "source": [
    "bacon"
   ]
  },
  {
   "cell_type": "markdown",
   "id": "ffc79a34",
   "metadata": {},
   "source": [
    "## 9. What are the list concatenation and list replication operators?\n",
    "#### Ans :- \n",
    "#### List concatenation operators:-\n",
    "1. '+' operator\n",
    "2. extend function\n",
    "#### List replication operators :- \n",
    "1. '*' operator"
   ]
  },
  {
   "cell_type": "code",
   "execution_count": 35,
   "id": "5abb7deb",
   "metadata": {},
   "outputs": [
    {
     "data": {
      "text/plain": [
       "[3.14, 11, 'cat', True, 99, 1, 2, 3]"
      ]
     },
     "execution_count": 35,
     "metadata": {},
     "output_type": "execute_result"
    }
   ],
   "source": [
    "bacon_1 = bacon+[1,2,3]\n",
    "bacon_1"
   ]
  },
  {
   "cell_type": "code",
   "execution_count": 36,
   "id": "e4e59ee7",
   "metadata": {},
   "outputs": [
    {
     "data": {
      "text/plain": [
       "[3.14, 11, 'cat', True, 99, 1, 2, 3, 'a', 'b']"
      ]
     },
     "execution_count": 36,
     "metadata": {},
     "output_type": "execute_result"
    }
   ],
   "source": [
    "bacon_1.extend(['a','b'])\n",
    "bacon_1"
   ]
  },
  {
   "cell_type": "code",
   "execution_count": 38,
   "id": "f32a273f",
   "metadata": {},
   "outputs": [
    {
     "data": {
      "text/plain": [
       "[3.14, 11, 'cat', True, 99, 3.14, 11, 'cat', True, 99]"
      ]
     },
     "execution_count": 38,
     "metadata": {},
     "output_type": "execute_result"
    }
   ],
   "source": [
    "bacon*2"
   ]
  },
  {
   "cell_type": "markdown",
   "id": "3ee3a7b9",
   "metadata": {},
   "source": [
    "## 10. What is difference between the list methods append() and insert()?\n",
    "#### Ans :- \n",
    "#### append() :- \n",
    "- append() function appends a value at last index of a list\n",
    "#### insert() :- \n",
    "- insert() function inserts a value at specified index of a list"
   ]
  },
  {
   "cell_type": "markdown",
   "id": "5d02046d",
   "metadata": {},
   "source": [
    "## 11. What are the two methods for removing items from a list?\n",
    "#### Ans :- \n",
    "#### a. pop() :- \n",
    "- pop() function removes and returns a value at last index\n",
    "#### b.remove() :- \n",
    "- remove() function removes specified value ,we need to pass value as parameter"
   ]
  },
  {
   "cell_type": "code",
   "execution_count": 39,
   "id": "d5df51db",
   "metadata": {},
   "outputs": [
    {
     "data": {
      "text/plain": [
       "99"
      ]
     },
     "execution_count": 39,
     "metadata": {},
     "output_type": "execute_result"
    }
   ],
   "source": [
    "bacon.pop()"
   ]
  },
  {
   "cell_type": "code",
   "execution_count": 40,
   "id": "d8790f95",
   "metadata": {},
   "outputs": [],
   "source": [
    "bacon.remove('cat')"
   ]
  },
  {
   "cell_type": "markdown",
   "id": "ff6ba97b",
   "metadata": {},
   "source": [
    "## 12. Describe how list values and string values are identical.\n",
    "- Both list and string follows indexing\n",
    "- Both the data types are iterables \n",
    "- Both supports slicing and indexing\n",
    "- Both having almost same methods"
   ]
  },
  {
   "cell_type": "markdown",
   "id": "61f726df",
   "metadata": {},
   "source": [
    "## 13. What's the difference between tuples and lists?\n",
    "- list is mutable\n",
    "- tuple is immutable\n",
    "- list is represented in []\n",
    "- tuple is represented in () "
   ]
  },
  {
   "cell_type": "markdown",
   "id": "1dcf5308",
   "metadata": {},
   "source": [
    "## 14. How do you type a tuple value that only contains the integer 42?\n",
    "- t = (42)"
   ]
  },
  {
   "cell_type": "code",
   "execution_count": 41,
   "id": "d223587e",
   "metadata": {},
   "outputs": [],
   "source": [
    "t = (42)"
   ]
  },
  {
   "cell_type": "markdown",
   "id": "07e4657d",
   "metadata": {},
   "source": [
    "## 15. How do you get a list values tuple form? How do you get a tuple value's list form?\n",
    "- By doing type conversion"
   ]
  },
  {
   "cell_type": "code",
   "execution_count": 44,
   "id": "d049fba0",
   "metadata": {},
   "outputs": [
    {
     "data": {
      "text/plain": [
       "list"
      ]
     },
     "execution_count": 44,
     "metadata": {},
     "output_type": "execute_result"
    }
   ],
   "source": [
    "l1 = [1,2,3]\n",
    "type(l1)"
   ]
  },
  {
   "cell_type": "code",
   "execution_count": 45,
   "id": "0105af66",
   "metadata": {},
   "outputs": [
    {
     "data": {
      "text/plain": [
       "tuple"
      ]
     },
     "execution_count": 45,
     "metadata": {},
     "output_type": "execute_result"
    }
   ],
   "source": [
    "t1 = tuple(l1)\n",
    "type(t1)"
   ]
  },
  {
   "cell_type": "code",
   "execution_count": 46,
   "id": "e29386ca",
   "metadata": {},
   "outputs": [
    {
     "data": {
      "text/plain": [
       "list"
      ]
     },
     "execution_count": 46,
     "metadata": {},
     "output_type": "execute_result"
    }
   ],
   "source": [
    "l2 = list(t1)\n",
    "type(l2)"
   ]
  },
  {
   "cell_type": "markdown",
   "id": "fb75a54f",
   "metadata": {},
   "source": [
    "## 16. Variables that \"contain\" list values are not necessarily lists themselves. Instead, what do they contain?\n",
    "- a list can contain any type of data structure, like tuple,dictionary,set"
   ]
  },
  {
   "cell_type": "code",
   "execution_count": 47,
   "id": "a8e19313",
   "metadata": {},
   "outputs": [],
   "source": [
    "lst = [1,True,('a','b','c'),{1:\"x\",2:'y',3:'z'}]"
   ]
  },
  {
   "cell_type": "markdown",
   "id": "1c4fd2f7",
   "metadata": {},
   "source": [
    "## 17. How do you distinguish between copy.copy() and copy.deepcopy()?\n",
    "#### copy() :-\n",
    "- copy() function copies an object and having the same reference of the object\n",
    "- if we modify old object ,the change also reflects in the new copy also\n",
    "\n",
    "#### deepcopy() :-\n",
    "- deepcopy() function copies an object and it creates new reference to it,it doesn't points to the old reference\n",
    "- if we modify old object ,the change doesn't reflects in the new copy"
   ]
  },
  {
   "cell_type": "code",
   "execution_count": 62,
   "id": "962653e4",
   "metadata": {},
   "outputs": [],
   "source": [
    "import copy\n",
    "lst = [1,2,3,['a','b','c',['x','y','z']]]"
   ]
  },
  {
   "cell_type": "code",
   "execution_count": 63,
   "id": "ad9fed90",
   "metadata": {},
   "outputs": [
    {
     "data": {
      "text/plain": [
       "[1, 2, 3, ['a', 'b', 'c', ['x', 'y', 'z']]]"
      ]
     },
     "execution_count": 63,
     "metadata": {},
     "output_type": "execute_result"
    }
   ],
   "source": [
    "lst_copy = lst.copy()\n",
    "lst_copy"
   ]
  },
  {
   "cell_type": "code",
   "execution_count": 66,
   "id": "f309fbbb",
   "metadata": {},
   "outputs": [
    {
     "data": {
      "text/plain": [
       "[1, 2, 3, ['a', 'b', 'c', ['x', 'y', 'z']]]"
      ]
     },
     "execution_count": 66,
     "metadata": {},
     "output_type": "execute_result"
    }
   ],
   "source": [
    "lst_deepcopy = copy.deepcopy(lst)\n",
    "lst_deepcopy"
   ]
  },
  {
   "cell_type": "code",
   "execution_count": 69,
   "id": "2bddd666",
   "metadata": {},
   "outputs": [
    {
     "data": {
      "text/plain": [
       "['computer', 2, 3, ['a', 'b', 'c', ['x', 'y', 'z']]]"
      ]
     },
     "execution_count": 69,
     "metadata": {},
     "output_type": "execute_result"
    }
   ],
   "source": [
    "lst[0] = \"computer\"\n",
    "lst"
   ]
  },
  {
   "cell_type": "code",
   "execution_count": 70,
   "id": "66a64d0c",
   "metadata": {},
   "outputs": [
    {
     "data": {
      "text/plain": [
       "['computer', 2, 3, ['a', 'b', 'c', ['x', 'y', 'z']]]"
      ]
     },
     "execution_count": 70,
     "metadata": {},
     "output_type": "execute_result"
    }
   ],
   "source": [
    "lst_copy"
   ]
  },
  {
   "cell_type": "code",
   "execution_count": 71,
   "id": "4fd1d113",
   "metadata": {},
   "outputs": [
    {
     "data": {
      "text/plain": [
       "[1, 2, 3, ['a', 'b', 'c', ['x', 'y', 'z']]]"
      ]
     },
     "execution_count": 71,
     "metadata": {},
     "output_type": "execute_result"
    }
   ],
   "source": [
    "lst_deepcopy"
   ]
  },
  {
   "cell_type": "code",
   "execution_count": 72,
   "id": "c62f0c89",
   "metadata": {},
   "outputs": [
    {
     "data": {
      "text/plain": [
       "['software', 2, 3, ['a', 'b', 'c', ['x', 'y', 'z']]]"
      ]
     },
     "execution_count": 72,
     "metadata": {},
     "output_type": "execute_result"
    }
   ],
   "source": [
    "lst_copy[0] = \"software\"\n",
    "lst_copy"
   ]
  },
  {
   "cell_type": "code",
   "execution_count": 73,
   "id": "3f96b69f",
   "metadata": {},
   "outputs": [
    {
     "data": {
      "text/plain": [
       "['computer', 2, 3, ['a', 'b', 'c', ['x', 'y', 'z']]]"
      ]
     },
     "execution_count": 73,
     "metadata": {},
     "output_type": "execute_result"
    }
   ],
   "source": [
    "lst"
   ]
  }
 ],
 "metadata": {
  "kernelspec": {
   "display_name": "Python 3 (ipykernel)",
   "language": "python",
   "name": "python3"
  },
  "language_info": {
   "codemirror_mode": {
    "name": "ipython",
    "version": 3
   },
   "file_extension": ".py",
   "mimetype": "text/x-python",
   "name": "python",
   "nbconvert_exporter": "python",
   "pygments_lexer": "ipython3",
   "version": "3.10.9"
  }
 },
 "nbformat": 4,
 "nbformat_minor": 5
}
