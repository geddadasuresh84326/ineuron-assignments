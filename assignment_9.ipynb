{
 "cells": [
  {
   "cell_type": "markdown",
   "id": "c6e5445f",
   "metadata": {},
   "source": [
    "## 1. To what does a relative path refer?\n",
    "### Ans :- \n",
    "- relative paths are related to the current working directory"
   ]
  },
  {
   "cell_type": "markdown",
   "id": "cbb5e597",
   "metadata": {},
   "source": [
    "## 2. What does an absolute path start with your operating system?\n",
    "### Ans :- \n",
    "- Absolute path starts with root folder like / or c:\\"
   ]
  },
  {
   "cell_type": "markdown",
   "id": "3cc1be9c",
   "metadata": {},
   "source": [
    "## 3. What do the functions os.getcwd() and os.chdir() do?\n",
    "### Ans :- \n",
    "#### os.getcwd() \n",
    "- this function returns the current working directory\n",
    "#### os.chdir()\n",
    "- this function changes the current working directory"
   ]
  },
  {
   "cell_type": "markdown",
   "id": "ec025388",
   "metadata": {},
   "source": [
    "## 4. What are the . and .. folders?\n",
    "### Ans :- \n",
    "#### . is the current folder\n",
    "#### .. is the parent folder"
   ]
  },
  {
   "cell_type": "markdown",
   "id": "750408b6",
   "metadata": {},
   "source": [
    "## 5. In C:\\bacon\\eggs\\spam.txt, which part is the dir name, and which part is the base name?\n",
    "### Ans :-\n",
    "- dir name ---> C:\\bacon\\eggs\n",
    "- base name --> spam.txt"
   ]
  },
  {
   "cell_type": "markdown",
   "id": "d8f49c69",
   "metadata": {},
   "source": [
    "## 6. What are the three “mode” arguments that can be passed to the open() function?\n",
    "### Ans :-\n",
    "-  'r'  ---> read\n",
    "-  'w' ---> write\n",
    "-  'a'  ---> append"
   ]
  },
  {
   "cell_type": "markdown",
   "id": "2a9efa27",
   "metadata": {},
   "source": [
    "## 7. What happens if an existing file is opened in write mode?\n",
    "### Ans :-\n",
    "- the file will be erased and overwritten"
   ]
  },
  {
   "cell_type": "markdown",
   "id": "81dae5bd",
   "metadata": {},
   "source": [
    "## 8. How do you tell the difference between read() and readlines()?\n",
    "### Ans :-\n",
    "- read() method returns entire file's content as a single single string value\n",
    "- readlines() method returns list strings as aligned in the file"
   ]
  },
  {
   "cell_type": "markdown",
   "id": "816758c4",
   "metadata": {},
   "source": [
    "## 9. What data structure does a shelf value resemble?\n",
    "### Ans :-\n",
    "- It resembles a dictionary\n",
    "- It has key-value pairs"
   ]
  }
 ],
 "metadata": {
  "kernelspec": {
   "display_name": "Python 3 (ipykernel)",
   "language": "python",
   "name": "python3"
  },
  "language_info": {
   "codemirror_mode": {
    "name": "ipython",
    "version": 3
   },
   "file_extension": ".py",
   "mimetype": "text/x-python",
   "name": "python",
   "nbconvert_exporter": "python",
   "pygments_lexer": "ipython3",
   "version": "3.10.9"
  }
 },
 "nbformat": 4,
 "nbformat_minor": 5
}
