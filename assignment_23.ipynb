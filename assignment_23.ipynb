{
 "cells": [
  {
   "cell_type": "markdown",
   "id": "9b616fde",
   "metadata": {},
   "source": [
    "## 1. What is the result of the code, and why?\n",
    "- &gt;&gt;&gt; def func(a, b=6, c=8):\n",
    "- print(a, b, c)\n",
    "- &gt;&gt;&gt; func(1, 2)\n",
    "\n",
    "### Ans :-\n",
    "- (1,2,8)\n",
    "### Reason:-\n",
    "- here we passed two parameters to the function \n",
    "- 1 is for a\n",
    "- 2 is for b ,eventhough b has default value it considers 2"
   ]
  },
  {
   "cell_type": "code",
   "execution_count": 1,
   "id": "0db0eb99",
   "metadata": {},
   "outputs": [
    {
     "name": "stdout",
     "output_type": "stream",
     "text": [
      "1 2 8\n"
     ]
    }
   ],
   "source": [
    "def func(a,b=6,c=8):\n",
    "    print(a,b,c)\n",
    "func(1,2)"
   ]
  },
  {
   "cell_type": "markdown",
   "id": "20a134f8",
   "metadata": {},
   "source": [
    "## 2. What is the result of this code, and why?\n",
    "- &gt;&gt;&gt; def func(a, b, c=5):\n",
    "- print(a, b, c)\n",
    "- &gt;&gt;&gt; func(1, c=3, b=2)\n",
    "### Ans :-\n",
    "- (1,2,3)\n",
    "### Reason:- \n",
    "- a = 1 first parameter refers to a\n",
    "- b = 2 \n",
    "- c = 3 ,if we didn't pass c value it considers default value,but here we provided c value\n",
    "- order of keyword arguments is not mandatory"
   ]
  },
  {
   "cell_type": "code",
   "execution_count": 2,
   "id": "98bdade4",
   "metadata": {},
   "outputs": [
    {
     "name": "stdout",
     "output_type": "stream",
     "text": [
      "1 2 3\n"
     ]
    }
   ],
   "source": [
    "def func_1(a,b,c=5):\n",
    "    print(a,b,c)\n",
    "func_1(1,c=3,b=2)"
   ]
  },
  {
   "cell_type": "markdown",
   "id": "f8a1ae8e",
   "metadata": {},
   "source": [
    "## 3. How about this code: what is its result, and why?\n",
    "- &gt;&gt;&gt; def func(a, *pargs):\n",
    "- print(a, pargs)\n",
    "- &gt;&gt;&gt; func(1, 2, 3)\n",
    "### Ans :-\n",
    "- Here a=1. *pargs returns as many argument user gives as input in form of tuples"
   ]
  },
  {
   "cell_type": "code",
   "execution_count": 3,
   "id": "cb3f5b2a",
   "metadata": {},
   "outputs": [
    {
     "name": "stdout",
     "output_type": "stream",
     "text": [
      "1 (2, 3)\n"
     ]
    }
   ],
   "source": [
    "def func(a, *pargs):\n",
    "    print(a, pargs)\n",
    "func(1, 2, 3)"
   ]
  },
  {
   "cell_type": "markdown",
   "id": "6db22e09",
   "metadata": {},
   "source": [
    "## 4. What does this code print, and why?\n",
    "- &gt;&gt;&gt; def func(a, **kargs):\n",
    "- print(a, kargs)\n",
    "- &gt;&gt;&gt; func(a=1, c=3, b=2)\n",
    "### Ans :- \n",
    "- Here a=1. **kargs returns as many argument user gives as input in form of dictionary"
   ]
  },
  {
   "cell_type": "code",
   "execution_count": 4,
   "id": "33ee3154",
   "metadata": {},
   "outputs": [
    {
     "name": "stdout",
     "output_type": "stream",
     "text": [
      "1 {'c': 3, 'b': 2}\n"
     ]
    }
   ],
   "source": [
    "def func(a, **kargs):\n",
    "    print(a, kargs)\n",
    "func(a=1, c=3, b=2)"
   ]
  },
  {
   "cell_type": "markdown",
   "id": "f247de0d",
   "metadata": {},
   "source": [
    "## 5. What gets printed by this, and explain?\n",
    "- &gt;&gt;&gt; def func(a, b, c=8, d=5):\n",
    "- print(a, b, c, d)\n",
    "- &gt;&gt;&gt; func(1, *(5, 6))\n",
    "### Ans :-\n",
    "- Here a=1. User input is given in the form of kargs. So as many variable is present that many times the value passed as kargs input will get printed.So here a=1,b=5,c=6,d=again 5.\n"
   ]
  },
  {
   "cell_type": "code",
   "execution_count": 5,
   "id": "8a96904c",
   "metadata": {},
   "outputs": [
    {
     "name": "stdout",
     "output_type": "stream",
     "text": [
      "1 5 6 5\n"
     ]
    }
   ],
   "source": [
    "def func(a, b, c=8, d=5):\n",
    "    print(a, b, c, d)\n",
    "func(1, *(5, 6))"
   ]
  },
  {
   "cell_type": "markdown",
   "id": "f9326b5a",
   "metadata": {},
   "source": [
    "## 6. what is the result of this, and explain?\n",
    "- &gt;&gt;&gt; def func(a, b, c): a = 2; b[0] = &#39;x&#39;; c[&#39;a&#39;] = &#39;y&#39;\n",
    "- &gt;&gt;&gt; l=1; m=[1]; n={&#39;a&#39;:0}\n",
    "- &gt;&gt;&gt; func(l, m, n)\n",
    "\n",
    "- &gt;&gt;&gt; l, m, n\n",
    "### Ans :-\n",
    "- Here in func(l,m,n) we passed l=1(user input), m is passed as list contain 1 element i.e 'x', n is passed as dictionary i.e {'a':'y'}"
   ]
  },
  {
   "cell_type": "code",
   "execution_count": 6,
   "id": "63df0a75",
   "metadata": {},
   "outputs": [
    {
     "data": {
      "text/plain": [
       "(1, ['x'], {'a': 'y'})"
      ]
     },
     "execution_count": 6,
     "metadata": {},
     "output_type": "execute_result"
    }
   ],
   "source": [
    "def func(a, b, c):\n",
    "    a = 2; b[0] = 'x'; c['a'] = 'y'\n",
    "l=1; m=[1]; n={'a':0}\n",
    "func(l, m, n)\n",
    "l, m, n"
   ]
  }
 ],
 "metadata": {
  "kernelspec": {
   "display_name": "Python 3 (ipykernel)",
   "language": "python",
   "name": "python3"
  },
  "language_info": {
   "codemirror_mode": {
    "name": "ipython",
    "version": 3
   },
   "file_extension": ".py",
   "mimetype": "text/x-python",
   "name": "python",
   "nbconvert_exporter": "python",
   "pygments_lexer": "ipython3",
   "version": "3.10.9"
  }
 },
 "nbformat": 4,
 "nbformat_minor": 5
}
