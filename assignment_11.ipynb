{
 "cells": [
  {
   "cell_type": "markdown",
   "id": "17001d40",
   "metadata": {},
   "source": [
    "## 1. Create an assert statement that throws an AssertionError if the variable spam is a negative integer.\n",
    "### Ans :- \n",
    "- assert spam >= 10, 'The spam variable is less than 10.'"
   ]
  },
  {
   "cell_type": "markdown",
   "id": "6e56c86e",
   "metadata": {},
   "source": [
    "## 2. Write an assert statement that triggers an AssertionError if the variables eggs and bacon contain strings that are the same as each other, even if their cases are different (that is, &#39;hello&#39; and &#39;hello&#39; are considered the same, and &#39;goodbye&#39; and &#39;GOODbye&#39; are also considered the same).\n",
    "### Ans :- \n",
    "- assert eggs.lower() != bacon.lower(), 'The eggs and bacon variables are the same!' or assert eggs.upper() != bacon.upper(), 'The eggs and bacon variables are the same!'"
   ]
  },
  {
   "cell_type": "markdown",
   "id": "a4495abf",
   "metadata": {},
   "source": [
    "## 3. Create an assert statement that throws an AssertionError every time.\n",
    "### Ans :- \n",
    "- assert False, 'This assertion always triggers.'"
   ]
  },
  {
   "cell_type": "markdown",
   "id": "66f12270",
   "metadata": {},
   "source": [
    "## 4. What are the two lines that must be present in your software in order to call logging.debug()?\n",
    "### Ans :- \n",
    "- To be able to call logging.debug(), you must have these two lines at the start of your program:\n",
    "\n",
    "- import logging\n",
    "- logging.basicConfig(level=logging.DEBUG, format=' %(asctime)s - %(levelname)s - %(message)s')"
   ]
  },
  {
   "cell_type": "markdown",
   "id": "35fd1344",
   "metadata": {},
   "source": [
    "## 5. What are the two lines that your program must have in order to have logging.debug() send a logging message to a file named programLog.txt?\n",
    "### Ans :- \n",
    "- To be able to send logging messages to a file named programLog.txt with logging.debug(), you must have these two lines at the start of your program:\n",
    "\n",
    "- import logging\n",
    "\n",
    "- logging.basicConfig(filename='programLog.txt', level=logging.DEBUG,\n",
    "\n",
    "- format=' %(asctime)s - %(levelname)s - %(message)s')"
   ]
  },
  {
   "cell_type": "markdown",
   "id": "82d4c577",
   "metadata": {},
   "source": [
    "## 6. What are the five levels of logging?\n",
    "### Ans :- \n",
    "- DEBUG\n",
    "- INFO\n",
    "- WARNING \n",
    "- ERROR\n",
    "- CRITICAL"
   ]
  },
  {
   "cell_type": "markdown",
   "id": "3bc6a95b",
   "metadata": {},
   "source": [
    "## 7. What line of code would you add to your software to disable all logging messages?\n",
    "### Ans :- \n",
    "- logging.disable(logging.CRITICAL)"
   ]
  },
  {
   "cell_type": "markdown",
   "id": "610d1065",
   "metadata": {},
   "source": [
    "## 8.Why is using logging messages better than using print() to display the same message?\n",
    "### Ans :- \n",
    "- You can disable logging messages without removing the logging function calls.\n",
    "- You can selectively disable lower-level logging messages\n",
    "- You can create logging messages.\n",
    "- Logging messages provides a timestamp."
   ]
  },
  {
   "cell_type": "markdown",
   "id": "76cc1cbd",
   "metadata": {},
   "source": [
    "## 9. What are the differences between the Step Over, Step In, and Step Out buttons in the debugger?\n",
    "### Ans :- \n",
    "- The Step button will move the debugger into a function call. The Over button will quickly execute the function call without stepping into it. The Out button will quickly execute the rest of the code until it steps out of the function it currently is in."
   ]
  },
  {
   "cell_type": "markdown",
   "id": "4131fb34",
   "metadata": {},
   "source": [
    "## 10.After you click Continue, when will the debugger stop ?\n",
    "### Ans :- \n",
    "- After you click Go, the debugger will stop when it has reached the end of the program or a line with a breakpoin"
   ]
  },
  {
   "cell_type": "markdown",
   "id": "f38cc974",
   "metadata": {},
   "source": [
    "## 11. What is the concept of a breakpoint?\n",
    "### Ans :- \n",
    "- A breakpoint is a setting on a line of code that causes the debugger to pause when the program execution reaches the line."
   ]
  }
 ],
 "metadata": {
  "kernelspec": {
   "display_name": "Python 3 (ipykernel)",
   "language": "python",
   "name": "python3"
  },
  "language_info": {
   "codemirror_mode": {
    "name": "ipython",
    "version": 3
   },
   "file_extension": ".py",
   "mimetype": "text/x-python",
   "name": "python",
   "nbconvert_exporter": "python",
   "pygments_lexer": "ipython3",
   "version": "3.10.9"
  }
 },
 "nbformat": 4,
 "nbformat_minor": 5
}
