{
 "cells": [
  {
   "cell_type": "markdown",
   "id": "0ee8f5f2",
   "metadata": {},
   "source": [
    "## 1. What is the name of the feature responsible for generating Regex objects?\n",
    "### Ans :- \n",
    "- the re.compile() function generates Regex objects"
   ]
  },
  {
   "cell_type": "markdown",
   "id": "6782114f",
   "metadata": {},
   "source": [
    "## 2. Why do raw strings often appear in Regex objects?\n",
    "### Ans :- \n",
    "- Raw strings are used so that backslashes don't have to be escaped"
   ]
  },
  {
   "cell_type": "markdown",
   "id": "ca60c5c5",
   "metadata": {},
   "source": [
    "## 3. What is the return value of the search() method?\n",
    "### Ans :-\n",
    "- The search() method returns match objects"
   ]
  },
  {
   "cell_type": "markdown",
   "id": "c848d8f1",
   "metadata": {},
   "source": [
    "## 4. From a Match item, how do you get the actual strings that match the pattern?\n",
    "### Ans :- \n",
    "- By using group() method ,it returns the strings of the matched text"
   ]
  },
  {
   "cell_type": "markdown",
   "id": "faa51728",
   "metadata": {},
   "source": [
    "## 5. In the regex which created from the r&#39;(\\d\\d\\d)-(\\d\\d\\d-\\d\\d\\d\\d)&#39;, what does group zero cover? Group 2? Group 1?\n",
    "### Ans :- \n",
    "- Group 0 is the entire match,group 1 covers the first set of parentheses,and group 2 covers the second set of parantheses"
   ]
  },
  {
   "cell_type": "markdown",
   "id": "5ebc7c1b",
   "metadata": {},
   "source": [
    "## 6. In standard expression syntax, parentheses and intervals have distinct meanings. How can you tell a regex that you want it to fit real parentheses and periods?\n",
    "### Ans :- \n",
    "- Periods and parentheses can be escaped with backslash"
   ]
  },
  {
   "cell_type": "code",
   "execution_count": 2,
   "id": "1a568663",
   "metadata": {},
   "outputs": [],
   "source": [
    " # \\., \\(, and \\)."
   ]
  },
  {
   "cell_type": "markdown",
   "id": "231d552a",
   "metadata": {},
   "source": [
    "## 7. The findall() method returns a string list or a list of string tuples. What causes it to return one of the two options?\n",
    "### Ans :- \n",
    "- if the regex has no groups, a list of strings is returned. If the regex has groups, a list of tuples of strings is returned."
   ]
  },
  {
   "cell_type": "markdown",
   "id": "f7919626",
   "metadata": {},
   "source": [
    "## 8. In standard expressions, what does the | character mean?\n",
    "### Ans :- \n",
    "- The | character signifies matching either, or between two groups"
   ]
  },
  {
   "cell_type": "markdown",
   "id": "c64df32c",
   "metadata": {},
   "source": [
    "## 9. In regular expressions, what does the character stand for?\n",
    "### Ans :-\n",
    "- The ? character can either mean \"match zero or one of the preceding group\" or be used to signify nongreedy matching."
   ]
  },
  {
   "cell_type": "markdown",
   "id": "0d2cfe0d",
   "metadata": {},
   "source": [
    "## 10.In regular expressions, what is the difference between the + and * characters?\n",
    "### Ans :- \n",
    "- The + matches one or more. The * matches zero or more."
   ]
  },
  {
   "cell_type": "markdown",
   "id": "a960b826",
   "metadata": {},
   "source": [
    "## 11. What is the difference between {4} and {4,5} in regular expression?\n",
    "### Ans :-\n",
    "- The {4} matches exactly four instances of the preceding group. The {4,5} matches between four and five instances."
   ]
  },
  {
   "cell_type": "markdown",
   "id": "a79c0afa",
   "metadata": {},
   "source": [
    "## 12. What do you mean by the \\d, \\w, and \\s shorthand character classes signify in regular expressions?\n",
    "### Ans :-\n",
    "- \\d  --> match a single digit\n",
    "- \\w  --> match a word\n",
    "- \\s  --> space character."
   ]
  },
  {
   "cell_type": "markdown",
   "id": "666b2b9c",
   "metadata": {},
   "source": [
    "## 13. What do means by \\D, \\W, and \\S shorthand character classes signify in regular expressions?\n",
    "### Ans :- \n",
    "- The \\D, \\W, and \\S shorthand character classes match a single character that is not a digit, word, or space character, respectively."
   ]
  },
  {
   "cell_type": "markdown",
   "id": "ac804a49",
   "metadata": {},
   "source": [
    "## 14. What is the difference between .*? and .*?\n",
    "### Ans :- \n",
    "- (.*?) matches any character (.) any number of times (*), as few times as possible to make the regex match (?). You'll get a match on any string, but you'll only capture a blank string because of the question mark. \n",
    "- (.*)? captures a group zero or one times (?). That group consists of a run of any length (*) of any character (.). This also will match anything, but it will capture the first line, since the dot matches anything except a newline."
   ]
  },
  {
   "cell_type": "markdown",
   "id": "6b40a033",
   "metadata": {},
   "source": [
    "## 15. What is the syntax for matching both numbers and lowercase letters with a character class?\n",
    "### Ans :-\n",
    "- Either [0-9a-z] or [a-z0-9]"
   ]
  },
  {
   "cell_type": "markdown",
   "id": "d2d5f17c",
   "metadata": {},
   "source": [
    "## 16. What is the procedure for making a normal expression in regax case insensitive?\n",
    "### Ans :-\n",
    "- Passing re.I or re.IGNORECASE as the second argument to re.compile() will make the matching case insensitive."
   ]
  },
  {
   "cell_type": "markdown",
   "id": "9395c346",
   "metadata": {},
   "source": [
    "## 17. What does the . character normally match? What does it match if re.DOTALL is passed as 2nd argument in re.compile()?\n",
    "### Ans :-\n",
    "- The . character normally matches any character except the newline character. If re.DOTALL is passed as the second argument to re.compile(), then the dot will also match newline characters"
   ]
  },
  {
   "cell_type": "markdown",
   "id": "5f8f4175",
   "metadata": {},
   "source": [
    "## 18. If numReg = re.compile(r&#39;\\d+&#39;), what will numRegex.sub(&#39;X&#39;, &#39;11 drummers, 10 pipers, five rings, 4 hen&#39;) return?\n",
    "### Ans :-\n",
    "- 'X drummers, X pipers, five rings, X hens'"
   ]
  },
  {
   "cell_type": "markdown",
   "id": "ca7e0c96",
   "metadata": {},
   "source": [
    "## 19. What does passing re.VERBOSE as the 2nd argument to re.compile() allow to do?\n",
    "### Ans :-\n",
    "- The re.VERBOSE argument allows you to add whitespace and comments to the string passed to re.compile()."
   ]
  },
  {
   "cell_type": "markdown",
   "id": "d6baf8ec",
   "metadata": {},
   "source": [
    "## 20. How would you write a regex that match a number with comma for every three digits? It must match the given following:\n",
    "&#39;42&#39;\n",
    "&#39;1,234&#39;\n",
    "&#39;6,368,745&#39;\n",
    "\n",
    "## but not the following:\n",
    "&#39;12,34,567&#39; (which has only two digits between the commas)\n",
    "&#39;1234&#39; (which lacks commas)\n",
    "\n",
    "### Ans :-\n",
    "- re.compile(r'^\\d{1,3}(,\\d{3})*$')"
   ]
  },
  {
   "cell_type": "markdown",
   "id": "a2bfd1f6",
   "metadata": {},
   "source": [
    "## 21. How would you write a regex that matches the full name of someone whose last name is\n",
    "Watanabe? You can assume that the first name that comes before it will always be one word that\n",
    "begins with a capital letter. The regex must match the following:\n",
    "&#39;Haruto Watanabe&#39;\n",
    "&#39;Alice Watanabe&#39;\n",
    "&#39;RoboCop Watanabe&#39;\n",
    "## but not the following:\n",
    "&#39;haruto Watanabe&#39; (where the first name is not capitalized)\n",
    "&#39;Mr. Watanabe&#39; (where the preceding word has a nonletter character)\n",
    "&#39;Watanabe&#39; (which has no first name)\n",
    "&#39;Haruto watanabe&#39; (where Watanabe is not capitalized)\n",
    "\n",
    "### Ans :- \n",
    "- re.compile(r'[A-Z][a-z]*\\sNakamoto')"
   ]
  },
  {
   "cell_type": "markdown",
   "id": "011c5ff0",
   "metadata": {},
   "source": [
    "## 22. How would you write a regex that matches a sentence where the first word is either Alice, Bob,\n",
    "or Carol; the second word is either eats, pets, or throws; the third word is apples, cats, or baseballs;\n",
    "and the sentence ends with a period? This regex should be case-insensitive. It must match the\n",
    "following:\n",
    "&#39;Alice eats apples.&#39;\n",
    "&#39;Bob pets cats.&#39;\n",
    "&#39;Carol throws baseballs.&#39;\n",
    "&#39;Alice throws Apples.&#39;\n",
    "&#39;BOB EATS CATS.&#39;\n",
    "## but not the following:\n",
    "&#39;RoboCop eats apples.&#39;\n",
    "&#39;ALICE THROWS FOOTBALLS.&#39;\n",
    "&#39;Carol eats 7 cats.&#39;\n",
    "\n",
    "### Ans :- \n",
    "- re.compile(r'(Alice|Bob|Carol)\\s(eats|pets|throws)\\s(apples|cats|baseballs)\\.', re.IGNORECASE)"
   ]
  }
 ],
 "metadata": {
  "kernelspec": {
   "display_name": "Python 3 (ipykernel)",
   "language": "python",
   "name": "python3"
  },
  "language_info": {
   "codemirror_mode": {
    "name": "ipython",
    "version": 3
   },
   "file_extension": ".py",
   "mimetype": "text/x-python",
   "name": "python",
   "nbconvert_exporter": "python",
   "pygments_lexer": "ipython3",
   "version": "3.10.9"
  }
 },
 "nbformat": 4,
 "nbformat_minor": 5
}
