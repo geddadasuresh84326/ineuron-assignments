{
 "cells": [
  {
   "cell_type": "markdown",
   "id": "3803c0f7",
   "metadata": {},
   "source": [
    "## Question 1\n",
    "- Create a function that takes a number as an argument and returns True or False depending on whether the number is symmetrical or not. A number is symmetrical when it is the same as its reverse.\n",
    "- Examples\n",
    "- is_symmetrical(7227) ➞ True\n",
    "- is_symmetrical(12567) ➞ False\n",
    "- is_symmetrical(44444444) ➞ True\n",
    "- is_symmetrical(9939) ➞ False\n",
    "- is_symmetrical(1112111) ➞ True"
   ]
  },
  {
   "cell_type": "code",
   "execution_count": 3,
   "id": "a62043c3",
   "metadata": {},
   "outputs": [
    {
     "name": "stdout",
     "output_type": "stream",
     "text": [
      "True\n",
      "False\n",
      "True\n",
      "False\n"
     ]
    }
   ],
   "source": [
    "def is_symmetrical(num):\n",
    "    currentDigit = reversedDigit = 0\n",
    "    remainingNum = num\n",
    "    while(remainingNum != 0):\n",
    "\n",
    "        currentDigit = remainingNum % 10\n",
    "\n",
    "        reversedDigit = reversedDigit * 10 + currentDigit\n",
    "        remainingNum = remainingNum // 10\n",
    "\n",
    "    if reversedDigit == num:\n",
    "        return True\n",
    "    else:\n",
    "        return False\n",
    "    \n",
    "print(is_symmetrical(7227))\n",
    "print(is_symmetrical(12567))\n",
    "print(is_symmetrical(44444444))\n",
    "print(is_symmetrical(9939))"
   ]
  },
  {
   "cell_type": "markdown",
   "id": "dd683055",
   "metadata": {},
   "source": [
    "## Question 2\n",
    "- Given a string of numbers separated by a comma and space, return the product of the numbers.\n",
    "- Examples\n",
    "- multiply_nums(&quot;2, 3&quot;) ➞ 6\n",
    "- multiply_nums(&quot;1, 2, 3, 4&quot;) ➞ 24\n",
    "- multiply_nums(&quot;54, 75, 453, 0&quot;) ➞ 0\n",
    "- multiply_nums(&quot;10, -2&quot;) ➞ -20"
   ]
  },
  {
   "cell_type": "code",
   "execution_count": 5,
   "id": "b898f1a7",
   "metadata": {},
   "outputs": [
    {
     "name": "stdout",
     "output_type": "stream",
     "text": [
      "6\n",
      "24\n",
      "0\n",
      "-20\n"
     ]
    }
   ],
   "source": [
    "def multiply_nums(s):\n",
    "    s = s.replace(' ', \"\")\n",
    "    s = s.split(',')\n",
    "    sum = 1\n",
    "    for i in s:\n",
    "        sum = sum * int(i)\n",
    "    return sum\n",
    "print(multiply_nums(\"2,3\"))\n",
    "print(multiply_nums(\"1,2,3,4\"))\n",
    "print(multiply_nums(\"54,75,453,0\"))\n",
    "print(multiply_nums(\"10,-2\"))"
   ]
  },
  {
   "cell_type": "markdown",
   "id": "9c44518e",
   "metadata": {},
   "source": [
    "## Question 3\n",
    "- Create a function that squares every digit of a number.\n",
    "- Examples\n",
    "- square_digits(9119) ➞ 811181\n",
    "- square_digits(2483) ➞ 416649\n",
    "- square_digits(3212) ➞ 9414\n",
    "- Notes\n",
    "- The function receives an integer and must return an integer."
   ]
  },
  {
   "cell_type": "code",
   "execution_count": 7,
   "id": "f867d38c",
   "metadata": {},
   "outputs": [
    {
     "name": "stdout",
     "output_type": "stream",
     "text": [
      "811181\n",
      "416649\n",
      "9414\n"
     ]
    }
   ],
   "source": [
    "def square_digits(num):\n",
    "    z = ''.join(str(int(i)**2) for i in str(num))\n",
    "    return int(z)\n",
    "print(square_digits(9119))\n",
    "print(square_digits(2483))\n",
    "print(square_digits(3212))"
   ]
  },
  {
   "cell_type": "markdown",
   "id": "aeb1ad84",
   "metadata": {},
   "source": [
    "## Question 4\n",
    "- Create a function that sorts a list and removes all duplicate items from it.\n",
    "- Examples\n",
    "- setify([1, 3, 3, 5, 5]) ➞ [1, 3, 5]\n",
    "- setify([4, 4, 4, 4]) ➞ [4]\n",
    "- setify([5, 7, 8, 9, 10, 15]) ➞ [5, 7, 8, 9, 10, 15]\n",
    "- setify([3, 3, 3, 2, 1]) ➞ [1, 2, 3]"
   ]
  },
  {
   "cell_type": "code",
   "execution_count": 9,
   "id": "0104bb00",
   "metadata": {},
   "outputs": [
    {
     "name": "stdout",
     "output_type": "stream",
     "text": [
      "[1, 3, 5]\n",
      "[4]\n",
      "[5, 7, 8, 9, 10, 15]\n",
      "[1, 2, 3]\n"
     ]
    }
   ],
   "source": [
    "def setify(lst):\n",
    "    return list(set(lst))\n",
    "\n",
    "print(setify([1, 3, 3, 5, 5]))\n",
    "print(setify([4, 4, 4, 4]))\n",
    "print(setify([5, 7, 8, 9, 10, 15]))\n",
    "print(setify([3, 3, 3, 2, 1]))"
   ]
  },
  {
   "cell_type": "markdown",
   "id": "50e30c30",
   "metadata": {},
   "source": [
    "## Question 5\n",
    "- Create a function that returns the mean of all digits.\n",
    "- Examples\n",
    "- mean(42) ➞ 3\n",
    "- mean(12345) ➞ 3\n",
    "- mean(666) ➞ 6\n",
    "- Notes\n",
    "-  The mean of all digits is the sum of digits / how many digits there are (e.g. mean of digits in 512 is (5+1+2)/3(number of digits) = 8/3=2).\n",
    "-  The mean will always be an integer."
   ]
  },
  {
   "cell_type": "code",
   "execution_count": 8,
   "id": "c7818033",
   "metadata": {},
   "outputs": [
    {
     "name": "stdout",
     "output_type": "stream",
     "text": [
      "3\n",
      "3\n",
      "6\n"
     ]
    }
   ],
   "source": [
    "def mean(n): \n",
    "    N = len(str(n)) \n",
    "    sum = mean = 0\n",
    "    \n",
    "    for digit in str(n):\n",
    "        sum += int(digit)       \n",
    "    return int(sum/N)\n",
    "print(mean(42))\n",
    "print(mean(12345))\n",
    "print(mean(666))"
   ]
  }
 ],
 "metadata": {
  "kernelspec": {
   "display_name": "Python 3 (ipykernel)",
   "language": "python",
   "name": "python3"
  },
  "language_info": {
   "codemirror_mode": {
    "name": "ipython",
    "version": 3
   },
   "file_extension": ".py",
   "mimetype": "text/x-python",
   "name": "python",
   "nbconvert_exporter": "python",
   "pygments_lexer": "ipython3",
   "version": "3.10.9"
  }
 },
 "nbformat": 4,
 "nbformat_minor": 5
}
