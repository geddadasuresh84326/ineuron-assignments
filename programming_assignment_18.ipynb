{
 "cells": [
  {
   "cell_type": "markdown",
   "id": "4c11abf5",
   "metadata": {},
   "source": [
    "## Question 1\n",
    "- Create a function that takes a list of non-negative integers and strings and return a new list without the strings.\n",
    "- Examples\n",
    "- filter_list([1, 2, &quot;a&quot;, &quot;b&quot;]) ➞ [1, 2]\n",
    "- filter_list([1, &quot;a&quot;, &quot;b&quot;, 0, 15]) ➞ [1, 0, 15]\n",
    "- filter_list([1, 2, &quot;aasf&quot;, &quot;1&quot;, &quot;123&quot;, 123]) ➞ [1, 2, 123]"
   ]
  },
  {
   "cell_type": "code",
   "execution_count": 2,
   "id": "6440f9a3",
   "metadata": {},
   "outputs": [
    {
     "name": "stdout",
     "output_type": "stream",
     "text": [
      "[18, 90]\n"
     ]
    }
   ],
   "source": [
    "l = [\"a\", 18, 'abc', '1', '234', 90]\n",
    "\n",
    "def filter_list(l):\n",
    "    new_list = []\n",
    "    for x in l:\n",
    "        if type(x) == int:\n",
    "            new_list.append(x)\n",
    "    return new_list\n",
    "\n",
    "print(filter_list(l))"
   ]
  },
  {
   "cell_type": "markdown",
   "id": "14c06406",
   "metadata": {},
   "source": [
    "## Question 2\n",
    "- The &quot;Reverser&quot; takes a string as input and returns that string in reverse order, with the mopposite case.\n",
    "- Examples\n",
    "- reverse(&quot;Hello World&quot;) ➞ &quot;DLROw OLLEh&quot;\n",
    "- reverse(&quot;ReVeRsE&quot;) ➞ &quot;eSrEvEr&quot;\n",
    "- reverse(&quot;Radar&quot;) ➞ &quot;RADAr&quot;"
   ]
  },
  {
   "cell_type": "code",
   "execution_count": 4,
   "id": "e7e5658a",
   "metadata": {},
   "outputs": [
    {
     "name": "stdout",
     "output_type": "stream",
     "text": [
      "DLROw OLLEh\n",
      "eSrEvEr\n",
      "RADAr\n"
     ]
    }
   ],
   "source": [
    "def reverse(str):\n",
    "    str = str[::-1]\n",
    "    return str.swapcase()\n",
    "print(reverse(\"Hello World\"))\n",
    "print(reverse(\"ReVeRsE\"))\n",
    "print(reverse(\"Radar\"))"
   ]
  },
  {
   "cell_type": "markdown",
   "id": "bcc9e1ed",
   "metadata": {},
   "source": [
    "## Question 3\n",
    "- You can assign variables from lists like this:\n",
    "- lst = [1, 2, 3, 4, 5, 6]\n",
    "- first = lst[0]\n",
    "- middle = lst[1:-1]\n",
    "- last = lst[-1]\n",
    "- print(first) ➞ outputs 1\n",
    "- print(middle) ➞ outputs [2, 3, 4, 5]\n",
    "- print(last) ➞ outputs 6\n",
    "- With Python 3, you can assign variables from lists in a much more succinct way. Create\n",
    "- variables first, middle and last from the given list using destructuring assignment (check the Resources tab for some examples), where:\n",
    "- first ➞ 1\n",
    "- middle ➞ [2, 3, 4, 5]\n",
    "- last ➞ 6\n",
    "\n",
    "- Your task is to unpack the list writeyourcodehere into three variables, being first, middle, and last, with middle being everything in between the first and last element. Then print all three variables."
   ]
  },
  {
   "cell_type": "code",
   "execution_count": 5,
   "id": "73aff424",
   "metadata": {},
   "outputs": [
    {
     "data": {
      "text/plain": [
       "1"
      ]
     },
     "execution_count": 5,
     "metadata": {},
     "output_type": "execute_result"
    }
   ],
   "source": [
    "lst = [1, 2, 3, 4, 5, 6]\n",
    "first ,*middle,last = lst\n",
    "first"
   ]
  },
  {
   "cell_type": "markdown",
   "id": "afb6f6c8",
   "metadata": {},
   "source": [
    "## Question 4\n",
    "- Write a function that calculates the factorial of a number recursively.\n",
    "- Examples\n",
    "- factorial(5) ➞ 120\n",
    "- factorial(3) ➞ 6\n",
    "- factorial(1) ➞ 1\n",
    "- factorial(0) ➞ 1"
   ]
  },
  {
   "cell_type": "code",
   "execution_count": 6,
   "id": "e69c4664",
   "metadata": {},
   "outputs": [
    {
     "name": "stdout",
     "output_type": "stream",
     "text": [
      "120\n",
      "6\n",
      "1\n",
      "1\n"
     ]
    }
   ],
   "source": [
    "def factorial(n):\n",
    "    if(n < 0):\n",
    "        return \"factorial of negative numbers not possible\"\n",
    "    elif(n == 0 or n == 1):\n",
    "        return 1\n",
    "    else:\n",
    "        return n*factorial(n-1)\n",
    "print(factorial(5))\n",
    "print(factorial(3))\n",
    "print(factorial(1))\n",
    "print(factorial(0))"
   ]
  },
  {
   "cell_type": "markdown",
   "id": "40107a8e",
   "metadata": {},
   "source": [
    "## Question 5\n",
    "- Write a function that moves all elements of one type to the end of the list.\n",
    "- Examples\n",
    "- move_to_end([1, 3, 2, 4, 4, 1], 1) ➞ [3, 2, 4, 4, 1, 1]\n",
    "- Move all the 1s to the end of the array.\n",
    "- move_to_end([7, 8, 9, 1, 2, 3, 4], 9) ➞ [7, 8, 1, 2, 3, 4, 9]\n",
    "- move_to_end([&quot;a&quot;, &quot;a&quot;, &quot;a&quot;, &quot;b&quot;], &quot;a&quot;) ➞ [&quot;b&quot;, &quot;a&quot;, &quot;a&quot;, &quot;a&quot;]"
   ]
  },
  {
   "cell_type": "code",
   "execution_count": 5,
   "id": "0426d103",
   "metadata": {},
   "outputs": [
    {
     "name": "stdout",
     "output_type": "stream",
     "text": [
      "[4, 3, 2, 4, 1, 1]\n",
      "[7, 8, 4, 1, 2, 3, 9]\n",
      "['b', 'a', 'a', 'a']\n"
     ]
    }
   ],
   "source": [
    "def move_to_end(array, toMove):\n",
    "     \n",
    "    i = 0\n",
    "    j = len(array) - 1\n",
    "    while (i < j):\n",
    "  \n",
    "        while (i < j and array[j] == toMove):\n",
    "              j-=1\n",
    "        if (array[i] == toMove):\n",
    "            array[i], array[j] = array[j] , array[i]\n",
    "        i += 1\n",
    "\n",
    "    return array\n",
    "print(move_to_end([1, 3, 2, 4, 4, 1], 1))\n",
    "print(move_to_end([7, 8, 9, 1, 2, 3, 4], 9))\n",
    "print(move_to_end([\"a\",\"a\",\"a\",\"b\"],\"a\"))"
   ]
  }
 ],
 "metadata": {
  "kernelspec": {
   "display_name": "Python 3 (ipykernel)",
   "language": "python",
   "name": "python3"
  },
  "language_info": {
   "codemirror_mode": {
    "name": "ipython",
    "version": 3
   },
   "file_extension": ".py",
   "mimetype": "text/x-python",
   "name": "python",
   "nbconvert_exporter": "python",
   "pygments_lexer": "ipython3",
   "version": "3.10.9"
  }
 },
 "nbformat": 4,
 "nbformat_minor": 5
}
