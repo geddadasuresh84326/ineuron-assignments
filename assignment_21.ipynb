{
 "cells": [
  {
   "cell_type": "markdown",
   "id": "642d0073",
   "metadata": {},
   "source": [
    "## 1. Add the current date to the text file today.txt as a string."
   ]
  },
  {
   "cell_type": "code",
   "execution_count": 1,
   "id": "084f48f0",
   "metadata": {},
   "outputs": [],
   "source": [
    "from datetime import date\n",
    "now = date.today()\n",
    "now_str = now.isoformat()\n",
    "with open('today', 'wt') as output:\n",
    "    print(now_str, file=output)"
   ]
  },
  {
   "cell_type": "markdown",
   "id": "cfe0df23",
   "metadata": {},
   "source": [
    "## 2. Read the text file today.txt into the string today_string\n"
   ]
  },
  {
   "cell_type": "code",
   "execution_count": 2,
   "id": "5dd3515d",
   "metadata": {},
   "outputs": [
    {
     "data": {
      "text/plain": [
       "'2023-05-12\\n'"
      ]
     },
     "execution_count": 2,
     "metadata": {},
     "output_type": "execute_result"
    }
   ],
   "source": [
    "with open('today', 'rt') as input:\n",
    "    today_string = input.read()\n",
    "today_string"
   ]
  },
  {
   "cell_type": "markdown",
   "id": "6a8cf537",
   "metadata": {},
   "source": [
    "## 3. Parse the date from today_string.\n"
   ]
  },
  {
   "cell_type": "code",
   "execution_count": 9,
   "id": "a3dee23d",
   "metadata": {},
   "outputs": [
    {
     "name": "stdout",
     "output_type": "stream",
     "text": [
      "2023-05-12 00:00:00\n",
      "<class 'datetime.datetime'>\n"
     ]
    }
   ],
   "source": [
    "import datetime\n",
    " \n",
    "# Function to convert string to datetime\n",
    "def convert(date_time):\n",
    "  # The format\n",
    "    format = '%Y-%m-%d'\n",
    "    datetime_str = datetime.datetime.strptime(date_time, format)\n",
    " \n",
    "    return datetime_str\n",
    " \n",
    "date_time = '2023-05-12'\n",
    "print(convert(date_time))\n",
    "print(type(convert(date_time)))"
   ]
  },
  {
   "cell_type": "markdown",
   "id": "7e6d7306",
   "metadata": {},
   "source": [
    "## 4. List the files in your current directory\n"
   ]
  },
  {
   "cell_type": "code",
   "execution_count": 10,
   "id": "de3c02ab",
   "metadata": {},
   "outputs": [
    {
     "data": {
      "text/plain": [
       "['.ipynb_checkpoints',\n",
       " 'assignment_1.ipynb',\n",
       " 'assignment_10.ipynb',\n",
       " 'assignment_11.ipynb',\n",
       " 'assignment_12.ipynb',\n",
       " 'assignment_13.ipynb',\n",
       " 'assignment_14.ipynb',\n",
       " 'assignment_15.ipynb',\n",
       " 'assignment_16.ipynb',\n",
       " 'assignment_17.ipynb',\n",
       " 'assignment_18.ipynb',\n",
       " 'assignment_19.ipynb',\n",
       " 'assignment_2.ipynb',\n",
       " 'assignment_20.ipynb',\n",
       " 'assignment_21.ipynb',\n",
       " 'assignment_22.ipynb',\n",
       " 'assignment_23.ipynb',\n",
       " 'assignment_24.ipynb',\n",
       " 'assignment_25.ipynb',\n",
       " 'assignment_3.ipynb',\n",
       " 'assignment_4.ipynb',\n",
       " 'assignment_5.ipynb',\n",
       " 'assignment_6.ipynb',\n",
       " 'assignment_7.ipynb',\n",
       " 'assignment_8.ipynb',\n",
       " 'assignment_9.ipynb',\n",
       " 'books.csv',\n",
       " 'books.db',\n",
       " 'EmployeeData.csv',\n",
       " 'Programming_assignment_1.ipynb',\n",
       " 'Programming_assignment_10.ipynb',\n",
       " 'programming_assignment_11.ipynb',\n",
       " 'programming_assignment_12.ipynb',\n",
       " 'programming_assignment_13.ipynb',\n",
       " 'programming_assignment_14.ipynb',\n",
       " 'programming_assignment_15.ipynb',\n",
       " 'programming_assignment_16.ipynb',\n",
       " 'programming_assignment_17.ipynb',\n",
       " 'programming_assignment_18.ipynb',\n",
       " 'programming_assignment_19.ipynb',\n",
       " 'Programming_assignment_2.ipynb',\n",
       " 'programming_assignment_20.ipynb',\n",
       " 'programming_assignment_21.ipynb',\n",
       " 'programming_assignment_22.ipynb',\n",
       " 'programming_assignment_23.ipynb',\n",
       " 'programming_assignment_24.ipynb',\n",
       " 'programming_assignment_25.ipynb',\n",
       " 'Programming_assignment_3.ipynb',\n",
       " 'Programming_assignment_4.ipynb',\n",
       " 'Programming_assignment_5.ipynb',\n",
       " 'Programming_assignment_6.ipynb',\n",
       " 'Programming_assignment_7.ipynb',\n",
       " 'Programming_assignment_8.ipynb',\n",
       " 'Programming_assignment_9.ipynb',\n",
       " 'src.png',\n",
       " 'test.txt',\n",
       " 'today',\n",
       " 'zoo.py',\n",
       " '__pycache__']"
      ]
     },
     "execution_count": 10,
     "metadata": {},
     "output_type": "execute_result"
    }
   ],
   "source": [
    "import os\n",
    "\n",
    "os.listdir('.')"
   ]
  },
  {
   "cell_type": "markdown",
   "id": "8601d252",
   "metadata": {},
   "source": [
    "## 5. Create a list of all of the files in your parent directory (minimum five files should be available).\n"
   ]
  },
  {
   "cell_type": "code",
   "execution_count": 11,
   "id": "0b9bc0ef",
   "metadata": {},
   "outputs": [
    {
     "data": {
      "text/plain": [
       "['.849C9593-D756-4E56-8D6E-42412F2A707B',\n",
       " '.ipynb_checkpoints',\n",
       " 'ATADECNEICS',\n",
       " 'ATADECNEICS 2',\n",
       " 'desktop.ini',\n",
       " 'Documents',\n",
       " 'Getting started with OneDrive.pdf',\n",
       " 'Ineuron',\n",
       " 'ineuron assignments',\n",
       " 'Ineuron DATASETS',\n",
       " 'JAVA',\n",
       " 'Matplotlib',\n",
       " 'Numpy',\n",
       " 'Pandas',\n",
       " 'Personal Vault.lnk',\n",
       " 'Pictures',\n",
       " 'plotly',\n",
       " 'Python',\n",
       " 'ReviewFlask',\n",
       " 'Statistics']"
      ]
     },
     "execution_count": 11,
     "metadata": {},
     "output_type": "execute_result"
    }
   ],
   "source": [
    "import os\n",
    "os.listdir('..')"
   ]
  },
  {
   "cell_type": "markdown",
   "id": "2e90feca",
   "metadata": {},
   "source": [
    "## 6. Use multiprocessing to create three separate processes. Make each one wait a random number of seconds between one and five, print the current time, and then exit.\n"
   ]
  },
  {
   "cell_type": "code",
   "execution_count": null,
   "id": "e587228d",
   "metadata": {},
   "outputs": [],
   "source": [
    "import multiprocessing,time,datetime\n",
    "import zoo \n",
    "\n",
    "def process1():\n",
    "    t1 = random.randint(1,5)\n",
    "    print(\"Waiting for \"+str(t1)+\" seconds\")\n",
    "    time.sleep(t1)\n",
    "    print(datetime.datetime.now())\n",
    "\n",
    "\n",
    "start = time.time()\n",
    "process1 = process1()\n",
    "process2 = process1()\n",
    "process3 = process1()\n",
    "\n",
    "print(datetime.datetime.now())\n",
    "if __name__==\"__main__\":\n",
    "    \n",
    "    \n",
    "    \n",
    "    p1 = multiprocessing.Process(target=process1)\n",
    "    p2 = multiprocessing.Process(target=process2)\n",
    "    p3 = multiprocessing.Process(target=process3)\n",
    "\n",
    "    p1.start()\n",
    "    p2.start()\n",
    "    p3.start()\n",
    "\n",
    "    p1.join()\n",
    "    p2.join()\n",
    "    p3.join()\n",
    "\n",
    "end = time.time()\n",
    "    \n",
    "\n",
    "print(\"It takes \" +str(end-start)+\" seconds\")"
   ]
  },
  {
   "cell_type": "markdown",
   "id": "a1240c82",
   "metadata": {},
   "source": [
    "## 7. Create a date object of your day of birth.\n"
   ]
  },
  {
   "cell_type": "code",
   "execution_count": 31,
   "id": "e7ec7944",
   "metadata": {},
   "outputs": [
    {
     "data": {
      "text/plain": [
       "datetime.date(1997, 5, 11)"
      ]
     },
     "execution_count": 31,
     "metadata": {},
     "output_type": "execute_result"
    }
   ],
   "source": [
    "my_day = date(1997, 5, 11)\n",
    "my_day"
   ]
  },
  {
   "cell_type": "markdown",
   "id": "32307fff",
   "metadata": {},
   "source": [
    "## 8. What day of the week was your day of birth?\n"
   ]
  },
  {
   "cell_type": "code",
   "execution_count": 32,
   "id": "b3eb6027",
   "metadata": {},
   "outputs": [
    {
     "name": "stdout",
     "output_type": "stream",
     "text": [
      "6\n",
      "7\n"
     ]
    }
   ],
   "source": [
    "print(my_day.weekday())\n",
    "\n",
    "print(my_day.isoweekday())"
   ]
  },
  {
   "cell_type": "markdown",
   "id": "28c8195d",
   "metadata": {},
   "source": [
    "## 9. When will you be (or when were you) 10,000 days old?"
   ]
  },
  {
   "cell_type": "code",
   "execution_count": 33,
   "id": "a7452b29",
   "metadata": {},
   "outputs": [
    {
     "data": {
      "text/plain": [
       "datetime.date(2024, 9, 26)"
      ]
     },
     "execution_count": 33,
     "metadata": {},
     "output_type": "execute_result"
    }
   ],
   "source": [
    "from datetime import timedelta\n",
    "result = my_day + timedelta(days=10000)\n",
    "result"
   ]
  }
 ],
 "metadata": {
  "kernelspec": {
   "display_name": "Python 3 (ipykernel)",
   "language": "python",
   "name": "python3"
  },
  "language_info": {
   "codemirror_mode": {
    "name": "ipython",
    "version": 3
   },
   "file_extension": ".py",
   "mimetype": "text/x-python",
   "name": "python",
   "nbconvert_exporter": "python",
   "pygments_lexer": "ipython3",
   "version": "3.10.9"
  }
 },
 "nbformat": 4,
 "nbformat_minor": 5
}
