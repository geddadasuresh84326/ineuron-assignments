{
 "cells": [
  {
   "cell_type": "markdown",
   "id": "834bfd26",
   "metadata": {},
   "source": [
    "## 1. What are escape characters, and how do you use them?\n",
    "### Ans :- \n",
    "#### An escape character is a backslash \\ followed by a the character which we want to insert\n",
    "- \\'   --->  single quote escape character\n",
    "- \\\"   --->  double quote escape character\n",
    "- \\\\   --->  backslash escape character\n",
    "- \\n   --->  new line\n",
    "- \\r   --->  carriage return\n",
    "- \\t   --->  tab\n",
    "- \\b   --->  backspace"
   ]
  },
  {
   "cell_type": "markdown",
   "id": "a8b9a79c",
   "metadata": {},
   "source": [
    "## 2. What do the escape characters n and t stand for?\n",
    "### Ans :- \n",
    "- \\n   --->  new line\n",
    "- \\t   --->  tab"
   ]
  },
  {
   "cell_type": "markdown",
   "id": "8e510dba",
   "metadata": {},
   "source": [
    "## 3. What is the way to include backslash characters in a string?\n",
    "### Ans :- \n",
    "- By using escape character backslash and another backslash we can do that\n",
    "- ex:- \n",
    "- \"Yesterday's match was an \\\\ absolute \\\\ thriller\""
   ]
  },
  {
   "cell_type": "markdown",
   "id": "259ebe9d",
   "metadata": {},
   "source": [
    "## 4. The string &quot;Howl&#39;s Moving Castle&quot; is a correct value. Why isn&#39;t the single quote character in the word Howl&#39;s not escaped a problem?\n",
    "### Ans :- \n",
    "- Because here the statement started with double quotes"
   ]
  },
  {
   "cell_type": "markdown",
   "id": "12915110",
   "metadata": {},
   "source": [
    "## 5. How do you write a string of newlines if you don&#39;t want to use the n character?\n",
    "### Ans :-\n",
    "- we can use multiline string "
   ]
  },
  {
   "cell_type": "markdown",
   "id": "d3036a3f",
   "metadata": {},
   "source": [
    "## 6. What are the values of the given expressions?\n",
    "- &#39;Hello, world!&#39;[1]\n",
    "- &#39;Hello, world!&#39;[0:5]\n",
    "- &#39;Hello, world!&#39;[:5]\n",
    "- &#39;Hello, world!&#39;[3:]"
   ]
  },
  {
   "cell_type": "markdown",
   "id": "af711d09",
   "metadata": {},
   "source": [
    "### Ans :-\n",
    "- &#39;Hello, world!&#39;[1]    --> 'e'\n",
    "- &#39;Hello, world!&#39;[0:5]  --> 'Hello'\n",
    "- &#39;Hello, world!&#39;[:5]   --> 'Hello'\n",
    "- &#39;Hello, world!&#39;[3:]   --> 'lo, world!'"
   ]
  },
  {
   "cell_type": "code",
   "execution_count": 3,
   "id": "4a6b5551",
   "metadata": {},
   "outputs": [
    {
     "name": "stdout",
     "output_type": "stream",
     "text": [
      "e\n",
      "Hello\n",
      "Hello\n",
      "lo, world!\n"
     ]
    }
   ],
   "source": [
    "print('Hello, world!'[1])\n",
    "print('Hello, world!'[0:5])\n",
    "print('Hello, world!'[:5])\n",
    "print('Hello, world!'[3:])\n"
   ]
  },
  {
   "cell_type": "markdown",
   "id": "f9c12d6b",
   "metadata": {},
   "source": [
    "## 7. What are the values of the following expressions?\n",
    "- &#39;Hello&#39;.upper()\n",
    "- &#39;Hello&#39;.upper().isupper()\n",
    "- &#39;Hello&#39;.upper().lower()"
   ]
  },
  {
   "cell_type": "markdown",
   "id": "e12e3c44",
   "metadata": {},
   "source": [
    "### Ans :-\n",
    "- &#39;Hello&#39;.upper()           ---> 'HELLO'\n",
    "- &#39;Hello&#39;.upper().isupper() ---> True\n",
    "- &#39;Hello&#39;.upper().lower()   ---> 'hello'"
   ]
  },
  {
   "cell_type": "code",
   "execution_count": 4,
   "id": "ce22035b",
   "metadata": {},
   "outputs": [
    {
     "name": "stdout",
     "output_type": "stream",
     "text": [
      "HELLO\n",
      "True\n",
      "hello\n"
     ]
    }
   ],
   "source": [
    "print('Hello'.upper())\n",
    "print('Hello'.upper().isupper())\n",
    "print('Hello'.upper().lower())"
   ]
  },
  {
   "cell_type": "markdown",
   "id": "5f25e590",
   "metadata": {},
   "source": [
    "## 8. What are the values of the following expressions?\n",
    "- &#39;Remember, remember, the fifth of July.&#39;.split()\n",
    "- &#39;-&#39;.join(&#39;There can only one.&#39;.split())"
   ]
  },
  {
   "cell_type": "markdown",
   "id": "13556af9",
   "metadata": {},
   "source": [
    "### Ans :-\n",
    "- &#39;Remember, remember, the fifth of July.&#39;.split() --> ['Remember,', 'remember,', 'the', 'fifth', 'of', 'July.']\n",
    "- &#39;-&#39;.join(&#39;There can only one.&#39;.split())  --> 'There-can-only-one.'\n"
   ]
  },
  {
   "cell_type": "code",
   "execution_count": 8,
   "id": "d607c0de",
   "metadata": {},
   "outputs": [
    {
     "name": "stdout",
     "output_type": "stream",
     "text": [
      "['Remember,', 'remember,', 'the', 'fifth', 'of', 'July.']\n",
      "There-can-only-one.\n"
     ]
    }
   ],
   "source": [
    "print('Remember, remember, the fifth of July.'.split())\n",
    "print('-'.join('There can only one.'.split()))"
   ]
  },
  {
   "cell_type": "markdown",
   "id": "67555670",
   "metadata": {},
   "source": [
    "## 9. What are the methods for right-justifying, left-justifying, and centering a string?\n",
    "### Ans :- \n",
    "- ljust(),rjust(),center()"
   ]
  },
  {
   "cell_type": "code",
   "execution_count": 11,
   "id": "86efc0cb",
   "metadata": {},
   "outputs": [
    {
     "name": "stdout",
     "output_type": "stream",
     "text": [
      "let's do it*********\n",
      "*********let's do it\n",
      "****let's do it*****\n"
     ]
    }
   ],
   "source": [
    "str = \"let's do it\"\n",
    "print(str.ljust(20,'*'))\n",
    "print(str.rjust(20,'*'))\n",
    "print(str.center(20,'*'))"
   ]
  },
  {
   "cell_type": "markdown",
   "id": "d5102f44",
   "metadata": {},
   "source": [
    "## 10. What is the best way to remove whitespace characters from the start or end?\n",
    "### Ans :- \n",
    "- Using strip() method"
   ]
  },
  {
   "cell_type": "code",
   "execution_count": 16,
   "id": "c87baeee",
   "metadata": {},
   "outputs": [
    {
     "name": "stdout",
     "output_type": "stream",
     "text": [
      "     we will get back to you      -->  32\n",
      "we will get back to you  -->  23\n"
     ]
    }
   ],
   "source": [
    "str = \"     we will get back to you    \"\n",
    "print(str,\" --> \",len(str))\n",
    "print(str.strip(),\" --> \",len(str.strip()))"
   ]
  }
 ],
 "metadata": {
  "kernelspec": {
   "display_name": "Python 3 (ipykernel)",
   "language": "python",
   "name": "python3"
  },
  "language_info": {
   "codemirror_mode": {
    "name": "ipython",
    "version": 3
   },
   "file_extension": ".py",
   "mimetype": "text/x-python",
   "name": "python",
   "nbconvert_exporter": "python",
   "pygments_lexer": "ipython3",
   "version": "3.10.9"
  }
 },
 "nbformat": 4,
 "nbformat_minor": 5
}
