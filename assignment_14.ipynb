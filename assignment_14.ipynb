{
 "cells": [
  {
   "cell_type": "markdown",
   "id": "eaec896a",
   "metadata": {},
   "source": [
    "## 1. What does RGBA stand for?\n",
    "### Ans :- \n",
    "- RGBA(Red-Green-Blue-Alpha)\n",
    "- The RGB color model is extended in this specification to include “alpha” to allow specification of the opacity of a color."
   ]
  },
  {
   "cell_type": "markdown",
   "id": "b7375770",
   "metadata": {},
   "source": [
    "## 2. From the Pillow module, how do you get the RGBA value of any images?\n",
    "### Ans :- \n",
    "- Pillow offers the ImageColor. getcolor() function so you don't have to memorize RGBA values for the colors you want to use. This function takes a color name string as its first argument, and the string 'RGBA' as its second argument, and it returns an RGBA tuple."
   ]
  },
  {
   "cell_type": "markdown",
   "id": "8738186f",
   "metadata": {},
   "source": [
    "## 3. What is a box tuple, and how does it work?\n",
    "### Ans :-\n",
    "- The box. tuple submodule provides read-only access for the tuple userdata type. It allows, for a single tuple: selective retrieval of the field contents, retrieval of information about size, iteration over all the fields, and conversion to a Lua table."
   ]
  },
  {
   "cell_type": "markdown",
   "id": "1d845b69",
   "metadata": {},
   "source": [
    "## 4. Use your image and load in notebook then, How can you find out the width and height of an Image object?\n"
   ]
  },
  {
   "cell_type": "code",
   "execution_count": 8,
   "id": "125de03e",
   "metadata": {},
   "outputs": [
    {
     "name": "stdout",
     "output_type": "stream",
     "text": [
      "Requirement already satisfied: pillow in c:\\users\\suresh\\anaconda3\\lib\\site-packages (9.4.0)\n",
      "Note: you may need to restart the kernel to use updated packages.\n"
     ]
    }
   ],
   "source": [
    "pip install pillow\n"
   ]
  },
  {
   "cell_type": "code",
   "execution_count": 9,
   "id": "c180a980",
   "metadata": {},
   "outputs": [
    {
     "name": "stdout",
     "output_type": "stream",
     "text": [
      "The height of the image is:  361\n",
      "The width of the image is:  633\n"
     ]
    }
   ],
   "source": [
    "# import required module\n",
    "from PIL import Image\n",
    "  \n",
    "# get image\n",
    "filepath = \"src.png\"\n",
    "img = Image.open(filepath)\n",
    "  \n",
    "# get width and height\n",
    "width = img.width\n",
    "height = img.height\n",
    "  \n",
    "# display width and height\n",
    "print(\"The height of the image is: \", height)\n",
    "print(\"The width of the image is: \", width)"
   ]
  },
  {
   "cell_type": "markdown",
   "id": "c83eebdc",
   "metadata": {},
   "source": [
    "## 5. What method would you call to get Image object for a 100×100 image, excluding the lower-left quarter of it?\n"
   ]
  },
  {
   "cell_type": "code",
   "execution_count": 13,
   "id": "75f17799",
   "metadata": {},
   "outputs": [],
   "source": [
    "# Assuming that you have an existing Image object for the 100x100 image, one possible method to exclude the lower-left quarter of it is to use the crop() method of the Image object. Here's an example code snippet using the Python Imaging Library (PIL):\n",
    "\n",
    "from PIL import Image\n",
    "\n",
    "# Open the original image\n",
    "\n",
    "img = Image.open(\"src.png\")\n",
    "\n",
    "# Crop the image to exclude the lower-left quarter\n",
    "\n",
    "cropped_img = img.crop((0, 50, 50, 100))\n",
    "\n",
    "# Display the cropped image\n",
    "\n",
    "cropped_img.show()"
   ]
  },
  {
   "cell_type": "markdown",
   "id": "547738e4",
   "metadata": {},
   "source": [
    "## 6. After making changes to an Image object, how could you save it as an image file?\n",
    "### Ans :-\n",
    "- Image.save() Saves this image under the given filename. If no format is specified, the format to use is determined from the filename extension\n",
    "- Syntax: Image.save(fp, format=None, **params)\n",
    "\n",
    "- Parameters:\n",
    "\n",
    "- fp – A filename (string), pathlib.Path object or file object.\n",
    "- format – Optional format override. If omitted, the format to use is determined from the filename extension. If a file object was used instead of a filename, this parameter should always be used.\n",
    "- options – Extra parameters to the image writer.\n",
    "\n",
    "- Returns: None\n",
    "\n",
    "- Raises:\n",
    "\n",
    "- KeyError – If the output format could not be determined from the file name. Use the format option to solve this.\n",
    "- IOError – If the file could not be written. The file may have been created, and may contain partial data."
   ]
  },
  {
   "cell_type": "markdown",
   "id": "d4245cef",
   "metadata": {},
   "source": [
    "## 7. What module contains Pillow’s shape-drawing code?\n",
    "### Ans :-\n",
    "- The 'ImageDraw' module provides simple 2D graphics support for Image Object. Generally, we use this module to create new images, annotate or retouch existing images and to generate graphics on the fly for web use. The graphics commands support the drawing of shapes and annotation of text."
   ]
  },
  {
   "cell_type": "markdown",
   "id": "6e6e5fdc",
   "metadata": {},
   "source": [
    "## 8. Image objects do not have drawing methods. What kind of object does? How do you get this kind of object?\n",
    "### Ans :-\n",
    "- Python’s Pillow which is a fork of the discontinued Python Imaging Library (PIL) is a powerful library that is capable of adding image processing capabilities to your python code. Pillow offers many modules that ease the process of working and modifying images.\n",
    "\n",
    "- In this article, we will have a look at the ImageDraw module of this library. ImageDraw provides a variety of methods to, as its name suggests, draw on images. With the help of this module, we can draw lines, circles, rectangles and, even write and format text on an image."
   ]
  }
 ],
 "metadata": {
  "kernelspec": {
   "display_name": "Python 3 (ipykernel)",
   "language": "python",
   "name": "python3"
  },
  "language_info": {
   "codemirror_mode": {
    "name": "ipython",
    "version": 3
   },
   "file_extension": ".py",
   "mimetype": "text/x-python",
   "name": "python",
   "nbconvert_exporter": "python",
   "pygments_lexer": "ipython3",
   "version": "3.10.9"
  }
 },
 "nbformat": 4,
 "nbformat_minor": 5
}
