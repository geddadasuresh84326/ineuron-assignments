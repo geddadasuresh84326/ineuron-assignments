{
 "cells": [
  {
   "cell_type": "markdown",
   "id": "44bb756a",
   "metadata": {},
   "source": [
    "## Q1. Describe three applications for exception processing.\n",
    "### Ans :- \n",
    "- Exceptions are raised when the program is syntactically correct, but the code resulted in an error. This error does not stop the execution of the program, however, it changes the normal flow of the program."
   ]
  },
  {
   "cell_type": "code",
   "execution_count": 1,
   "id": "2b4bdc27",
   "metadata": {},
   "outputs": [
    {
     "name": "stdout",
     "output_type": "stream",
     "text": [
      "Enter a:3\n",
      "Enter b:2\n",
      "a/b =  1.5\n",
      "This is else block and executed when code in try excetues without any exception\n"
     ]
    }
   ],
   "source": [
    "def div(a,b):   \n",
    "    try: \n",
    "        # code executes here        \n",
    "        c = a/b  \n",
    "        print(\"a/b = \",c)    \n",
    "        # Using exception object with the except statement  \n",
    "    except Exception as e:    \n",
    "        print(e)  \n",
    "        return \"can't divide by zero\"\n",
    "    else:    \n",
    "        return \"This is else block and executed when code in try excetues without any exception\"\n",
    "        \n",
    "a = int(input(\"Enter a:\"))    \n",
    "b = int(input(\"Enter b:\"))           \n",
    "print(div(a,b))"
   ]
  },
  {
   "cell_type": "code",
   "execution_count": 2,
   "id": "0bcbb471",
   "metadata": {},
   "outputs": [
    {
     "name": "stdout",
     "output_type": "stream",
     "text": [
      "[Errno 2] No such file or directory: 'sample.txt'\n",
      "Program is not interrupted\n"
     ]
    }
   ],
   "source": [
    "try:\n",
    "    f = open('sample.txt','r')\n",
    "except Exception as e:\n",
    "    print(e)\n",
    "else:\n",
    "    print(\"File opened successfully\")\n",
    "    f.close()\n",
    "    \n",
    "print('Program is not interrupted')    "
   ]
  },
  {
   "cell_type": "code",
   "execution_count": 3,
   "id": "3af55e54",
   "metadata": {},
   "outputs": [
    {
     "name": "stdout",
     "output_type": "stream",
     "text": [
      "Excepton!!\n"
     ]
    }
   ],
   "source": [
    "try:\n",
    "    raise NameError('akash')\n",
    "except NameError as e:\n",
    "    print(\"Excepton!!\")"
   ]
  },
  {
   "cell_type": "markdown",
   "id": "52291057",
   "metadata": {},
   "source": [
    "## Q2. What happens if you don&#39;t do something extra to treat an exception?\n",
    "### Ans :-\n",
    "- Whenever an exception occurs, the program stops the execution, and thus the further code is not executed. Therefore, an exception is the run-time errors that are unable to handle to Python script. An exception is a Python object that represents an error\n",
    "\n"
   ]
  },
  {
   "cell_type": "markdown",
   "id": "0f86d854",
   "metadata": {},
   "source": [
    "## Q3. What are your options for recovering from an exception in your script?\n",
    "### Ans :- \n",
    "- In except block, we write a code to handle exception and next set of actions."
   ]
  },
  {
   "cell_type": "code",
   "execution_count": 4,
   "id": "0bc3503a",
   "metadata": {},
   "outputs": [
    {
     "name": "stdout",
     "output_type": "stream",
     "text": [
      "Enter an integer value::as\n",
      "invalid literal for int() with base 10: 'as'\n",
      "Please enter an integer value\n",
      "Yayy i always executes!!\n",
      "Enter an integer value::6\n",
      "Yes you have entered an ineger 6\n",
      "Yayy i always executes!!\n"
     ]
    }
   ],
   "source": [
    "def askint():\n",
    "    while True:\n",
    "        try:\n",
    "            a = int(input('Enter an integer value::'))\n",
    "        except Exception as e:\n",
    "            print(e)\n",
    "            print('Please enter an integer value')\n",
    "            continue\n",
    "        else:\n",
    "            print(f'Yes you have entered an ineger {a}')\n",
    "            break\n",
    "        finally:\n",
    "            print('Yayy i always executes!!')\n",
    "        \n",
    "askint() "
   ]
  },
  {
   "cell_type": "markdown",
   "id": "041b5001",
   "metadata": {},
   "source": [
    "## Q4. Describe two methods for triggering exceptions in your script.\n",
    "### Ans :- \n",
    "- Try statement – This method throws the exceptions when the code within try is executed.\n",
    "\n",
    "- Raise – Triggers an exception manually using custom exceptions.\n",
    "\n",
    "- Examples are already explained above."
   ]
  },
  {
   "cell_type": "markdown",
   "id": "917b09d3",
   "metadata": {},
   "source": [
    "## Q5. Identify two methods for specifying actions to be executed at termination time, regardless of whether or not an exception exists."
   ]
  },
  {
   "cell_type": "markdown",
   "id": "3d495647",
   "metadata": {},
   "source": [
    "- In else block, code is written to handle if no exception is raised by code in try block.\n",
    "\n",
    "- In finally block, code executes regardless of whether or not an exception exists."
   ]
  }
 ],
 "metadata": {
  "kernelspec": {
   "display_name": "Python 3 (ipykernel)",
   "language": "python",
   "name": "python3"
  },
  "language_info": {
   "codemirror_mode": {
    "name": "ipython",
    "version": 3
   },
   "file_extension": ".py",
   "mimetype": "text/x-python",
   "name": "python",
   "nbconvert_exporter": "python",
   "pygments_lexer": "ipython3",
   "version": "3.10.9"
  }
 },
 "nbformat": 4,
 "nbformat_minor": 5
}
